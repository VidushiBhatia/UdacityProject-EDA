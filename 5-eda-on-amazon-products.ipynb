{
 "cells": [
  {
   "cell_type": "markdown",
   "metadata": {},
   "source": [
    "# Project: Write a Data Science Blog Post"
   ]
  },
  {
   "cell_type": "code",
   "execution_count": 1,
   "metadata": {
    "_cell_guid": "b1076dfc-b9ad-4769-8c92-a6c4dae69d19",
    "_uuid": "8f2839f25d086af736a60e9eeb907d3b93b6e0e5",
    "execution": {
     "iopub.execute_input": "2022-03-13T13:26:46.262421Z",
     "iopub.status.busy": "2022-03-13T13:26:46.261942Z",
     "iopub.status.idle": "2022-03-13T13:26:47.440399Z",
     "shell.execute_reply": "2022-03-13T13:26:47.439755Z",
     "shell.execute_reply.started": "2022-03-13T13:26:46.26231Z"
    }
   },
   "outputs": [],
   "source": [
    "# install required packages\n",
    "\n",
    "import numpy as np \n",
    "import pandas as pd \n",
    "import os\n",
    "import seaborn as sns\n",
    "from xgboost import XGBClassifier\n",
    "import matplotlib.pyplot as plt\n",
    "from datetime import datetime\n",
    "from sklearn.metrics import f1_score\n",
    "from sklearn.feature_extraction.text import CountVectorizer\n",
    "from sklearn.feature_extraction.text import TfidfTransformer\n",
    "from sklearn.naive_bayes import MultinomialNB\n",
    "from sklearn.pipeline import Pipeline\n",
    "from sklearn.model_selection import train_test_split\n",
    "from scipy import stats\n",
    "from wordcloud import WordCloud, STOPWORDS\n",
    "from PIL import Image\n",
    "import warnings\n",
    "warnings.filterwarnings('ignore')"
   ]
  },
  {
   "cell_type": "markdown",
   "metadata": {},
   "source": [
    "# Sec A: Business Understanding\n",
    "\n",
    "Amazon has millions of products sold on its websites and the concerned dataset from Kaggle contains over 10,000 different products at Amazon and its information, customer reviews, etc. The questions I explore are mentioned below:\n",
    "\n",
    "- Question 1: What are the most popular brands?\n",
    "- Question 2: What are some keywords that are repeatedly used by brands in descriptions?\n",
    "- Question 3: Can we predict the amazon categories just using the description?"
   ]
  },
  {
   "cell_type": "markdown",
   "metadata": {},
   "source": [
    "# Sec B: Data Understanding\n",
    "    \n",
    "Access data and get an overview of the uploaded dataset"
   ]
  },
  {
   "cell_type": "code",
   "execution_count": 2,
   "metadata": {
    "execution": {
     "iopub.execute_input": "2022-03-13T13:26:47.442026Z",
     "iopub.status.busy": "2022-03-13T13:26:47.441708Z",
     "iopub.status.idle": "2022-03-13T13:26:49.177547Z",
     "shell.execute_reply": "2022-03-13T13:26:49.176961Z",
     "shell.execute_reply.started": "2022-03-13T13:26:47.441998Z"
    }
   },
   "outputs": [
    {
     "data": {
      "text/html": [
       "<div>\n",
       "<style scoped>\n",
       "    .dataframe tbody tr th:only-of-type {\n",
       "        vertical-align: middle;\n",
       "    }\n",
       "\n",
       "    .dataframe tbody tr th {\n",
       "        vertical-align: top;\n",
       "    }\n",
       "\n",
       "    .dataframe thead th {\n",
       "        text-align: right;\n",
       "    }\n",
       "</style>\n",
       "<table border=\"1\" class=\"dataframe\">\n",
       "  <thead>\n",
       "    <tr style=\"text-align: right;\">\n",
       "      <th></th>\n",
       "      <th>uniq_id</th>\n",
       "      <th>product_name</th>\n",
       "      <th>manufacturer</th>\n",
       "      <th>price</th>\n",
       "      <th>number_available_in_stock</th>\n",
       "      <th>number_of_reviews</th>\n",
       "      <th>number_of_answered_questions</th>\n",
       "      <th>average_review_rating</th>\n",
       "      <th>amazon_category_and_sub_category</th>\n",
       "      <th>description</th>\n",
       "      <th>...</th>\n",
       "      <th>Unnamed: 885</th>\n",
       "      <th>Unnamed: 886</th>\n",
       "      <th>Unnamed: 887</th>\n",
       "      <th>Unnamed: 888</th>\n",
       "      <th>Unnamed: 889</th>\n",
       "      <th>Unnamed: 890</th>\n",
       "      <th>Unnamed: 891</th>\n",
       "      <th>Unnamed: 892</th>\n",
       "      <th>Unnamed: 893</th>\n",
       "      <th>Unnamed: 894</th>\n",
       "    </tr>\n",
       "  </thead>\n",
       "  <tbody>\n",
       "    <tr>\n",
       "      <th>0</th>\n",
       "      <td>eac7efa5dbd3d667f26eb3d3ab504464</td>\n",
       "      <td>Hornby 2014 Catalogue</td>\n",
       "      <td>Hornby</td>\n",
       "      <td>£3.42</td>\n",
       "      <td>5 new</td>\n",
       "      <td>15</td>\n",
       "      <td>1</td>\n",
       "      <td>4.9 out of 5 stars</td>\n",
       "      <td>Hobbies &gt; Model Trains &amp; Railway Sets &gt; Rail V...</td>\n",
       "      <td>Product Description Hornby 2014 Catalogue Box ...</td>\n",
       "      <td>...</td>\n",
       "      <td>NaN</td>\n",
       "      <td>NaN</td>\n",
       "      <td>NaN</td>\n",
       "      <td>NaN</td>\n",
       "      <td>NaN</td>\n",
       "      <td>NaN</td>\n",
       "      <td>NaN</td>\n",
       "      <td>NaN</td>\n",
       "      <td>NaN</td>\n",
       "      <td>NaN</td>\n",
       "    </tr>\n",
       "    <tr>\n",
       "      <th>1</th>\n",
       "      <td>b17540ef7e86e461d37f3ae58b7b72ac</td>\n",
       "      <td>FunkyBuys® Large Christmas Holiday Express Fes...</td>\n",
       "      <td>FunkyBuys</td>\n",
       "      <td>£16.99</td>\n",
       "      <td>NaN</td>\n",
       "      <td>2</td>\n",
       "      <td>1</td>\n",
       "      <td>4.5 out of 5 stars</td>\n",
       "      <td>Hobbies &gt; Model Trains &amp; Railway Sets &gt; Rail V...</td>\n",
       "      <td>Size Name:Large FunkyBuys® Large Christmas Hol...</td>\n",
       "      <td>...</td>\n",
       "      <td>NaN</td>\n",
       "      <td>NaN</td>\n",
       "      <td>NaN</td>\n",
       "      <td>NaN</td>\n",
       "      <td>NaN</td>\n",
       "      <td>NaN</td>\n",
       "      <td>NaN</td>\n",
       "      <td>NaN</td>\n",
       "      <td>NaN</td>\n",
       "      <td>NaN</td>\n",
       "    </tr>\n",
       "    <tr>\n",
       "      <th>2</th>\n",
       "      <td>348f344247b0c1a935b1223072ef9d8a</td>\n",
       "      <td>CLASSIC TOY TRAIN SET TRACK CARRIAGES LIGHT EN...</td>\n",
       "      <td>ccf</td>\n",
       "      <td>£9.99</td>\n",
       "      <td>2 new</td>\n",
       "      <td>17</td>\n",
       "      <td>2</td>\n",
       "      <td>3.9 out of 5 stars</td>\n",
       "      <td>Hobbies &gt; Model Trains &amp; Railway Sets &gt; Rail V...</td>\n",
       "      <td>BIG CLASSIC TOY TRAIN SET TRACK CARRIAGE LIGHT...</td>\n",
       "      <td>...</td>\n",
       "      <td>NaN</td>\n",
       "      <td>NaN</td>\n",
       "      <td>NaN</td>\n",
       "      <td>NaN</td>\n",
       "      <td>NaN</td>\n",
       "      <td>NaN</td>\n",
       "      <td>NaN</td>\n",
       "      <td>NaN</td>\n",
       "      <td>NaN</td>\n",
       "      <td>NaN</td>\n",
       "    </tr>\n",
       "    <tr>\n",
       "      <th>3</th>\n",
       "      <td>e12b92dbb8eaee78b22965d2a9bbbd9f</td>\n",
       "      <td>HORNBY Coach R4410A BR Hawksworth Corridor 3rd</td>\n",
       "      <td>Hornby</td>\n",
       "      <td>£39.99</td>\n",
       "      <td>NaN</td>\n",
       "      <td>1</td>\n",
       "      <td>2</td>\n",
       "      <td>5.0 out of 5 stars</td>\n",
       "      <td>Hobbies &gt; Model Trains &amp; Railway Sets &gt; Rail V...</td>\n",
       "      <td>Hornby 00 Gauge BR Hawksworth 3rd Class W 2107...</td>\n",
       "      <td>...</td>\n",
       "      <td>NaN</td>\n",
       "      <td>NaN</td>\n",
       "      <td>NaN</td>\n",
       "      <td>NaN</td>\n",
       "      <td>NaN</td>\n",
       "      <td>NaN</td>\n",
       "      <td>NaN</td>\n",
       "      <td>NaN</td>\n",
       "      <td>NaN</td>\n",
       "      <td>NaN</td>\n",
       "    </tr>\n",
       "    <tr>\n",
       "      <th>4</th>\n",
       "      <td>e33a9adeed5f36840ccc227db4682a36</td>\n",
       "      <td>Hornby 00 Gauge 0-4-0 Gildenlow Salt Co. Steam...</td>\n",
       "      <td>Hornby</td>\n",
       "      <td>£32.19</td>\n",
       "      <td>NaN</td>\n",
       "      <td>3</td>\n",
       "      <td>2</td>\n",
       "      <td>4.7 out of 5 stars</td>\n",
       "      <td>Hobbies &gt; Model Trains &amp; Railway Sets &gt; Rail V...</td>\n",
       "      <td>Product Description Hornby RailRoad 0-4-0 Gild...</td>\n",
       "      <td>...</td>\n",
       "      <td>NaN</td>\n",
       "      <td>NaN</td>\n",
       "      <td>NaN</td>\n",
       "      <td>NaN</td>\n",
       "      <td>NaN</td>\n",
       "      <td>NaN</td>\n",
       "      <td>NaN</td>\n",
       "      <td>NaN</td>\n",
       "      <td>NaN</td>\n",
       "      <td>NaN</td>\n",
       "    </tr>\n",
       "  </tbody>\n",
       "</table>\n",
       "<p>5 rows × 895 columns</p>\n",
       "</div>"
      ],
      "text/plain": [
       "                            uniq_id  \\\n",
       "0  eac7efa5dbd3d667f26eb3d3ab504464   \n",
       "1  b17540ef7e86e461d37f3ae58b7b72ac   \n",
       "2  348f344247b0c1a935b1223072ef9d8a   \n",
       "3  e12b92dbb8eaee78b22965d2a9bbbd9f   \n",
       "4  e33a9adeed5f36840ccc227db4682a36   \n",
       "\n",
       "                                        product_name manufacturer   price  \\\n",
       "0                              Hornby 2014 Catalogue       Hornby   £3.42   \n",
       "1  FunkyBuys® Large Christmas Holiday Express Fes...    FunkyBuys  £16.99   \n",
       "2  CLASSIC TOY TRAIN SET TRACK CARRIAGES LIGHT EN...          ccf   £9.99   \n",
       "3     HORNBY Coach R4410A BR Hawksworth Corridor 3rd       Hornby  £39.99   \n",
       "4  Hornby 00 Gauge 0-4-0 Gildenlow Salt Co. Steam...       Hornby  £32.19   \n",
       "\n",
       "  number_available_in_stock number_of_reviews number_of_answered_questions  \\\n",
       "0                     5 new                15                            1   \n",
       "1                       NaN                 2                            1   \n",
       "2                     2 new                17                            2   \n",
       "3                       NaN                 1                            2   \n",
       "4                       NaN                 3                            2   \n",
       "\n",
       "  average_review_rating                   amazon_category_and_sub_category  \\\n",
       "0    4.9 out of 5 stars  Hobbies > Model Trains & Railway Sets > Rail V...   \n",
       "1    4.5 out of 5 stars  Hobbies > Model Trains & Railway Sets > Rail V...   \n",
       "2    3.9 out of 5 stars  Hobbies > Model Trains & Railway Sets > Rail V...   \n",
       "3    5.0 out of 5 stars  Hobbies > Model Trains & Railway Sets > Rail V...   \n",
       "4    4.7 out of 5 stars  Hobbies > Model Trains & Railway Sets > Rail V...   \n",
       "\n",
       "                                         description  ... Unnamed: 885  \\\n",
       "0  Product Description Hornby 2014 Catalogue Box ...  ...          NaN   \n",
       "1  Size Name:Large FunkyBuys® Large Christmas Hol...  ...          NaN   \n",
       "2  BIG CLASSIC TOY TRAIN SET TRACK CARRIAGE LIGHT...  ...          NaN   \n",
       "3  Hornby 00 Gauge BR Hawksworth 3rd Class W 2107...  ...          NaN   \n",
       "4  Product Description Hornby RailRoad 0-4-0 Gild...  ...          NaN   \n",
       "\n",
       "  Unnamed: 886 Unnamed: 887 Unnamed: 888 Unnamed: 889 Unnamed: 890  \\\n",
       "0          NaN          NaN          NaN          NaN          NaN   \n",
       "1          NaN          NaN          NaN          NaN          NaN   \n",
       "2          NaN          NaN          NaN          NaN          NaN   \n",
       "3          NaN          NaN          NaN          NaN          NaN   \n",
       "4          NaN          NaN          NaN          NaN          NaN   \n",
       "\n",
       "  Unnamed: 891 Unnamed: 892 Unnamed: 893 Unnamed: 894  \n",
       "0          NaN          NaN          NaN          NaN  \n",
       "1          NaN          NaN          NaN          NaN  \n",
       "2          NaN          NaN          NaN          NaN  \n",
       "3          NaN          NaN          NaN          NaN  \n",
       "4          NaN          NaN          NaN          NaN  \n",
       "\n",
       "[5 rows x 895 columns]"
      ]
     },
     "metadata": {},
     "output_type": "display_data"
    },
    {
     "data": {
      "text/plain": [
       "(10004, 895)"
      ]
     },
     "execution_count": 2,
     "metadata": {},
     "output_type": "execute_result"
    }
   ],
   "source": [
    "# read database and store in a dataframe variable\n",
    "def read(path='./Amazon_Products.csv'):\n",
    "    df = pd.read_csv(path, dtype=str)\n",
    "    display(df.head())\n",
    "    return df\n",
    "\n",
    "df = read()\n",
    "df.shape"
   ]
  },
  {
   "cell_type": "code",
   "execution_count": 3,
   "metadata": {},
   "outputs": [
    {
     "data": {
      "text/html": [
       "<div>\n",
       "<style scoped>\n",
       "    .dataframe tbody tr th:only-of-type {\n",
       "        vertical-align: middle;\n",
       "    }\n",
       "\n",
       "    .dataframe tbody tr th {\n",
       "        vertical-align: top;\n",
       "    }\n",
       "\n",
       "    .dataframe thead th {\n",
       "        text-align: right;\n",
       "    }\n",
       "</style>\n",
       "<table border=\"1\" class=\"dataframe\">\n",
       "  <thead>\n",
       "    <tr style=\"text-align: right;\">\n",
       "      <th></th>\n",
       "      <th>uniq_id</th>\n",
       "      <th>product_name</th>\n",
       "      <th>manufacturer</th>\n",
       "      <th>price</th>\n",
       "      <th>number_available_in_stock</th>\n",
       "      <th>number_of_reviews</th>\n",
       "      <th>number_of_answered_questions</th>\n",
       "      <th>average_review_rating</th>\n",
       "      <th>amazon_category_and_sub_category</th>\n",
       "      <th>description</th>\n",
       "      <th>...</th>\n",
       "      <th>Unnamed: 885</th>\n",
       "      <th>Unnamed: 886</th>\n",
       "      <th>Unnamed: 887</th>\n",
       "      <th>Unnamed: 888</th>\n",
       "      <th>Unnamed: 889</th>\n",
       "      <th>Unnamed: 890</th>\n",
       "      <th>Unnamed: 891</th>\n",
       "      <th>Unnamed: 892</th>\n",
       "      <th>Unnamed: 893</th>\n",
       "      <th>Unnamed: 894</th>\n",
       "    </tr>\n",
       "  </thead>\n",
       "  <tbody>\n",
       "    <tr>\n",
       "      <th>count</th>\n",
       "      <td>10002</td>\n",
       "      <td>10002</td>\n",
       "      <td>9995</td>\n",
       "      <td>8567</td>\n",
       "      <td>7502</td>\n",
       "      <td>9984</td>\n",
       "      <td>9237</td>\n",
       "      <td>9984</td>\n",
       "      <td>9312</td>\n",
       "      <td>9351</td>\n",
       "      <td>...</td>\n",
       "      <td>2</td>\n",
       "      <td>2</td>\n",
       "      <td>2</td>\n",
       "      <td>2</td>\n",
       "      <td>2</td>\n",
       "      <td>2</td>\n",
       "      <td>2</td>\n",
       "      <td>2</td>\n",
       "      <td>1</td>\n",
       "      <td>1</td>\n",
       "    </tr>\n",
       "    <tr>\n",
       "      <th>unique</th>\n",
       "      <td>10001</td>\n",
       "      <td>9965</td>\n",
       "      <td>2652</td>\n",
       "      <td>2626</td>\n",
       "      <td>90</td>\n",
       "      <td>195</td>\n",
       "      <td>20</td>\n",
       "      <td>20</td>\n",
       "      <td>256</td>\n",
       "      <td>8514</td>\n",
       "      <td>...</td>\n",
       "      <td>1</td>\n",
       "      <td>1</td>\n",
       "      <td>1</td>\n",
       "      <td>1</td>\n",
       "      <td>1</td>\n",
       "      <td>1</td>\n",
       "      <td>2</td>\n",
       "      <td>2</td>\n",
       "      <td>1</td>\n",
       "      <td>1</td>\n",
       "    </tr>\n",
       "    <tr>\n",
       "      <th>top</th>\n",
       "      <td>}</td>\n",
       "      <td>Polyhedral Dice</td>\n",
       "      <td>LEGO</td>\n",
       "      <td>£9.99</td>\n",
       "      <td>2 new</td>\n",
       "      <td>1</td>\n",
       "      <td>1</td>\n",
       "      <td>5.0 out of 5 stars</td>\n",
       "      <td>Die-Cast &amp; Toy Vehicles &gt; Toy Vehicles &amp; Acces...</td>\n",
       "      <td>Welcome to k2, we offer combined items postage...</td>\n",
       "      <td>...</td>\n",
       "      <td>http://z-ecx.images-amazon.com/images/G/01/AUI...</td>\n",
       "      <td>https://images-eu.ssl-images-amazon.com/images...</td>\n",
       "      <td>http://z-ecx.images-amazon.com/images/G/01/AUI...</td>\n",
       "      <td>http://z-ecx.images-amazon.com/images/G/01/AUI...</td>\n",
       "      <td>https://images-eu.ssl-images-amazon.com/images...</td>\n",
       "      <td>http://z-ecx.images-amazon.com/images/G/01/AUI...</td>\n",
       "      <td>Technical Details Item Weight5 Kg Product Dime...</td>\n",
       "      <td>Product Description Manufacturer's Description...</td>\n",
       "      <td>Dalek Toys come of age at last!!!! // 5.0 // 7...</td>\n",
       "      <td>{\"seller\"=&gt;[{\"Seller_name_1\"=&gt;\"gifttogadget\", ...</td>\n",
       "    </tr>\n",
       "    <tr>\n",
       "      <th>freq</th>\n",
       "      <td>2</td>\n",
       "      <td>3</td>\n",
       "      <td>171</td>\n",
       "      <td>189</td>\n",
       "      <td>1337</td>\n",
       "      <td>4315</td>\n",
       "      <td>6435</td>\n",
       "      <td>5140</td>\n",
       "      <td>880</td>\n",
       "      <td>113</td>\n",
       "      <td>...</td>\n",
       "      <td>2</td>\n",
       "      <td>2</td>\n",
       "      <td>2</td>\n",
       "      <td>2</td>\n",
       "      <td>2</td>\n",
       "      <td>2</td>\n",
       "      <td>1</td>\n",
       "      <td>1</td>\n",
       "      <td>1</td>\n",
       "      <td>1</td>\n",
       "    </tr>\n",
       "  </tbody>\n",
       "</table>\n",
       "<p>4 rows × 895 columns</p>\n",
       "</div>"
      ],
      "text/plain": [
       "       uniq_id     product_name manufacturer  price number_available_in_stock  \\\n",
       "count    10002            10002         9995   8567                      7502   \n",
       "unique   10001             9965         2652   2626                        90   \n",
       "top          }  Polyhedral Dice         LEGO  £9.99                     2 new   \n",
       "freq         2                3          171    189                      1337   \n",
       "\n",
       "       number_of_reviews number_of_answered_questions average_review_rating  \\\n",
       "count               9984                         9237                  9984   \n",
       "unique               195                           20                    20   \n",
       "top                    1                            1    5.0 out of 5 stars   \n",
       "freq                4315                         6435                  5140   \n",
       "\n",
       "                         amazon_category_and_sub_category  \\\n",
       "count                                                9312   \n",
       "unique                                                256   \n",
       "top     Die-Cast & Toy Vehicles > Toy Vehicles & Acces...   \n",
       "freq                                                  880   \n",
       "\n",
       "                                              description  ...  \\\n",
       "count                                                9351  ...   \n",
       "unique                                               8514  ...   \n",
       "top     Welcome to k2, we offer combined items postage...  ...   \n",
       "freq                                                  113  ...   \n",
       "\n",
       "                                             Unnamed: 885  \\\n",
       "count                                                   2   \n",
       "unique                                                  1   \n",
       "top     http://z-ecx.images-amazon.com/images/G/01/AUI...   \n",
       "freq                                                    2   \n",
       "\n",
       "                                             Unnamed: 886  \\\n",
       "count                                                   2   \n",
       "unique                                                  1   \n",
       "top     https://images-eu.ssl-images-amazon.com/images...   \n",
       "freq                                                    2   \n",
       "\n",
       "                                             Unnamed: 887  \\\n",
       "count                                                   2   \n",
       "unique                                                  1   \n",
       "top     http://z-ecx.images-amazon.com/images/G/01/AUI...   \n",
       "freq                                                    2   \n",
       "\n",
       "                                             Unnamed: 888  \\\n",
       "count                                                   2   \n",
       "unique                                                  1   \n",
       "top     http://z-ecx.images-amazon.com/images/G/01/AUI...   \n",
       "freq                                                    2   \n",
       "\n",
       "                                             Unnamed: 889  \\\n",
       "count                                                   2   \n",
       "unique                                                  1   \n",
       "top     https://images-eu.ssl-images-amazon.com/images...   \n",
       "freq                                                    2   \n",
       "\n",
       "                                             Unnamed: 890  \\\n",
       "count                                                   2   \n",
       "unique                                                  1   \n",
       "top     http://z-ecx.images-amazon.com/images/G/01/AUI...   \n",
       "freq                                                    2   \n",
       "\n",
       "                                             Unnamed: 891  \\\n",
       "count                                                   2   \n",
       "unique                                                  2   \n",
       "top     Technical Details Item Weight5 Kg Product Dime...   \n",
       "freq                                                    1   \n",
       "\n",
       "                                             Unnamed: 892  \\\n",
       "count                                                   2   \n",
       "unique                                                  2   \n",
       "top     Product Description Manufacturer's Description...   \n",
       "freq                                                    1   \n",
       "\n",
       "                                             Unnamed: 893  \\\n",
       "count                                                   1   \n",
       "unique                                                  1   \n",
       "top     Dalek Toys come of age at last!!!! // 5.0 // 7...   \n",
       "freq                                                    1   \n",
       "\n",
       "                                             Unnamed: 894  \n",
       "count                                                   1  \n",
       "unique                                                  1  \n",
       "top     {\"seller\"=>[{\"Seller_name_1\"=>\"gifttogadget\", ...  \n",
       "freq                                                    1  \n",
       "\n",
       "[4 rows x 895 columns]"
      ]
     },
     "execution_count": 3,
     "metadata": {},
     "output_type": "execute_result"
    }
   ],
   "source": [
    "df.describe()"
   ]
  },
  {
   "cell_type": "markdown",
   "metadata": {},
   "source": [
    "## Sec C: Prepare Data / Data Cleaning\n",
    "\n",
    "There are a wide variety of columns available in the dataset which will need to be looked at one at a time. Upon a quick look, it seems like most of the columns starting with \"Unnamed\" are not useful and can be deleted."
   ]
  },
  {
   "cell_type": "code",
   "execution_count": 4,
   "metadata": {
    "execution": {
     "iopub.execute_input": "2022-03-13T13:26:49.17888Z",
     "iopub.status.busy": "2022-03-13T13:26:49.178564Z",
     "iopub.status.idle": "2022-03-13T13:26:49.185455Z",
     "shell.execute_reply": "2022-03-13T13:26:49.184862Z",
     "shell.execute_reply.started": "2022-03-13T13:26:49.178854Z"
    }
   },
   "outputs": [],
   "source": [
    "# function to summarize any column\n",
    "def ColSummary (col, dtype=None, new_col=None):\n",
    "    try:\n",
    "        print(\"\\n\"+str(col).upper()+\" ANALYSIS\")\n",
    "        if new_col:\n",
    "            df.rename(columns={col:new_col})\n",
    "            print(\"\\t\"+col+\" name updated to \"+new_col)\n",
    "            col = new_col\n",
    "        if dtype:\n",
    "            df[col] = df[col].astype(dtype)\n",
    "            print(\"\\tType changed to \"+dtype)\n",
    "        print('\\tTotal number of values : ', len(df[col]))\n",
    "        print('\\tTotal number of unique values : ', df[col].nunique())\n",
    "        print('\\tUnique values : ',df[col].unique()[:5])\n",
    "        print('\\tRange of length : ', min(df[col].apply(lambda x: len(str(x)))),\" to \",max(df[col].apply(lambda x: len(str(x)))))\n",
    "        print('\\tMissing Values : ', df[col].isna().sum())\n",
    "    except:\n",
    "        print(\"\\n*** Cannot work with this datatype.. Try Again.... ***\")"
   ]
  },
  {
   "cell_type": "code",
   "execution_count": 5,
   "metadata": {
    "execution": {
     "iopub.execute_input": "2022-03-13T13:26:49.187319Z",
     "iopub.status.busy": "2022-03-13T13:26:49.187004Z",
     "iopub.status.idle": "2022-03-13T13:26:49.230333Z",
     "shell.execute_reply": "2022-03-13T13:26:49.229364Z",
     "shell.execute_reply.started": "2022-03-13T13:26:49.187291Z"
    }
   },
   "outputs": [
    {
     "name": "stdout",
     "output_type": "stream",
     "text": [
      "Leftover columns:  Index(['uniq_id', 'product_name', 'manufacturer', 'price',\n",
      "       'number_available_in_stock', 'number_of_reviews',\n",
      "       'number_of_answered_questions', 'average_review_rating',\n",
      "       'amazon_category_and_sub_category', 'description',\n",
      "       'product_information', 'product_description',\n",
      "       'items_customers_buy_after_viewing_this_item',\n",
      "       'customer_questions_and_answers'],\n",
      "      dtype='object')\n"
     ]
    }
   ],
   "source": [
    "# delete columns which are unnamed\n",
    "unnamed_cols = [col for col in df.columns if 'Unnamed' in col]\n",
    "df = df.drop(unnamed_cols, axis = 1)\n",
    "print(\"Leftover columns: \", df.columns)"
   ]
  },
  {
   "cell_type": "code",
   "execution_count": 6,
   "metadata": {
    "execution": {
     "iopub.execute_input": "2022-03-13T13:26:49.231743Z",
     "iopub.status.busy": "2022-03-13T13:26:49.231517Z",
     "iopub.status.idle": "2022-03-13T13:26:49.307076Z",
     "shell.execute_reply": "2022-03-13T13:26:49.305189Z",
     "shell.execute_reply.started": "2022-03-13T13:26:49.231715Z"
    },
    "scrolled": true
   },
   "outputs": [
    {
     "name": "stdout",
     "output_type": "stream",
     "text": [
      "\n",
      "UNIQ_ID ANALYSIS\n",
      "\tType changed to str\n",
      "\tTotal number of values :  10004\n",
      "\tTotal number of unique values :  10002\n",
      "\tUnique values :  ['eac7efa5dbd3d667f26eb3d3ab504464' 'b17540ef7e86e461d37f3ae58b7b72ac'\n",
      " '348f344247b0c1a935b1223072ef9d8a' 'e12b92dbb8eaee78b22965d2a9bbbd9f'\n",
      " 'e33a9adeed5f36840ccc227db4682a36']\n",
      "\tRange of length :  1  to  32\n",
      "\tMissing Values :  0\n",
      "\n",
      "\tInspecting IDs with unusual length :  ['nan', '}', 'nan', '}']\n",
      "\tDeleting IDs with unusual length ..... \n",
      "\n",
      "Unique IDs updated .....\n",
      "\n",
      "UNIQ_ID ANALYSIS\n",
      "\tTotal number of values :  10000\n",
      "\tTotal number of unique values :  10000\n",
      "\tUnique values :  ['eac7efa5dbd3d667f26eb3d3ab504464' 'b17540ef7e86e461d37f3ae58b7b72ac'\n",
      " '348f344247b0c1a935b1223072ef9d8a' 'e12b92dbb8eaee78b22965d2a9bbbd9f'\n",
      " 'e33a9adeed5f36840ccc227db4682a36']\n",
      "\tRange of length :  32  to  32\n",
      "\tMissing Values :  0\n"
     ]
    }
   ],
   "source": [
    "# Analyze and clean Unique IDS (primary key)\n",
    "ColSummary('uniq_id', 'str')\n",
    "# Some IDs have unusual length\n",
    "print('\\n\\tInspecting IDs with unusual length : ', list(df['uniq_id'][df['uniq_id'].apply(lambda x: len(str(x)))<=3]))\n",
    "print('\\tDeleting IDs with unusual length ..... ')\n",
    "df = df.drop(index = list(df['uniq_id'][df['uniq_id'].apply(lambda x: len(str(x))<=3)].index))\n",
    "print('\\nUnique IDs updated .....')\n",
    "ColSummary('uniq_id')"
   ]
  },
  {
   "cell_type": "code",
   "execution_count": 7,
   "metadata": {
    "execution": {
     "iopub.execute_input": "2022-03-13T13:26:49.308936Z",
     "iopub.status.busy": "2022-03-13T13:26:49.308596Z",
     "iopub.status.idle": "2022-03-13T13:26:49.344998Z",
     "shell.execute_reply": "2022-03-13T13:26:49.344406Z",
     "shell.execute_reply.started": "2022-03-13T13:26:49.308892Z"
    }
   },
   "outputs": [
    {
     "name": "stdout",
     "output_type": "stream",
     "text": [
      "\n",
      "PRODUCT_NAME ANALYSIS\n",
      "\tType changed to string\n",
      "\tTotal number of values :  10000\n",
      "\tTotal number of unique values :  9964\n",
      "\tUnique values :  <StringArray>\n",
      "[                                                                                                 'Hornby 2014 Catalogue',\n",
      " 'FunkyBuys® Large Christmas Holiday Express Festive Train Set (SI-TY1017) Toy Light / Sounds / Battery Operated & Smoke',\n",
      "                                             'CLASSIC TOY TRAIN SET TRACK CARRIAGES LIGHT ENGINE BOXED BOYS KIDS BATTERY',\n",
      "                                                                         'HORNBY Coach R4410A BR Hawksworth Corridor 3rd',\n",
      "                                                        'Hornby 00 Gauge 0-4-0 Gildenlow Salt Co. Steam Locomotive Model']\n",
      "Length: 5, dtype: string\n",
      "\tRange of length :  3  to  536\n",
      "\tMissing Values :  0\n"
     ]
    }
   ],
   "source": [
    "# Analyze Product Name - No cleaning required\n",
    "ColSummary('product_name', 'string')"
   ]
  },
  {
   "cell_type": "code",
   "execution_count": 8,
   "metadata": {
    "execution": {
     "iopub.execute_input": "2022-03-13T13:26:49.34629Z",
     "iopub.status.busy": "2022-03-13T13:26:49.345982Z",
     "iopub.status.idle": "2022-03-13T13:26:49.372237Z",
     "shell.execute_reply": "2022-03-13T13:26:49.371657Z",
     "shell.execute_reply.started": "2022-03-13T13:26:49.346263Z"
    }
   },
   "outputs": [
    {
     "name": "stdout",
     "output_type": "stream",
     "text": [
      "\n",
      "MANUFACTURER ANALYSIS\n",
      "\tType changed to string\n",
      "\tTotal number of values :  10000\n",
      "\tTotal number of unique values :  2651\n",
      "\tUnique values :  <StringArray>\n",
      "['Hornby', 'FunkyBuys', 'ccf', 'Generic', 'Chuggington']\n",
      "Length: 5, dtype: string\n",
      "\tRange of length :  1  to  48\n",
      "\tMissing Values :  7\n"
     ]
    }
   ],
   "source": [
    "# Analyze Manufacturer - No cleaning required\n",
    "ColSummary('manufacturer', 'string') "
   ]
  },
  {
   "cell_type": "code",
   "execution_count": 9,
   "metadata": {
    "execution": {
     "iopub.execute_input": "2022-03-13T13:26:49.37443Z",
     "iopub.status.busy": "2022-03-13T13:26:49.373578Z",
     "iopub.status.idle": "2022-03-13T13:26:49.431527Z",
     "shell.execute_reply": "2022-03-13T13:26:49.430752Z",
     "shell.execute_reply.started": "2022-03-13T13:26:49.374385Z"
    }
   },
   "outputs": [
    {
     "name": "stdout",
     "output_type": "stream",
     "text": [
      "\n",
      "PRICE ANALYSIS\n",
      "\tTotal number of values :  10000\n",
      "\tTotal number of unique values :  2625\n",
      "\tUnique values :  ['£3.42' '£16.99' '£9.99' '£39.99' '£32.19']\n",
      "\tRange of length :  3  to  19\n",
      "\tMissing Values :  1435\n",
      "\n",
      " Deleting rows which have price with greater than 5 length i.e. have ranges instead of values .....\n",
      "\n",
      "PRICE ANALYSIS\n",
      "\tType changed to float64\n",
      "\tTotal number of values :  5603\n",
      "\tTotal number of unique values :  754\n",
      "\tUnique values :  [3.42 9.99 6.99  nan 9.6 ]\n",
      "\tRange of length :  3  to  4\n",
      "\tMissing Values :  1435\n"
     ]
    }
   ],
   "source": [
    "# Analyze Price - Need to convert string to numeric\n",
    "ColSummary('price')\n",
    "\n",
    "# Some rows have range mentioned instead of a price - this is significantly changing the df size\n",
    "# another way to tackle this would be to add the middle point of the range as the price\n",
    "print(\"\\n Deleting rows which have price with greater than 5 length i.e. have ranges instead of values .....\")\n",
    "df = df.drop(index = list(df['price'][df['price'].apply(lambda x: len(str(x))>5)].index))\n",
    "\n",
    "# Remove the euro sign before numeric conversion\n",
    "df['price'] = df['price'][df['price'].isna()==False].str[1:]\n",
    "\n",
    "# Convert into float and analyze updated column\n",
    "ColSummary('price', 'float64')"
   ]
  },
  {
   "cell_type": "code",
   "execution_count": 10,
   "metadata": {
    "execution": {
     "iopub.execute_input": "2022-03-13T13:26:49.432846Z",
     "iopub.status.busy": "2022-03-13T13:26:49.432632Z",
     "iopub.status.idle": "2022-03-13T13:26:49.46928Z",
     "shell.execute_reply": "2022-03-13T13:26:49.465142Z",
     "shell.execute_reply.started": "2022-03-13T13:26:49.432819Z"
    }
   },
   "outputs": [
    {
     "name": "stdout",
     "output_type": "stream",
     "text": [
      "\n",
      "NUMBER_AVAILABLE_IN_STOCK ANALYSIS\n",
      "\tTotal number of values :  5603\n",
      "\tTotal number of unique values :  70\n",
      "\tUnique values :  ['5\\xa0new' '2\\xa0new' nan '1\\xa0new' '18\\xa0new']\n",
      "\tRange of length :  3  to  13\n",
      "\tMissing Values :  1532\n",
      "\n",
      "NUMBER_AVAILABLE_IN_STOCK ANALYSIS\n",
      "\tType changed to float64\n",
      "\tTotal number of values :  5603\n",
      "\tTotal number of unique values :  55\n",
      "\tUnique values :  [ 5.  2. nan  1. 18.]\n",
      "\tRange of length :  3  to  4\n",
      "\tMissing Values :  1532\n"
     ]
    }
   ],
   "source": [
    "# Analyze Number available in stock - need to change to numeric \n",
    "ColSummary('number_available_in_stock')\n",
    "\n",
    "# split the stings into list and keep only the numeric part\n",
    "df['number_available_in_stock'] = df['number_available_in_stock'].apply(lambda x: str(x).split()[0])\n",
    "\n",
    "# change to float and analyze again\n",
    "ColSummary('number_available_in_stock','float64')"
   ]
  },
  {
   "cell_type": "code",
   "execution_count": 11,
   "metadata": {
    "execution": {
     "iopub.execute_input": "2022-03-13T13:26:49.472195Z",
     "iopub.status.busy": "2022-03-13T13:26:49.47187Z",
     "iopub.status.idle": "2022-03-13T13:26:49.516355Z",
     "shell.execute_reply": "2022-03-13T13:26:49.515395Z",
     "shell.execute_reply.started": "2022-03-13T13:26:49.472162Z"
    }
   },
   "outputs": [
    {
     "name": "stdout",
     "output_type": "stream",
     "text": [
      "\n",
      "NUMBER_OF_REVIEWS ANALYSIS\n",
      "\tTotal number of values :  5603\n",
      "\tTotal number of unique values :  157\n",
      "\tUnique values :  ['15' '17' '2' '8' '1']\n",
      "\tRange of length :  1  to  5\n",
      "\tMissing Values :  7\n",
      "\n",
      " Removing commas from strings for float conversion .....\n",
      "\n",
      "NUMBER_OF_REVIEWS ANALYSIS\n",
      "\tType changed to float64\n",
      "\tTotal number of values :  5603\n",
      "\tTotal number of unique values :  157\n",
      "\tUnique values :  [15. 17.  2.  8.  1.]\n",
      "\tRange of length :  3  to  6\n",
      "\tMissing Values :  7\n"
     ]
    }
   ],
   "source": [
    "# Analyze Number of Reviews - need to convert into numeric\n",
    "ColSummary('number_of_reviews')\n",
    "\n",
    "# some strings have commas which is preventing direct float conversion\n",
    "print(\"\\n Removing commas from strings for float conversion .....\")\n",
    "df['number_of_reviews'] = df['number_of_reviews'].apply(lambda x: str(x).replace(',',''))\n",
    "\n",
    "# convert to float and analyze updated columns\n",
    "ColSummary('number_of_reviews', 'float64')"
   ]
  },
  {
   "cell_type": "code",
   "execution_count": 12,
   "metadata": {
    "execution": {
     "iopub.execute_input": "2022-03-13T13:26:49.519737Z",
     "iopub.status.busy": "2022-03-13T13:26:49.519113Z",
     "iopub.status.idle": "2022-03-13T13:26:49.538039Z",
     "shell.execute_reply": "2022-03-13T13:26:49.537372Z",
     "shell.execute_reply.started": "2022-03-13T13:26:49.519703Z"
    }
   },
   "outputs": [
    {
     "name": "stdout",
     "output_type": "stream",
     "text": [
      "\n",
      "NUMBER_OF_ANSWERED_QUESTIONS ANALYSIS\n",
      "\tType changed to float64\n",
      "\tTotal number of values :  5603\n",
      "\tTotal number of unique values :  17\n",
      "\tUnique values :  [ 1.  2.  6. nan  5.]\n",
      "\tRange of length :  3  to  4\n",
      "\tMissing Values :  528\n"
     ]
    }
   ],
   "source": [
    "# Analyze Number of Answered Questions - need to convert into numeric\n",
    "ColSummary('number_of_answered_questions','float64')"
   ]
  },
  {
   "cell_type": "code",
   "execution_count": 13,
   "metadata": {
    "execution": {
     "iopub.execute_input": "2022-03-13T13:26:49.539417Z",
     "iopub.status.busy": "2022-03-13T13:26:49.538908Z",
     "iopub.status.idle": "2022-03-13T13:26:49.578002Z",
     "shell.execute_reply": "2022-03-13T13:26:49.577117Z",
     "shell.execute_reply.started": "2022-03-13T13:26:49.539388Z"
    }
   },
   "outputs": [
    {
     "name": "stdout",
     "output_type": "stream",
     "text": [
      "\n",
      "AVERAGE_REVIEW_RATING ANALYSIS\n",
      "\tTotal number of values :  5603\n",
      "\tTotal number of unique values :  17\n",
      "\tUnique values :  ['4.9 out of 5 stars' '3.9 out of 5 stars' '5.0 out of 5 stars'\n",
      " '4.8 out of 5 stars' '4.5 out of 5 stars']\n",
      "\tRange of length :  3  to  18\n",
      "\tMissing Values :  7\n",
      "\n",
      "AVERAGE_REVIEW_RATING ANALYSIS\n",
      "\tType changed to float64\n",
      "\tTotal number of values :  5603\n",
      "\tTotal number of unique values :  17\n",
      "\tUnique values :  [4.9 3.9 5.  4.8 4.5]\n",
      "\tRange of length :  3  to  3\n",
      "\tMissing Values :  7\n"
     ]
    }
   ],
   "source": [
    "# Analyze Avg Review Ratign - need to convert into numeric\n",
    "ColSummary('average_review_rating')\n",
    "\n",
    "# the values include the denominator of the rating which is consistent throughtout and hence, need not be mentioned\n",
    "df['average_review_rating'] = df['average_review_rating'].apply(lambda x: str(x).split()[0])\n",
    "\n",
    "# After retaining only ratings and removing additional text, convert into float\n",
    "ColSummary('average_review_rating', 'float64')"
   ]
  },
  {
   "cell_type": "code",
   "execution_count": 14,
   "metadata": {
    "execution": {
     "iopub.execute_input": "2022-03-13T13:26:49.579771Z",
     "iopub.status.busy": "2022-03-13T13:26:49.579195Z",
     "iopub.status.idle": "2022-03-13T13:26:49.612844Z",
     "shell.execute_reply": "2022-03-13T13:26:49.611969Z",
     "shell.execute_reply.started": "2022-03-13T13:26:49.579735Z"
    }
   },
   "outputs": [
    {
     "name": "stdout",
     "output_type": "stream",
     "text": [
      "\n",
      "AMAZON_CATEGORY_AND_SUB_CATEGORY ANALYSIS\n",
      "\tTotal number of values :  5603\n",
      "\tTotal number of unique values :  220\n",
      "\tUnique values :  ['Hobbies > Model Trains & Railway Sets > Rail Vehicles > Trains'\n",
      " 'Hobbies > Model Trains & Railway Sets > Lighting & Signal Engineering > Lamps & Lighting'\n",
      " 'Hobbies > Model Trains & Railway Sets > Rail Vehicles > Locomotives'\n",
      " 'Hobbies > Model Trains & Railway Sets > Lighting & Signal Engineering > Signal & Sound'\n",
      " 'Hobbies > Model Trains & Railway Sets > Accessories > Recreational Activities']\n",
      "\tRange of length :  3  to  120\n",
      "\tMissing Values :  330\n",
      "\n",
      "AMAZON_CATEGORY_AND_SUB_CATEGORY ANALYSIS\n",
      "\tTotal number of values :  5603\n",
      "\n",
      "*** Cannot work with this datatype.. Try Again.... ***\n"
     ]
    }
   ],
   "source": [
    "# Analyze Categories - Each value has all the subcatogories mentioned in a string format - need to convert to list\n",
    "ColSummary('amazon_category_and_sub_category')\n",
    "\n",
    "# break using delimiter for list conversion\n",
    "df['amazon_category_and_sub_category'] = df['amazon_category_and_sub_category'].apply(lambda x: str(x).split(\" > \"))\n",
    "\n",
    "# each list has varied length, for easier analysis - make len consistent by adding None\n",
    "itr = max(df['amazon_category_and_sub_category'].apply(lambda x: len(x)))\n",
    "for i in range (1, itr+1):\n",
    "    df['amazon_category_and_sub_category'].apply(lambda x: x.append(\"None\") if (len(x) < i) else x)\n",
    "\n",
    "# Analyze updated column\n",
    "ColSummary('amazon_category_and_sub_category')"
   ]
  },
  {
   "cell_type": "code",
   "execution_count": 15,
   "metadata": {
    "execution": {
     "iopub.execute_input": "2022-03-13T13:26:49.614818Z",
     "iopub.status.busy": "2022-03-13T13:26:49.614359Z",
     "iopub.status.idle": "2022-03-13T13:26:49.639974Z",
     "shell.execute_reply": "2022-03-13T13:26:49.639403Z",
     "shell.execute_reply.started": "2022-03-13T13:26:49.614771Z"
    }
   },
   "outputs": [
    {
     "name": "stdout",
     "output_type": "stream",
     "text": [
      "\n",
      "DESCRIPTION ANALYSIS\n",
      "\tTotal number of values :  5603\n",
      "\tTotal number of unique values :  4646\n",
      "\tUnique values :  ['Product Description Hornby 2014 Catalogue Box Contains 1 x one catalogue'\n",
      " 'BIG CLASSIC TOY TRAIN SET TRACK CARRIAGE LIGHT ENGINE SOUND BOXED KIDS BATTERY Railway Train Set with Light Sound, Big Size Curved Track Free Wheeling Action Working Headlight Sound Horn The Track Can Also Be Assembled In More Layouts Length Of Track 104 cm WIDTH OF THE TRACK 68 CM Finely Detailed Realistic Toy Train REQUIRES 2 AA BATTERIES (NOT INCLUDED)'\n",
      " 'These delicate model garden lights are mainly used in teaching, photography, and various kinds of scene model. Each of them is completed with wires and has double heads, which can be lighten with 6V power. These model lights measure about 7cm high. Light up your model layout with this great model lamppost! Description: A pack of 20pcs model garden lamps Each has double head, completed with wires and bulbs Mainly used to decorate your model layout Voltage: 6V Power: 1 W Height: Approx. 2.76 inch / 7cm Scale: 1:100 Material: Plastic Main Color: Black Note: Each lamp has 4 wires altogether. When you connect these wires with the power, please connect two long wires with one end and connect the rest two short wires with another end. Package Include: 20pcs model garden lights'\n",
      " 'Product Description An amazingly Interactive Chuggington World! Chuggington Interactive Chatsworth instantly recognises and \"magically\" talks to any other engine, training stop and set accessories. This engine has over 60 sounds and phrases (when used with other Chuggington interactive products). Featuring the actual voice from the Chuggington show. Each Interactive talking engine features Smart Talk technology which enables them to instantly recognise any other engine, react to any train stop and respond to your play! Chuggington Interactive is a magical open ended play system featuring iconic destinations and characters from the BBC\\'s CBeebies top rated preschool show Chuggington. Chatsworth is a very proper engine who lives next door to Harrison in the upper level of the roundhouse. Chatsworth is honest, good mannered, polite and considerate of others, however he considers himself as the upper crust of Chuggington. On time, clean and in fine repair, Chatsworth always presents his best wheel forward, as first impressions are very important to him. Engines recognise and \"magically\" talk to each other, training stops and set accessories. Requires 2 x AA batteries (included). Box Contains 1 x Interactive Chatsworth engine'\n",
      " 'Suitable for the following scale(s): OO Scale']\n",
      "\tRange of length :  1  to  32751\n",
      "\tMissing Values :  469\n"
     ]
    }
   ],
   "source": [
    "# Analyze description - no change required\n",
    "ColSummary('description')"
   ]
  },
  {
   "cell_type": "code",
   "execution_count": 16,
   "metadata": {
    "execution": {
     "iopub.execute_input": "2022-03-13T13:26:49.641821Z",
     "iopub.status.busy": "2022-03-13T13:26:49.641056Z",
     "iopub.status.idle": "2022-03-13T13:26:49.664759Z",
     "shell.execute_reply": "2022-03-13T13:26:49.663938Z",
     "shell.execute_reply.started": "2022-03-13T13:26:49.64178Z"
    }
   },
   "outputs": [
    {
     "name": "stdout",
     "output_type": "stream",
     "text": [
      "\n",
      "PRODUCT_INFORMATION ANALYSIS\n",
      "\tTotal number of values :  5603\n",
      "\tTotal number of unique values :  5575\n",
      "\tUnique values :  ['Technical Details Item Weight640 g Product Dimensions29.6 x 20.8 x 1 cm Manufacturer recommended age:6 years and up Item model numberR8148 Main Language(s)English manual, English Number of Game Players1 Number of Puzzle Pieces1 Assembly RequiredNo Scale1:72 Engine Typeelectric Track Width/GaugeHO Batteries Required?No Batteries Included?No Material Type(s)Paper Material Care InstructionsNo Remote Control Included?No Radio Control Suitabilityindoor Colorwhite \\xa0\\xa0 Additional Information ASINB00HJ208KO Best Sellers Rank 52,854 in Toys & Games (See top 100) #69 in\\xa0Toys & Games > Model Trains & Railway Sets > Rail Vehicles > Trains Shipping Weight640 g Delivery Destinations:Visit the Delivery Destinations Help page to see where this item can be delivered. Date First Available24 Dec. 2013 \\xa0\\xa0 Feedback \\xa0Would you like to update product info or give feedback on images?'\n",
      " 'Technical Details Manufacturer recommended age:3 years and up \\xa0\\xa0 Additional Information ASINB00E5MNXJ4 Best Sellers Rank 54,147 in Toys & Games (See top 100) #72 in\\xa0Toys & Games > Model Trains & Railway Sets > Rail Vehicles > Trains Delivery Destinations:Visit the Delivery Destinations Help page to see where this item can be delivered. Date First Available25 July 2013 \\xa0\\xa0 Feedback \\xa0Would you like to update product info or give feedback on images?'\n",
      " 'Technical Details Manufacturer recommended age:3 years and up \\xa0\\xa0 Additional Information ASINB008MRH3Y4 Best Sellers Rank 60,815 in Toys & Games (See top 100) #9 in\\xa0Toys & Games > Model Trains & Railway Sets > Lighting & Signal Engineering > Lamps & Lighting Delivery Destinations:Visit the Delivery Destinations Help page to see where this item can be delivered. Date First Available19 July 2012 \\xa0\\xa0 Feedback \\xa0Would you like to update product info or give feedback on images?'\n",
      " \"Technical Details Item Weight150 g Product Dimensions12.7 x 4.4 x 6.7 cm Batteries:2 AA batteries required. (included) Manufacturer recommended age:36 months - 10 years Item model numberLC55012 Manufacturer's Suggested Maximum Weight43.5 Kilograms Number of Puzzle Pieces1 Assembly RequiredNo Batteries Required?Yes Batteries Included?Yes Material Type(s)Plastic Material Composition100% plastic Material Care InstructionsInteraction performance may be reduced with use in an outdoor environment or in direct sunlight Remote Control Included?No Radio Control SuitabilityIndoor Colormulticoloured \\xa0\\xa0 Additional Information ASINB003M2XTK6 Best Sellers Rank 195,658 in Toys & Games (See top 100) #307 in\\xa0Toys & Games > Model Trains & Railway Sets > Rail Vehicles > Trains Shipping Weight227 g Delivery Destinations:Visit the Delivery Destinations Help page to see where this item can be delivered. Date First Available3 Aug. 2010 \\xa0\\xa0 Feedback \\xa0Would you like to update product info or give feedback on images?\"\n",
      " 'Technical Details Manufacturer recommended age:14 years and up Manufacturer reference37-662 Scale1:76 Track Width/GaugeOO \\xa0\\xa0 Additional Information ASINB00H2HH7OG Best Sellers Rank 522,353 in Toys & Games (See top 100) #473 in\\xa0Toys & Games > Model Trains & Railway Sets > Rail Vehicles > Wagons #859 in\\xa0Toys & Games > Model Trains & Railway Sets > Rail Vehicles > Trains Delivery Destinations:Visit the Delivery Destinations Help page to see where this item can be delivered. Date First Available3 Dec. 2013 \\xa0\\xa0 Feedback \\xa0Would you like to update product info or give feedback on images?']\n",
      "\tRange of length :  3  to  2525\n",
      "\tMissing Values :  27\n"
     ]
    }
   ],
   "source": [
    "# Analyze Product Information - no change required\n",
    "ColSummary('product_information')"
   ]
  },
  {
   "cell_type": "code",
   "execution_count": 17,
   "metadata": {
    "execution": {
     "iopub.execute_input": "2022-03-13T13:26:49.666328Z",
     "iopub.status.busy": "2022-03-13T13:26:49.666054Z",
     "iopub.status.idle": "2022-03-13T13:26:49.690181Z",
     "shell.execute_reply": "2022-03-13T13:26:49.689342Z",
     "shell.execute_reply.started": "2022-03-13T13:26:49.666289Z"
    }
   },
   "outputs": [
    {
     "name": "stdout",
     "output_type": "stream",
     "text": [
      "\n",
      "PRODUCT_DESCRIPTION ANALYSIS\n",
      "\tTotal number of values :  5603\n",
      "\tTotal number of unique values :  4645\n",
      "\tUnique values :  ['Product Description Hornby 2014 Catalogue Box Contains 1 x one catalogue'\n",
      " 'BIG CLASSIC TOY TRAIN SET TRACK CARRIAGE LIGHT ENGINE SOUND BOXED KIDS BATTERY Railway Train Set with Light Sound, Big Size Curved Track Free Wheeling Action Working Headlight Sound Horn The Track Can Also Be Assembled In More Layouts Length Of Track 104 cm WIDTH OF THE TRACK 68 CM Finely Detailed Realistic Toy Train REQUIRES 2 AA BATTERIES (NOT INCLUDED)'\n",
      " 'These delicate model garden lights are mainly used in teaching, photography, and various kinds of scene model. Each of them is completed with wires and has double heads, which can be lighten with 6V power. These model lights measure about 7cm high. Light up your model layout with this great model lamppost! Description: A pack of 20pcs model garden lamps Each has double head, completed with wires and bulbs Mainly used to decorate your model layout Voltage: 6V Power: 1 W Height: Approx. 2.76 inch / 7cm Scale: 1:100 Material: Plastic Main Color: Black Note: Each lamp has 4 wires altogether. When you connect these wires with the power, please connect two long wires with one end and connect the rest two short wires with another end. Package Include: 20pcs model garden lights'\n",
      " 'Product Description An amazingly Interactive Chuggington World! Chuggington Interactive Chatsworth instantly recognises and \"magically\" talks to any other engine, training stop and set accessories. This engine has over 60 sounds and phrases (when used with other Chuggington interactive products). Featuring the actual voice from the Chuggington show. Each Interactive talking engine features Smart Talk technology which enables them to instantly recognise any other engine, react to any train stop and respond to your play! Chuggington Interactive is a magical open ended play system featuring iconic destinations and characters from the BBC\\'s CBeebies top rated preschool show Chuggington. Chatsworth is a very proper engine who lives next door to Harrison in the upper level of the roundhouse. Chatsworth is honest, good mannered, polite and considerate of others, however he considers himself as the upper crust of Chuggington. On time, clean and in fine repair, Chatsworth always presents his best wheel forward, as first impressions are very important to him. Engines recognise and \"magically\" talk to each other, training stops and set accessories. Requires 2 x AA batteries (included). Box Contains 1 x Interactive Chatsworth engine'\n",
      " 'Suitable for the following scale(s): OO Scale']\n",
      "\tRange of length :  1  to  4264\n",
      "\tMissing Values :  470\n"
     ]
    }
   ],
   "source": [
    "# Analyze Product Description - no change required\n",
    "\n",
    "# the values look similar to description column - this column might not add much value \n",
    "ColSummary('product_description')"
   ]
  },
  {
   "cell_type": "code",
   "execution_count": 18,
   "metadata": {
    "execution": {
     "iopub.execute_input": "2022-03-13T13:26:49.69162Z",
     "iopub.status.busy": "2022-03-13T13:26:49.691271Z",
     "iopub.status.idle": "2022-03-13T13:26:49.708907Z",
     "shell.execute_reply": "2022-03-13T13:26:49.708193Z",
     "shell.execute_reply.started": "2022-03-13T13:26:49.691582Z"
    }
   },
   "outputs": [
    {
     "name": "stdout",
     "output_type": "stream",
     "text": [
      "\n",
      "ITEMS_CUSTOMERS_BUY_AFTER_VIEWING_THIS_ITEM ANALYSIS\n",
      "\tTotal number of values :  5603\n",
      "\tTotal number of unique values :  3768\n",
      "\tUnique values :  ['http://www.amazon.co.uk/Hornby-R8150-Catalogue-2015/dp/B00S9SUUBE | http://www.amazon.co.uk/Hornby-Book-Model-Railways-Edition/dp/1844860957 | http://www.amazon.co.uk/Peco-60-Plans-Book/dp/B002QVL16I | http://www.amazon.co.uk/Newcomers-Guide-Model-Railways-Step/dp/1857943295'\n",
      " 'http://www.amazon.co.uk/Train-With-Tracks-Battery-Operated-x/dp/B009P540O8 | http://www.amazon.co.uk/Classic-Train-Lights-Battery-Operated/dp/B0041L9OHE | http://www.amazon.co.uk/Train-Flash-Electric-Sound-Europe/dp/B008D7CEH4 | http://www.amazon.co.uk/13-Piece-Train-Set-Ideal/dp/B0173N6E4W'\n",
      " 'http://www.amazon.co.uk/Single-Head-Garden-Lights-Lamppost-Layout/dp/B008XCSHCA | http://www.amazon.co.uk/Model-Scene-Gas-Lamp-Posts/dp/B006MGB90G | http://www.amazon.co.uk/12pcs-1-2-inch-Scenery-Landscape/dp/B008S8NHYM | http://www.amazon.co.uk/douself-100Pcs-OO-Scale-Passenger/dp/B00GRUD8W4'\n",
      " 'http://www.amazon.co.uk/Chuggington | http://www.amazon.co.uk/Learning-Chuggington | http://www.amazon.co.uk/Chuggington | http://www.amazon.co.uk/Learning-Curve-Chuggington'\n",
      " nan]\n",
      "\tRange of length :  3  to  345\n",
      "\tMissing Values :  1744\n"
     ]
    }
   ],
   "source": [
    "# Analyze URLs of the next bought product \n",
    "\n",
    "ColSummary('items_customers_buy_after_viewing_this_item')"
   ]
  },
  {
   "cell_type": "code",
   "execution_count": 19,
   "metadata": {
    "execution": {
     "iopub.execute_input": "2022-03-13T13:26:49.710084Z",
     "iopub.status.busy": "2022-03-13T13:26:49.709859Z",
     "iopub.status.idle": "2022-03-13T13:26:49.73419Z",
     "shell.execute_reply": "2022-03-13T13:26:49.733508Z",
     "shell.execute_reply.started": "2022-03-13T13:26:49.710054Z"
    }
   },
   "outputs": [
    {
     "name": "stdout",
     "output_type": "stream",
     "text": [
      "\n",
      "CUSTOMER_QUESTIONS_AND_ANSWERS ANALYSIS\n",
      "\tTotal number of values :  5603\n",
      "\tTotal number of unique values :  374\n",
      "\tUnique values :  ['Does this catalogue detail all the previous Hornby products please? // HiThe 2014 catalogue does indeed detail previous models but also includes new releases for 2014.You would be advised to purchase models as you need them to avoid them being discontinued in subsequent years…\\n    \\n      see more\\n    \\n  \\n  \\n    HiThe 2014 catalogue does indeed detail previous models but also includes new releases for 2014.You would be advised to purchase models as you need them to avoid them being discontinued in subsequent yearsHope this helps\\n    \\n      see less'\n",
      " \"What is the gauge of the track // Hi Paul.Truthfully, I'm not sure. But it's very much alike to a 00 gauge. But this train set isn't an add-on for an electric train set nor has nothing to do with one.I bought this for my 4 year old nephew as he adores trains but is far too young for an electric set. He was VERY happy with this though! | what is the layout of the tracks? // Its an oval shape layout\"\n",
      " \"is it possible to replace thr grain of wheat lamps with leds // Hi Pete. No it's not possible the main pole is to thin to take readily available LEDs wiring. I was hoping to do this myself but it would mean rewireing the LEDs with thin enough wire that I have not managed to track down yet. I will be trying by using the existing wire. Tricky job cutting the tops off the lantern and …\\n    \\n      see more\\n    \\n  \\n  \\n    Hi Pete. No it's not possible the main pole is to thin to take readily available LEDs wiring. I was hoping to do this myself but it would mean rewireing the LEDs with thin enough wire that I have not managed to track down yet. I will be trying by using the existing wire. Tricky job cutting the tops off the lantern and hoping I can pull enough wire through to solder the led back on. That I will be trying in the next few months. Hope I may have been some help, good luck. Derryck\\n    \\n      see less\"\n",
      " nan\n",
      " 'what is the difference between this model and the Green model for 14 plus age group // Hi,  Apart from some minor detailing I believe their is very little difference.                             Regards John,, Shop Amazon Ltd']\n",
      "\tRange of length :  3  to  3351\n",
      "\tMissing Values :  5229\n"
     ]
    }
   ],
   "source": [
    "# Analyze customer Qs \n",
    "ColSummary('customer_questions_and_answers')\n",
    "\n",
    "# There are a lot of missing values in this column\n",
    "# This is not unusual as customers might not have questions about each product"
   ]
  },
  {
   "cell_type": "code",
   "execution_count": 20,
   "metadata": {
    "execution": {
     "iopub.execute_input": "2022-03-13T13:26:49.73531Z",
     "iopub.status.busy": "2022-03-13T13:26:49.735085Z",
     "iopub.status.idle": "2022-03-13T13:26:49.741136Z",
     "shell.execute_reply": "2022-03-13T13:26:49.740219Z",
     "shell.execute_reply.started": "2022-03-13T13:26:49.735282Z"
    }
   },
   "outputs": [
    {
     "data": {
      "text/plain": [
       "(5603, 14)"
      ]
     },
     "execution_count": 20,
     "metadata": {},
     "output_type": "execute_result"
    }
   ],
   "source": [
    "# Final df shape after cleaning\n",
    "df.shape"
   ]
  },
  {
   "cell_type": "markdown",
   "metadata": {},
   "source": [
    "# Sec D: Evaluation\n"
   ]
  },
  {
   "cell_type": "markdown",
   "metadata": {},
   "source": [
    "<font color = 'blue'>\n",
    "<h2> Question 1. What are the most popular brands? </h2>\n",
    "\n",
    "There are multiple ways to define \"popular\". I'm going to explore 3 ways here:\n",
    "<ul>\n",
    "    <li>Number of products sold</li>\n",
    "<li>Total sales by price </li>\n",
    "<li>Highest rated products </li>\n",
    "    </ul>"
   ]
  },
  {
   "cell_type": "code",
   "execution_count": 21,
   "metadata": {
    "execution": {
     "iopub.execute_input": "2022-03-13T13:26:49.74264Z",
     "iopub.status.busy": "2022-03-13T13:26:49.742077Z",
     "iopub.status.idle": "2022-03-13T13:26:49.767503Z",
     "shell.execute_reply": "2022-03-13T13:26:49.766708Z",
     "shell.execute_reply.started": "2022-03-13T13:26:49.742601Z"
    }
   },
   "outputs": [
    {
     "data": {
      "text/html": [
       "<div>\n",
       "<style scoped>\n",
       "    .dataframe tbody tr th:only-of-type {\n",
       "        vertical-align: middle;\n",
       "    }\n",
       "\n",
       "    .dataframe tbody tr th {\n",
       "        vertical-align: top;\n",
       "    }\n",
       "\n",
       "    .dataframe thead th {\n",
       "        text-align: right;\n",
       "    }\n",
       "</style>\n",
       "<table border=\"1\" class=\"dataframe\">\n",
       "  <thead>\n",
       "    <tr style=\"text-align: right;\">\n",
       "      <th></th>\n",
       "      <th>product_name</th>\n",
       "    </tr>\n",
       "    <tr>\n",
       "      <th>manufacturer</th>\n",
       "      <th></th>\n",
       "    </tr>\n",
       "  </thead>\n",
       "  <tbody>\n",
       "    <tr>\n",
       "      <th>Oxford Diecast</th>\n",
       "      <td>97</td>\n",
       "    </tr>\n",
       "    <tr>\n",
       "      <th>Disney</th>\n",
       "      <td>95</td>\n",
       "    </tr>\n",
       "    <tr>\n",
       "      <th>MyTinyWorld</th>\n",
       "      <td>92</td>\n",
       "    </tr>\n",
       "    <tr>\n",
       "      <th>LEGO</th>\n",
       "      <td>70</td>\n",
       "    </tr>\n",
       "    <tr>\n",
       "      <th>Mattel</th>\n",
       "      <td>69</td>\n",
       "    </tr>\n",
       "    <tr>\n",
       "      <th>...</th>\n",
       "      <td>...</td>\n",
       "    </tr>\n",
       "    <tr>\n",
       "      <th>JR Propo</th>\n",
       "      <td>1</td>\n",
       "    </tr>\n",
       "    <tr>\n",
       "      <th>JJS Direct UK</th>\n",
       "      <td>1</td>\n",
       "    </tr>\n",
       "    <tr>\n",
       "      <th>J R Jigsaws</th>\n",
       "      <td>1</td>\n",
       "    </tr>\n",
       "    <tr>\n",
       "      <th>Iron Man 3- Marvel</th>\n",
       "      <td>1</td>\n",
       "    </tr>\n",
       "    <tr>\n",
       "      <th>|MFG</th>\n",
       "      <td>1</td>\n",
       "    </tr>\n",
       "  </tbody>\n",
       "</table>\n",
       "<p>1772 rows × 1 columns</p>\n",
       "</div>"
      ],
      "text/plain": [
       "                    product_name\n",
       "manufacturer                    \n",
       "Oxford Diecast                97\n",
       "Disney                        95\n",
       "MyTinyWorld                   92\n",
       "LEGO                          70\n",
       "Mattel                        69\n",
       "...                          ...\n",
       "JR Propo                       1\n",
       "JJS Direct UK                  1\n",
       "J R Jigsaws                    1\n",
       "Iron Man 3- Marvel             1\n",
       "|MFG                           1\n",
       "\n",
       "[1772 rows x 1 columns]"
      ]
     },
     "execution_count": 21,
     "metadata": {},
     "output_type": "execute_result"
    }
   ],
   "source": [
    "# number of products sold\n",
    "\n",
    "df[['product_name','manufacturer']].groupby('manufacturer').count().sort_values(by = \"product_name\", ascending = False)"
   ]
  },
  {
   "cell_type": "code",
   "execution_count": 22,
   "metadata": {
    "execution": {
     "iopub.execute_input": "2022-03-13T13:26:49.771652Z",
     "iopub.status.busy": "2022-03-13T13:26:49.768397Z",
     "iopub.status.idle": "2022-03-13T13:26:49.797329Z",
     "shell.execute_reply": "2022-03-13T13:26:49.79643Z",
     "shell.execute_reply.started": "2022-03-13T13:26:49.771594Z"
    }
   },
   "outputs": [
    {
     "data": {
      "text/html": [
       "<div>\n",
       "<style scoped>\n",
       "    .dataframe tbody tr th:only-of-type {\n",
       "        vertical-align: middle;\n",
       "    }\n",
       "\n",
       "    .dataframe tbody tr th {\n",
       "        vertical-align: top;\n",
       "    }\n",
       "\n",
       "    .dataframe thead th {\n",
       "        text-align: right;\n",
       "    }\n",
       "</style>\n",
       "<table border=\"1\" class=\"dataframe\">\n",
       "  <thead>\n",
       "    <tr style=\"text-align: right;\">\n",
       "      <th></th>\n",
       "      <th>price</th>\n",
       "    </tr>\n",
       "    <tr>\n",
       "      <th>manufacturer</th>\n",
       "      <th></th>\n",
       "    </tr>\n",
       "  </thead>\n",
       "  <tbody>\n",
       "    <tr>\n",
       "      <th>Oxford Diecast</th>\n",
       "      <td>630.99</td>\n",
       "    </tr>\n",
       "    <tr>\n",
       "      <th>Disney</th>\n",
       "      <td>383.87</td>\n",
       "    </tr>\n",
       "    <tr>\n",
       "      <th>LEGO</th>\n",
       "      <td>273.77</td>\n",
       "    </tr>\n",
       "    <tr>\n",
       "      <th>MyTinyWorld</th>\n",
       "      <td>265.21</td>\n",
       "    </tr>\n",
       "    <tr>\n",
       "      <th>Papo</th>\n",
       "      <td>250.12</td>\n",
       "    </tr>\n",
       "    <tr>\n",
       "      <th>...</th>\n",
       "      <td>...</td>\n",
       "    </tr>\n",
       "    <tr>\n",
       "      <th>Fundex</th>\n",
       "      <td>0.00</td>\n",
       "    </tr>\n",
       "    <tr>\n",
       "      <th>Spektrum</th>\n",
       "      <td>0.00</td>\n",
       "    </tr>\n",
       "    <tr>\n",
       "      <th>Specialist</th>\n",
       "      <td>0.00</td>\n",
       "    </tr>\n",
       "    <tr>\n",
       "      <th>Spear's Games</th>\n",
       "      <td>0.00</td>\n",
       "    </tr>\n",
       "    <tr>\n",
       "      <th>13</th>\n",
       "      <td>0.00</td>\n",
       "    </tr>\n",
       "  </tbody>\n",
       "</table>\n",
       "<p>1772 rows × 1 columns</p>\n",
       "</div>"
      ],
      "text/plain": [
       "                 price\n",
       "manufacturer          \n",
       "Oxford Diecast  630.99\n",
       "Disney          383.87\n",
       "LEGO            273.77\n",
       "MyTinyWorld     265.21\n",
       "Papo            250.12\n",
       "...                ...\n",
       "Fundex            0.00\n",
       "Spektrum          0.00\n",
       "Specialist        0.00\n",
       "Spear's Games     0.00\n",
       "13                0.00\n",
       "\n",
       "[1772 rows x 1 columns]"
      ]
     },
     "execution_count": 22,
     "metadata": {},
     "output_type": "execute_result"
    }
   ],
   "source": [
    "# Total sales by price\n",
    "\n",
    "df[['price','manufacturer']].groupby('manufacturer').sum().sort_values(by = \"price\", ascending = False)"
   ]
  },
  {
   "cell_type": "code",
   "execution_count": 23,
   "metadata": {
    "execution": {
     "iopub.execute_input": "2022-03-13T13:26:49.799156Z",
     "iopub.status.busy": "2022-03-13T13:26:49.798662Z",
     "iopub.status.idle": "2022-03-13T13:26:49.826688Z",
     "shell.execute_reply": "2022-03-13T13:26:49.825817Z",
     "shell.execute_reply.started": "2022-03-13T13:26:49.799115Z"
    }
   },
   "outputs": [
    {
     "data": {
      "text/html": [
       "<div>\n",
       "<style scoped>\n",
       "    .dataframe tbody tr th:only-of-type {\n",
       "        vertical-align: middle;\n",
       "    }\n",
       "\n",
       "    .dataframe tbody tr th {\n",
       "        vertical-align: top;\n",
       "    }\n",
       "\n",
       "    .dataframe thead th {\n",
       "        text-align: right;\n",
       "    }\n",
       "</style>\n",
       "<table border=\"1\" class=\"dataframe\">\n",
       "  <thead>\n",
       "    <tr style=\"text-align: right;\">\n",
       "      <th></th>\n",
       "      <th>average_review_rating</th>\n",
       "      <th>number_of_reviews</th>\n",
       "    </tr>\n",
       "    <tr>\n",
       "      <th>manufacturer</th>\n",
       "      <th></th>\n",
       "      <th></th>\n",
       "    </tr>\n",
       "  </thead>\n",
       "  <tbody>\n",
       "    <tr>\n",
       "      <th>Dodolive</th>\n",
       "      <td>5.0</td>\n",
       "      <td>13.0</td>\n",
       "    </tr>\n",
       "    <tr>\n",
       "      <th>Teddy Hermann</th>\n",
       "      <td>5.0</td>\n",
       "      <td>12.0</td>\n",
       "    </tr>\n",
       "    <tr>\n",
       "      <th>BSP</th>\n",
       "      <td>5.0</td>\n",
       "      <td>11.0</td>\n",
       "    </tr>\n",
       "    <tr>\n",
       "      <th>Elizabeth Arden</th>\n",
       "      <td>5.0</td>\n",
       "      <td>10.0</td>\n",
       "    </tr>\n",
       "    <tr>\n",
       "      <th>Kato</th>\n",
       "      <td>5.0</td>\n",
       "      <td>10.0</td>\n",
       "    </tr>\n",
       "    <tr>\n",
       "      <th>...</th>\n",
       "      <td>...</td>\n",
       "      <td>...</td>\n",
       "    </tr>\n",
       "    <tr>\n",
       "      <th>Cavendish Trading</th>\n",
       "      <td>3.3</td>\n",
       "      <td>3.0</td>\n",
       "    </tr>\n",
       "    <tr>\n",
       "      <th>BINGWAN</th>\n",
       "      <td>3.0</td>\n",
       "      <td>2.0</td>\n",
       "    </tr>\n",
       "    <tr>\n",
       "      <th>Inflatable Santa</th>\n",
       "      <td>3.0</td>\n",
       "      <td>2.0</td>\n",
       "    </tr>\n",
       "    <tr>\n",
       "      <th>The Original Glowstars</th>\n",
       "      <td>3.0</td>\n",
       "      <td>2.0</td>\n",
       "    </tr>\n",
       "    <tr>\n",
       "      <th>Hutter Trade GmbH + Co KG</th>\n",
       "      <td>NaN</td>\n",
       "      <td>0.0</td>\n",
       "    </tr>\n",
       "  </tbody>\n",
       "</table>\n",
       "<p>1772 rows × 2 columns</p>\n",
       "</div>"
      ],
      "text/plain": [
       "                           average_review_rating  number_of_reviews\n",
       "manufacturer                                                       \n",
       "Dodolive                                     5.0               13.0\n",
       "Teddy Hermann                                5.0               12.0\n",
       "BSP                                          5.0               11.0\n",
       "Elizabeth Arden                              5.0               10.0\n",
       "Kato                                         5.0               10.0\n",
       "...                                          ...                ...\n",
       "Cavendish Trading                            3.3                3.0\n",
       "BINGWAN                                      3.0                2.0\n",
       "Inflatable Santa                             3.0                2.0\n",
       "The Original Glowstars                       3.0                2.0\n",
       "Hutter Trade GmbH + Co KG                    NaN                0.0\n",
       "\n",
       "[1772 rows x 2 columns]"
      ]
     },
     "execution_count": 23,
     "metadata": {},
     "output_type": "execute_result"
    }
   ],
   "source": [
    "# highest rated\n",
    "\n",
    "ratings_df = df[['average_review_rating', 'number_of_reviews','manufacturer']].groupby('manufacturer').agg({'average_review_rating':'mean', 'number_of_reviews': \"sum\"\n",
    "                                                                                      }).sort_values(by = [\"average_review_rating\",\"number_of_reviews\"], ascending = False)\n",
    "ratings_df"
   ]
  },
  {
   "cell_type": "code",
   "execution_count": 24,
   "metadata": {
    "execution": {
     "iopub.execute_input": "2022-03-13T13:26:49.828574Z",
     "iopub.status.busy": "2022-03-13T13:26:49.828113Z",
     "iopub.status.idle": "2022-03-13T13:26:49.839788Z",
     "shell.execute_reply": "2022-03-13T13:26:49.838984Z",
     "shell.execute_reply.started": "2022-03-13T13:26:49.828532Z"
    }
   },
   "outputs": [
    {
     "name": "stdout",
     "output_type": "stream",
     "text": [
      "\n",
      " Brands with perfect 5 rating: 669\n",
      "\n",
      " Brands with perfect 5 rating and substantial number of reviews: 22 \n",
      "\n",
      "\n"
     ]
    }
   ],
   "source": [
    "# checking number of manufacturers with 5 rating\n",
    "print(\"\\n Brands with perfect 5 rating:\", len(ratings_df[ratings_df[\"average_review_rating\"]==5.0]))\n",
    "\n",
    "# checking number of 5-rated manufactureres which have > 5 number of reviews      \n",
    "print(\"\\n Brands with perfect 5 rating and substantial number of reviews:\",\n",
    "      len(ratings_df[ratings_df[\"average_review_rating\"]==5.0][ratings_df[ratings_df[\"average_review_rating\"]==5.0]\n",
    "                                                               [\"number_of_reviews\"]>5]),\"\\n\\n\")"
   ]
  },
  {
   "cell_type": "markdown",
   "metadata": {},
   "source": [
    "<font color = 'blue'>\n",
    "    <h3> Based on the above visualizations: </h3>\n",
    "\n",
    "- Oxford Diecast, Disney and MyTinyWorld have sold the most products\n",
    "- Oxfort Diecast has had the highest sales by far almost double the second highest\n",
    "- 669 manufacturers have perfect 5 rating but only 22 have been rated 5 on average by 5 or more customers"
   ]
  },
  {
   "cell_type": "markdown",
   "metadata": {},
   "source": [
    "***"
   ]
  },
  {
   "cell_type": "markdown",
   "metadata": {},
   "source": [
    "\n",
    "<font color = 'blue'>\n",
    "<h2> Question 2. What are some keywords that are repeatedly used by brands in descriptions? </h2> \n",
    "\n",
    "    To evaluate the words marketing / product teams are using to attract customers, we can do a word frequency analysis. A simple way to do this is to create a word-cloud which can be done using an existing library. We can input the following functionalities in the in-build function:\n",
    "- stopwords: words like \"a\", \"the\", are repeated a lot in a sentence but won't be able to give any meaningful insights. Hence, we can eliminate such stopwords from our analysis\n",
    "- mask: be default, the word cloud is in a circular shape, but we can change that using mask\n",
    "- max_words: maximum words to be shown in a word-cloud\n",
    "- max_font_size: maximum font size of the most used word"
   ]
  },
  {
   "cell_type": "code",
   "execution_count": 25,
   "metadata": {
    "execution": {
     "iopub.execute_input": "2022-03-13T13:26:49.841806Z",
     "iopub.status.busy": "2022-03-13T13:26:49.841069Z",
     "iopub.status.idle": "2022-03-13T13:26:49.848428Z",
     "shell.execute_reply": "2022-03-13T13:26:49.847873Z",
     "shell.execute_reply.started": "2022-03-13T13:26:49.841761Z"
    }
   },
   "outputs": [],
   "source": [
    "def show_wordcloud(data, title = None):\n",
    "    stopwords = set(STOPWORDS)\n",
    "    mask = np.array(Image.open(\"./amazon.png\"))\n",
    "    wordcloud = WordCloud(\n",
    "        background_color='white',\n",
    "        stopwords = stopwords,\n",
    "        mask = mask,\n",
    "        max_words=200,\n",
    "        max_font_size=40, \n",
    "        scale=1,\n",
    "        random_state=1\n",
    ").generate(\" \".join(data))\n",
    "\n",
    "    fig = plt.figure(1, figsize=(25, 15))\n",
    "    plt.axis('off')\n",
    "    if title: \n",
    "        fig.suptitle(title, fontsize=20)\n",
    "        fig.subplots_adjust(top=2.3)\n",
    "\n",
    "    plt.imshow(wordcloud)\n",
    "    plt.show()"
   ]
  },
  {
   "cell_type": "code",
   "execution_count": 26,
   "metadata": {
    "execution": {
     "iopub.execute_input": "2022-03-13T13:26:49.849915Z",
     "iopub.status.busy": "2022-03-13T13:26:49.84925Z",
     "iopub.status.idle": "2022-03-13T13:26:54.147197Z",
     "shell.execute_reply": "2022-03-13T13:26:54.146309Z",
     "shell.execute_reply.started": "2022-03-13T13:26:49.849887Z"
    }
   },
   "outputs": [
    {
     "data": {
      "image/png": "[encoded data removed]",
      "text/plain": [
       "<Figure size 1800x1080 with 1 Axes>"
      ]
     },
     "metadata": {
      "needs_background": "light"
     },
     "output_type": "display_data"
    }
   ],
   "source": [
    "col = 'description'\n",
    "wordcloud_df = df[df[col].notna()]\n",
    "show_wordcloud(wordcloud_df[col].values)"
   ]
  },
  {
   "cell_type": "markdown",
   "metadata": {},
   "source": [
    "<font color = 'blue'>\n",
    "    <h3> Based on the above visualization </h3>\n",
    "\n",
    "Some interesting words repeated across descriptions are: Suitable, high quality, classic, great, feature, card"
   ]
  },
  {
   "cell_type": "markdown",
   "metadata": {},
   "source": [
    "***"
   ]
  },
  {
   "cell_type": "markdown",
   "metadata": {},
   "source": [
    "<font color = 'blue'>\n",
    "<h2> Question 3. Can we predict the amazon categories just using the description? </h2>\n",
    "    \n",
    "    I wanted to see how related the description is with the main amazon category, so I built a model to do just that. There are 3 description columns available in the dataset - description, product description and product information. The first 2 columns are pretty similar so I just used one of them; and I created another model with product information so that I can compare these 2 models."
   ]
  },
  {
   "cell_type": "code",
   "execution_count": 27,
   "metadata": {
    "execution": {
     "iopub.execute_input": "2022-03-13T13:26:54.149055Z",
     "iopub.status.busy": "2022-03-13T13:26:54.148466Z",
     "iopub.status.idle": "2022-03-13T13:26:54.154088Z",
     "shell.execute_reply": "2022-03-13T13:26:54.153243Z",
     "shell.execute_reply.started": "2022-03-13T13:26:54.149023Z"
    }
   },
   "outputs": [],
   "source": [
    "def TextClassifier(text_data,label):\n",
    "    \"function to create text classifier for a set of data and labels\"\n",
    "    text_clf = Pipeline([ ('vect', CountVectorizer()), ('tfidf', TfidfTransformer()),('clf', MultinomialNB())])\n",
    "    text_clf = text_clf.fit(text_data, label)\n",
    "    return text_clf"
   ]
  },
  {
   "cell_type": "code",
   "execution_count": 28,
   "metadata": {
    "execution": {
     "iopub.execute_input": "2022-03-13T13:26:54.155529Z",
     "iopub.status.busy": "2022-03-13T13:26:54.155317Z",
     "iopub.status.idle": "2022-03-13T13:26:54.182569Z",
     "shell.execute_reply": "2022-03-13T13:26:54.181631Z",
     "shell.execute_reply.started": "2022-03-13T13:26:54.155504Z"
    }
   },
   "outputs": [],
   "source": [
    "# defining the target variable\n",
    "\n",
    "df['category'] = df['amazon_category_and_sub_category'].apply(lambda x: x[0])\n",
    "\n",
    "categorytolabel = {}\n",
    "i = 1\n",
    "for item in df['category'].unique():\n",
    "    categorytolabel[item] = i\n",
    "    i = i+1\n",
    "\n",
    "df['category_labels'] = df['category'].map(categorytolabel)\n",
    "\n",
    "df = df.groupby('category').filter(lambda x : len(x)>30)\n",
    "df = df.drop(index = list(df[df['category']=='nan'].index))"
   ]
  },
  {
   "cell_type": "code",
   "execution_count": 29,
   "metadata": {
    "execution": {
     "iopub.execute_input": "2022-03-13T13:26:54.185722Z",
     "iopub.status.busy": "2022-03-13T13:26:54.185475Z",
     "iopub.status.idle": "2022-03-13T13:26:55.937565Z",
     "shell.execute_reply": "2022-03-13T13:26:55.936626Z",
     "shell.execute_reply.started": "2022-03-13T13:26:54.185693Z"
    }
   },
   "outputs": [
    {
     "name": "stdout",
     "output_type": "stream",
     "text": [
      "\n",
      "\n",
      " ********* CLASSIFICATION ACCURACY BASED ON PRODUCT INFORMATION *********\n",
      "\n",
      "                            precision    recall  f1-score   support\n",
      "\n",
      "            Arts & Crafts       0.90      0.98      0.94       652\n",
      "      Baby & Toddler Toys       0.00      0.00      0.00        59\n",
      "      Characters & Brands       0.52      0.17      0.26       503\n",
      "  Die-Cast & Toy Vehicles       1.00      0.27      0.42       498\n",
      "      Dolls & Accessories       0.99      0.59      0.74       254\n",
      "              Fancy Dress       1.00      0.42      0.59       348\n",
      "       Figures & Playsets       0.68      0.84      0.76       541\n",
      "                    Games       0.49      0.97      0.65       611\n",
      "                  Hobbies       0.52      0.85      0.64       654\n",
      "        Jigsaws & Puzzles       0.00      0.00      0.00       157\n",
      "           Party Supplies       0.72      0.99      0.84       662\n",
      "Puppets & Puppet Theatres       0.00      0.00      0.00        71\n",
      "    Sports Toys & Outdoor       1.00      0.01      0.02       174\n",
      "\n",
      "                 accuracy                           0.66      5184\n",
      "                macro avg       0.60      0.47      0.45      5184\n",
      "             weighted avg       0.70      0.66      0.60      5184\n",
      "\n",
      "\n",
      "\n",
      " ********* CLASSIFICATION ACCURACY BASED ON PRODUCT DESCRIPTION *********\n",
      "\n",
      "                            precision    recall  f1-score   support\n",
      "\n",
      "            Arts & Crafts       0.81      0.88      0.84       652\n",
      "      Baby & Toddler Toys       0.00      0.00      0.00        59\n",
      "      Characters & Brands       0.77      0.62      0.68       503\n",
      "  Die-Cast & Toy Vehicles       0.92      0.89      0.90       498\n",
      "      Dolls & Accessories       1.00      0.60      0.75       254\n",
      "              Fancy Dress       0.98      0.75      0.85       348\n",
      "       Figures & Playsets       0.85      0.88      0.87       541\n",
      "                    Games       0.62      0.90      0.74       611\n",
      "                  Hobbies       0.82      0.76      0.79       654\n",
      "        Jigsaws & Puzzles       1.00      0.03      0.05       157\n",
      "           Party Supplies       0.59      0.98      0.74       662\n",
      "Puppets & Puppet Theatres       1.00      0.10      0.18        71\n",
      "    Sports Toys & Outdoor       1.00      0.07      0.13       174\n",
      "\n",
      "                 accuracy                           0.76      5184\n",
      "                macro avg       0.80      0.57      0.58      5184\n",
      "             weighted avg       0.80      0.76      0.73      5184\n",
      "\n"
     ]
    }
   ],
   "source": [
    "# running the model and comparing the predictions\n",
    "text_df = df[['product_information','product_description']]\n",
    "\n",
    "for col in text_df.columns:\n",
    "    text_df[col] = text_df[col].fillna(value='None')\n",
    "    model = TextClassifier(text_df[col],df['category_labels'])\n",
    "    text_df[col+'_classification'] = model.predict(text_df[col])\n",
    "\n",
    "text_df['product_information_classification'] = text_df['product_information_classification'].map({value : key for (key, value) in categorytolabel.items()})\n",
    "text_df['product_description_classification'] = text_df['product_description_classification'].map({value : key for (key, value) in categorytolabel.items()})\n",
    "df = df.merge(text_df[['product_information_classification','product_description_classification']], how = 'left', left_index = True, right_index = True)\n",
    "\n",
    "\n",
    "from sklearn.metrics import classification_report\n",
    "print(\"\\n\\n ********* CLASSIFICATION ACCURACY BASED ON PRODUCT INFORMATION *********\")\n",
    "print(\"\\n\", classification_report(df['category'], df['product_information_classification'] ))\n",
    "print(\"\\n\\n ********* CLASSIFICATION ACCURACY BASED ON PRODUCT DESCRIPTION *********\")\n",
    "print(\"\\n\", classification_report(df['category'], df['product_description_classification'] ))"
   ]
  },
  {
   "cell_type": "markdown",
   "metadata": {},
   "source": [
    "<font color = \"blue\">\n",
    "<h3>Based on the above results:</h3>\n",
    "Product Description is a better predictor of amazon category compared to product information"
   ]
  },
  {
   "cell_type": "markdown",
   "metadata": {},
   "source": [
    "***"
   ]
  }
 ],
 "metadata": {
  "kernelspec": {
   "display_name": "Python 3 (ipykernel)",
   "language": "python",
   "name": "python3"
  },
  "language_info": {
   "codemirror_mode": {
    "name": "ipython",
    "version": 3
   },
   "file_extension": ".py",
   "mimetype": "text/x-python",
   "name": "python",
   "nbconvert_exporter": "python",
   "pygments_lexer": "ipython3",
   "version": "3.8.5"
  }
 },
 "nbformat": 4,
 "nbformat_minor": 4
}
