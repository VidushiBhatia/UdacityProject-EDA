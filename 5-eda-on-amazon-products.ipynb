{
 "cells": [
  {
   "cell_type": "markdown",
   "metadata": {},
   "source": [
    "# Project: Write a Data Science Blog Post"
   ]
  },
  {
   "cell_type": "code",
   "execution_count": 3,
   "metadata": {
    "_cell_guid": "b1076dfc-b9ad-4769-8c92-a6c4dae69d19",
    "_uuid": "8f2839f25d086af736a60e9eeb907d3b93b6e0e5",
    "execution": {
     "iopub.execute_input": "2022-03-13T13:26:46.262421Z",
     "iopub.status.busy": "2022-03-13T13:26:46.261942Z",
     "iopub.status.idle": "2022-03-13T13:26:47.440399Z",
     "shell.execute_reply": "2022-03-13T13:26:47.439755Z",
     "shell.execute_reply.started": "2022-03-13T13:26:46.26231Z"
    }
   },
   "outputs": [],
   "source": [
    "# install required packages\n",
    "\n",
    "import numpy as np \n",
    "import pandas as pd \n",
    "import os\n",
    "import seaborn as sns\n",
    "from xgboost import XGBClassifier\n",
    "import matplotlib.pyplot as plt\n",
    "from datetime import datetime\n",
    "from sklearn.metrics import f1_score\n",
    "from sklearn.feature_extraction.text import CountVectorizer\n",
    "from sklearn.feature_extraction.text import TfidfTransformer\n",
    "from sklearn.naive_bayes import MultinomialNB\n",
    "from sklearn.pipeline import Pipeline\n",
    "from sklearn.model_selection import train_test_split\n",
    "from scipy import stats\n",
    "from wordcloud import WordCloud, STOPWORDS\n",
    "from PIL import Image\n",
    "import warnings\n",
    "warnings.filterwarnings('ignore')"
   ]
  },
  {
   "cell_type": "markdown",
   "metadata": {},
   "source": [
    "# Sec A: Business Understanding\n",
    "\n",
    "Amazon has millions of products sold on its websites and the concerned dataset from Kaggle contains over 10,000 different products at Amazon and its information, customer reviews, etc. The questions I explore are mentioned below:\n",
    "\n",
    "- Question 1: What are the most popular brands?\n",
    "- Question 2: What are some keywords that are repeatedly used by brands in descriptions?\n",
    "- Question 3: Can we predict the amazon categories just using the description?"
   ]
  },
  {
   "cell_type": "markdown",
   "metadata": {},
   "source": [
    "# Sec B: Data Understanding\n",
    "    \n",
    "Access data and get an overview of the uploaded dataset"
   ]
  },
  {
   "cell_type": "code",
   "execution_count": 4,
   "metadata": {
    "execution": {
     "iopub.execute_input": "2022-03-13T13:26:47.442026Z",
     "iopub.status.busy": "2022-03-13T13:26:47.441708Z",
     "iopub.status.idle": "2022-03-13T13:26:49.177547Z",
     "shell.execute_reply": "2022-03-13T13:26:49.176961Z",
     "shell.execute_reply.started": "2022-03-13T13:26:47.441998Z"
    }
   },
   "outputs": [
    {
     "data": {
      "text/html": [
       "<div>\n",
       "<style scoped>\n",
       "    .dataframe tbody tr th:only-of-type {\n",
       "        vertical-align: middle;\n",
       "    }\n",
       "\n",
       "    .dataframe tbody tr th {\n",
       "        vertical-align: top;\n",
       "    }\n",
       "\n",
       "    .dataframe thead th {\n",
       "        text-align: right;\n",
       "    }\n",
       "</style>\n",
       "<table border=\"1\" class=\"dataframe\">\n",
       "  <thead>\n",
       "    <tr style=\"text-align: right;\">\n",
       "      <th></th>\n",
       "      <th>uniq_id</th>\n",
       "      <th>product_name</th>\n",
       "      <th>manufacturer</th>\n",
       "      <th>price</th>\n",
       "      <th>number_available_in_stock</th>\n",
       "      <th>number_of_reviews</th>\n",
       "      <th>number_of_answered_questions</th>\n",
       "      <th>average_review_rating</th>\n",
       "      <th>amazon_category_and_sub_category</th>\n",
       "      <th>description</th>\n",
       "      <th>...</th>\n",
       "      <th>Unnamed: 885</th>\n",
       "      <th>Unnamed: 886</th>\n",
       "      <th>Unnamed: 887</th>\n",
       "      <th>Unnamed: 888</th>\n",
       "      <th>Unnamed: 889</th>\n",
       "      <th>Unnamed: 890</th>\n",
       "      <th>Unnamed: 891</th>\n",
       "      <th>Unnamed: 892</th>\n",
       "      <th>Unnamed: 893</th>\n",
       "      <th>Unnamed: 894</th>\n",
       "    </tr>\n",
       "  </thead>\n",
       "  <tbody>\n",
       "    <tr>\n",
       "      <th>0</th>\n",
       "      <td>eac7efa5dbd3d667f26eb3d3ab504464</td>\n",
       "      <td>Hornby 2014 Catalogue</td>\n",
       "      <td>Hornby</td>\n",
       "      <td>Â£3.42</td>\n",
       "      <td>5Â new</td>\n",
       "      <td>15</td>\n",
       "      <td>1</td>\n",
       "      <td>4.9 out of 5 stars</td>\n",
       "      <td>Hobbies &gt; Model Trains &amp; Railway Sets &gt; Rail V...</td>\n",
       "      <td>Product Description Hornby 2014 Catalogue Box ...</td>\n",
       "      <td>...</td>\n",
       "      <td>NaN</td>\n",
       "      <td>NaN</td>\n",
       "      <td>NaN</td>\n",
       "      <td>NaN</td>\n",
       "      <td>NaN</td>\n",
       "      <td>NaN</td>\n",
       "      <td>NaN</td>\n",
       "      <td>NaN</td>\n",
       "      <td>NaN</td>\n",
       "      <td>NaN</td>\n",
       "    </tr>\n",
       "    <tr>\n",
       "      <th>1</th>\n",
       "      <td>b17540ef7e86e461d37f3ae58b7b72ac</td>\n",
       "      <td>FunkyBuysÂ® Large Christmas Holiday Express Fe...</td>\n",
       "      <td>FunkyBuys</td>\n",
       "      <td>Â£16.99</td>\n",
       "      <td>NaN</td>\n",
       "      <td>2</td>\n",
       "      <td>1</td>\n",
       "      <td>4.5 out of 5 stars</td>\n",
       "      <td>Hobbies &gt; Model Trains &amp; Railway Sets &gt; Rail V...</td>\n",
       "      <td>Size Name:Large FunkyBuysÂ® Large Christmas Ho...</td>\n",
       "      <td>...</td>\n",
       "      <td>NaN</td>\n",
       "      <td>NaN</td>\n",
       "      <td>NaN</td>\n",
       "      <td>NaN</td>\n",
       "      <td>NaN</td>\n",
       "      <td>NaN</td>\n",
       "      <td>NaN</td>\n",
       "      <td>NaN</td>\n",
       "      <td>NaN</td>\n",
       "      <td>NaN</td>\n",
       "    </tr>\n",
       "    <tr>\n",
       "      <th>2</th>\n",
       "      <td>348f344247b0c1a935b1223072ef9d8a</td>\n",
       "      <td>CLASSIC TOY TRAIN SET TRACK CARRIAGES LIGHT EN...</td>\n",
       "      <td>ccf</td>\n",
       "      <td>Â£9.99</td>\n",
       "      <td>2Â new</td>\n",
       "      <td>17</td>\n",
       "      <td>2</td>\n",
       "      <td>3.9 out of 5 stars</td>\n",
       "      <td>Hobbies &gt; Model Trains &amp; Railway Sets &gt; Rail V...</td>\n",
       "      <td>BIG CLASSIC TOY TRAIN SET TRACK CARRIAGE LIGHT...</td>\n",
       "      <td>...</td>\n",
       "      <td>NaN</td>\n",
       "      <td>NaN</td>\n",
       "      <td>NaN</td>\n",
       "      <td>NaN</td>\n",
       "      <td>NaN</td>\n",
       "      <td>NaN</td>\n",
       "      <td>NaN</td>\n",
       "      <td>NaN</td>\n",
       "      <td>NaN</td>\n",
       "      <td>NaN</td>\n",
       "    </tr>\n",
       "    <tr>\n",
       "      <th>3</th>\n",
       "      <td>e12b92dbb8eaee78b22965d2a9bbbd9f</td>\n",
       "      <td>HORNBY Coach R4410A BR Hawksworth Corridor 3rd</td>\n",
       "      <td>Hornby</td>\n",
       "      <td>Â£39.99</td>\n",
       "      <td>NaN</td>\n",
       "      <td>1</td>\n",
       "      <td>2</td>\n",
       "      <td>5.0 out of 5 stars</td>\n",
       "      <td>Hobbies &gt; Model Trains &amp; Railway Sets &gt; Rail V...</td>\n",
       "      <td>Hornby 00 Gauge BR Hawksworth 3rd Class W 2107...</td>\n",
       "      <td>...</td>\n",
       "      <td>NaN</td>\n",
       "      <td>NaN</td>\n",
       "      <td>NaN</td>\n",
       "      <td>NaN</td>\n",
       "      <td>NaN</td>\n",
       "      <td>NaN</td>\n",
       "      <td>NaN</td>\n",
       "      <td>NaN</td>\n",
       "      <td>NaN</td>\n",
       "      <td>NaN</td>\n",
       "    </tr>\n",
       "    <tr>\n",
       "      <th>4</th>\n",
       "      <td>e33a9adeed5f36840ccc227db4682a36</td>\n",
       "      <td>Hornby 00 Gauge 0-4-0 Gildenlow Salt Co. Steam...</td>\n",
       "      <td>Hornby</td>\n",
       "      <td>Â£32.19</td>\n",
       "      <td>NaN</td>\n",
       "      <td>3</td>\n",
       "      <td>2</td>\n",
       "      <td>4.7 out of 5 stars</td>\n",
       "      <td>Hobbies &gt; Model Trains &amp; Railway Sets &gt; Rail V...</td>\n",
       "      <td>Product Description Hornby RailRoad 0-4-0 Gild...</td>\n",
       "      <td>...</td>\n",
       "      <td>NaN</td>\n",
       "      <td>NaN</td>\n",
       "      <td>NaN</td>\n",
       "      <td>NaN</td>\n",
       "      <td>NaN</td>\n",
       "      <td>NaN</td>\n",
       "      <td>NaN</td>\n",
       "      <td>NaN</td>\n",
       "      <td>NaN</td>\n",
       "      <td>NaN</td>\n",
       "    </tr>\n",
       "  </tbody>\n",
       "</table>\n",
       "<p>5 rows × 895 columns</p>\n",
       "</div>"
      ],
      "text/plain": [
       "                            uniq_id  \\\n",
       "0  eac7efa5dbd3d667f26eb3d3ab504464   \n",
       "1  b17540ef7e86e461d37f3ae58b7b72ac   \n",
       "2  348f344247b0c1a935b1223072ef9d8a   \n",
       "3  e12b92dbb8eaee78b22965d2a9bbbd9f   \n",
       "4  e33a9adeed5f36840ccc227db4682a36   \n",
       "\n",
       "                                        product_name manufacturer    price  \\\n",
       "0                              Hornby 2014 Catalogue       Hornby   Â£3.42   \n",
       "1  FunkyBuysÂ® Large Christmas Holiday Express Fe...    FunkyBuys  Â£16.99   \n",
       "2  CLASSIC TOY TRAIN SET TRACK CARRIAGES LIGHT EN...          ccf   Â£9.99   \n",
       "3     HORNBY Coach R4410A BR Hawksworth Corridor 3rd       Hornby  Â£39.99   \n",
       "4  Hornby 00 Gauge 0-4-0 Gildenlow Salt Co. Steam...       Hornby  Â£32.19   \n",
       "\n",
       "  number_available_in_stock number_of_reviews number_of_answered_questions  \\\n",
       "0                    5Â new                15                            1   \n",
       "1                       NaN                 2                            1   \n",
       "2                    2Â new                17                            2   \n",
       "3                       NaN                 1                            2   \n",
       "4                       NaN                 3                            2   \n",
       "\n",
       "  average_review_rating                   amazon_category_and_sub_category  \\\n",
       "0    4.9 out of 5 stars  Hobbies > Model Trains & Railway Sets > Rail V...   \n",
       "1    4.5 out of 5 stars  Hobbies > Model Trains & Railway Sets > Rail V...   \n",
       "2    3.9 out of 5 stars  Hobbies > Model Trains & Railway Sets > Rail V...   \n",
       "3    5.0 out of 5 stars  Hobbies > Model Trains & Railway Sets > Rail V...   \n",
       "4    4.7 out of 5 stars  Hobbies > Model Trains & Railway Sets > Rail V...   \n",
       "\n",
       "                                         description  ... Unnamed: 885  \\\n",
       "0  Product Description Hornby 2014 Catalogue Box ...  ...          NaN   \n",
       "1  Size Name:Large FunkyBuysÂ® Large Christmas Ho...  ...          NaN   \n",
       "2  BIG CLASSIC TOY TRAIN SET TRACK CARRIAGE LIGHT...  ...          NaN   \n",
       "3  Hornby 00 Gauge BR Hawksworth 3rd Class W 2107...  ...          NaN   \n",
       "4  Product Description Hornby RailRoad 0-4-0 Gild...  ...          NaN   \n",
       "\n",
       "  Unnamed: 886 Unnamed: 887 Unnamed: 888 Unnamed: 889 Unnamed: 890  \\\n",
       "0          NaN          NaN          NaN          NaN          NaN   \n",
       "1          NaN          NaN          NaN          NaN          NaN   \n",
       "2          NaN          NaN          NaN          NaN          NaN   \n",
       "3          NaN          NaN          NaN          NaN          NaN   \n",
       "4          NaN          NaN          NaN          NaN          NaN   \n",
       "\n",
       "  Unnamed: 891 Unnamed: 892 Unnamed: 893 Unnamed: 894  \n",
       "0          NaN          NaN          NaN          NaN  \n",
       "1          NaN          NaN          NaN          NaN  \n",
       "2          NaN          NaN          NaN          NaN  \n",
       "3          NaN          NaN          NaN          NaN  \n",
       "4          NaN          NaN          NaN          NaN  \n",
       "\n",
       "[5 rows x 895 columns]"
      ]
     },
     "metadata": {},
     "output_type": "display_data"
    },
    {
     "data": {
      "text/plain": [
       "(9880, 895)"
      ]
     },
     "execution_count": 4,
     "metadata": {},
     "output_type": "execute_result"
    }
   ],
   "source": [
    "# read database and store in a dataframe variable\n",
    "def read(path='./Amazon_Products.csv'):\n",
    "    df = pd.read_csv(path, dtype=str)\n",
    "    display(df.head())\n",
    "    return df\n",
    "\n",
    "df = read()\n",
    "df.shape"
   ]
  },
  {
   "cell_type": "code",
   "execution_count": 34,
   "metadata": {},
   "outputs": [
    {
     "data": {
      "text/html": [
       "<div>\n",
       "<style scoped>\n",
       "    .dataframe tbody tr th:only-of-type {\n",
       "        vertical-align: middle;\n",
       "    }\n",
       "\n",
       "    .dataframe tbody tr th {\n",
       "        vertical-align: top;\n",
       "    }\n",
       "\n",
       "    .dataframe thead th {\n",
       "        text-align: right;\n",
       "    }\n",
       "</style>\n",
       "<table border=\"1\" class=\"dataframe\">\n",
       "  <thead>\n",
       "    <tr style=\"text-align: right;\">\n",
       "      <th></th>\n",
       "      <th>price</th>\n",
       "      <th>number_of_reviews</th>\n",
       "      <th>number_of_answered_questions</th>\n",
       "      <th>average_review_rating</th>\n",
       "      <th>category_labels</th>\n",
       "    </tr>\n",
       "  </thead>\n",
       "  <tbody>\n",
       "    <tr>\n",
       "      <th>count</th>\n",
       "      <td>0.0</td>\n",
       "      <td>643.000000</td>\n",
       "      <td>603.000000</td>\n",
       "      <td>643.000000</td>\n",
       "      <td>644.000000</td>\n",
       "    </tr>\n",
       "    <tr>\n",
       "      <th>mean</th>\n",
       "      <td>NaN</td>\n",
       "      <td>5.681182</td>\n",
       "      <td>1.792703</td>\n",
       "      <td>4.708865</td>\n",
       "      <td>4.139752</td>\n",
       "    </tr>\n",
       "    <tr>\n",
       "      <th>std</th>\n",
       "      <td>NaN</td>\n",
       "      <td>13.161212</td>\n",
       "      <td>2.918918</td>\n",
       "      <td>0.376530</td>\n",
       "      <td>3.344739</td>\n",
       "    </tr>\n",
       "    <tr>\n",
       "      <th>min</th>\n",
       "      <td>NaN</td>\n",
       "      <td>1.000000</td>\n",
       "      <td>1.000000</td>\n",
       "      <td>3.600000</td>\n",
       "      <td>1.000000</td>\n",
       "    </tr>\n",
       "    <tr>\n",
       "      <th>25%</th>\n",
       "      <td>NaN</td>\n",
       "      <td>1.000000</td>\n",
       "      <td>1.000000</td>\n",
       "      <td>4.400000</td>\n",
       "      <td>1.000000</td>\n",
       "    </tr>\n",
       "    <tr>\n",
       "      <th>50%</th>\n",
       "      <td>NaN</td>\n",
       "      <td>2.000000</td>\n",
       "      <td>1.000000</td>\n",
       "      <td>5.000000</td>\n",
       "      <td>4.000000</td>\n",
       "    </tr>\n",
       "    <tr>\n",
       "      <th>75%</th>\n",
       "      <td>NaN</td>\n",
       "      <td>4.000000</td>\n",
       "      <td>2.000000</td>\n",
       "      <td>5.000000</td>\n",
       "      <td>6.000000</td>\n",
       "    </tr>\n",
       "    <tr>\n",
       "      <th>max</th>\n",
       "      <td>NaN</td>\n",
       "      <td>168.000000</td>\n",
       "      <td>39.000000</td>\n",
       "      <td>5.000000</td>\n",
       "      <td>11.000000</td>\n",
       "    </tr>\n",
       "  </tbody>\n",
       "</table>\n",
       "</div>"
      ],
      "text/plain": [
       "       price  number_of_reviews  number_of_answered_questions  \\\n",
       "count    0.0         643.000000                    603.000000   \n",
       "mean     NaN           5.681182                      1.792703   \n",
       "std      NaN          13.161212                      2.918918   \n",
       "min      NaN           1.000000                      1.000000   \n",
       "25%      NaN           1.000000                      1.000000   \n",
       "50%      NaN           2.000000                      1.000000   \n",
       "75%      NaN           4.000000                      2.000000   \n",
       "max      NaN         168.000000                     39.000000   \n",
       "\n",
       "       average_review_rating  category_labels  \n",
       "count             643.000000       644.000000  \n",
       "mean                4.708865         4.139752  \n",
       "std                 0.376530         3.344739  \n",
       "min                 3.600000         1.000000  \n",
       "25%                 4.400000         1.000000  \n",
       "50%                 5.000000         4.000000  \n",
       "75%                 5.000000         6.000000  \n",
       "max                 5.000000        11.000000  "
      ]
     },
     "execution_count": 34,
     "metadata": {},
     "output_type": "execute_result"
    }
   ],
   "source": [
    "df.describe()"
   ]
  },
  {
   "cell_type": "markdown",
   "metadata": {},
   "source": [
    "## Sec C: Prepare Data / Data Cleaning\n",
    "\n",
    "There are a wide variety of columns available in the dataset which will need to be looked at one at a time. Upon a quick look, it seems like most of the columns starting with \"Unnamed\" are not useful and can be deleted."
   ]
  },
  {
   "cell_type": "code",
   "execution_count": 5,
   "metadata": {
    "execution": {
     "iopub.execute_input": "2022-03-13T13:26:49.17888Z",
     "iopub.status.busy": "2022-03-13T13:26:49.178564Z",
     "iopub.status.idle": "2022-03-13T13:26:49.185455Z",
     "shell.execute_reply": "2022-03-13T13:26:49.184862Z",
     "shell.execute_reply.started": "2022-03-13T13:26:49.178854Z"
    }
   },
   "outputs": [],
   "source": [
    "# function to summarize any column\n",
    "def ColSummary (col, dtype=None, new_col=None):\n",
    "    try:\n",
    "        print(\"\\n\"+str(col).upper()+\" ANALYSIS\")\n",
    "        if new_col:\n",
    "            df.rename(columns={col:new_col})\n",
    "            print(\"\\t\"+col+\" name updated to \"+new_col)\n",
    "            col = new_col\n",
    "        if dtype:\n",
    "            df[col] = df[col].astype(dtype)\n",
    "            print(\"\\tType changed to \"+dtype)\n",
    "        print('\\tTotal number of values : ', len(df[col]))\n",
    "        print('\\tTotal number of unique values : ', df[col].nunique())\n",
    "        print('\\tUnique values : ',df[col].unique()[:5])\n",
    "        print('\\tRange of length : ', min(df[col].apply(lambda x: len(str(x)))),\" to \",max(df[col].apply(lambda x: len(str(x)))))\n",
    "        print('\\tMissing Values : ', df[col].isna().sum())\n",
    "    except:\n",
    "        print(\"\\n*** Cannot work with this datatype.. Try Again.... ***\")"
   ]
  },
  {
   "cell_type": "code",
   "execution_count": 6,
   "metadata": {
    "execution": {
     "iopub.execute_input": "2022-03-13T13:26:49.187319Z",
     "iopub.status.busy": "2022-03-13T13:26:49.187004Z",
     "iopub.status.idle": "2022-03-13T13:26:49.230333Z",
     "shell.execute_reply": "2022-03-13T13:26:49.229364Z",
     "shell.execute_reply.started": "2022-03-13T13:26:49.187291Z"
    }
   },
   "outputs": [
    {
     "name": "stdout",
     "output_type": "stream",
     "text": [
      "Leftover columns:  Index(['uniq_id', 'product_name', 'manufacturer', 'price',\n",
      "       'number_available_in_stock', 'number_of_reviews',\n",
      "       'number_of_answered_questions', 'average_review_rating',\n",
      "       'amazon_category_and_sub_category', 'description',\n",
      "       'product_information', 'product_description',\n",
      "       'items_customers_buy_after_viewing_this_item',\n",
      "       'customer_questions_and_answers'],\n",
      "      dtype='object')\n"
     ]
    }
   ],
   "source": [
    "# delete columns which are unnamed\n",
    "unnamed_cols = [col for col in df.columns if 'Unnamed' in col]\n",
    "df = df.drop(unnamed_cols, axis = 1)\n",
    "print(\"Leftover columns: \", df.columns)"
   ]
  },
  {
   "cell_type": "code",
   "execution_count": 7,
   "metadata": {
    "execution": {
     "iopub.execute_input": "2022-03-13T13:26:49.231743Z",
     "iopub.status.busy": "2022-03-13T13:26:49.231517Z",
     "iopub.status.idle": "2022-03-13T13:26:49.307076Z",
     "shell.execute_reply": "2022-03-13T13:26:49.305189Z",
     "shell.execute_reply.started": "2022-03-13T13:26:49.231715Z"
    }
   },
   "outputs": [
    {
     "name": "stdout",
     "output_type": "stream",
     "text": [
      "\n",
      "UNIQ_ID ANALYSIS\n",
      "\tType changed to str\n",
      "\tTotal number of values :  9880\n",
      "\tTotal number of unique values :  6253\n",
      "\tUnique values :  ['eac7efa5dbd3d667f26eb3d3ab504464' 'b17540ef7e86e461d37f3ae58b7b72ac'\n",
      " '348f344247b0c1a935b1223072ef9d8a' 'e12b92dbb8eaee78b22965d2a9bbbd9f'\n",
      " 'e33a9adeed5f36840ccc227db4682a36']\n",
      "\tRange of length :  1  to  32\n",
      "\tMissing Values :  0\n",
      "\n",
      "\tInspecting IDs with unusual length :  ['nan', 'nan', '}', 'nan', 'nan', '}', 'nan', 'nan', 'nan', 'nan', 'nan', 'nan', 'nan', 'nan', 'nan', 'nan', 'nan', 'nan', 'nan', 'nan', 'nan', 'nan', 'nan', 'nan', 'nan', 'nan', 'nan', 'nan', 'nan', 'nan', 'nan', 'nan', 'nan', 'nan', 'nan', 'nan', 'nan', 'nan', 'nan', 'nan', 'nan', 'nan', 'nan', 'nan', 'nan', 'nan', 'nan', 'nan', 'nan', 'nan', 'nan', 'nan', 'nan', 'nan', 'nan', 'nan', 'nan', 'nan', 'nan', 'nan', 'nan', 'nan', 'nan', 'nan', 'nan', 'nan', 'nan', 'nan', 'nan', 'nan', 'nan', 'nan', 'nan', 'nan', 'nan', 'nan', 'nan', 'nan', 'nan', 'nan', 'nan', 'nan', 'nan', 'nan', 'nan', 'nan', 'nan', 'nan', 'nan', 'nan', 'nan', 'nan', 'nan', 'nan', 'nan', 'nan', 'nan', 'nan', 'nan', 'nan', 'nan', 'nan', 'nan', 'nan', 'nan', 'nan', 'nan', 'nan', 'nan', 'nan', 'nan', 'nan', 'nan', 'nan', 'nan', 'nan', 'nan', 'nan', 'nan', 'nan', 'nan', 'nan', 'nan', 'nan', 'nan', 'nan', 'nan', 'nan', 'nan', 'nan', 'nan', 'nan', 'nan', 'nan', 'nan', 'nan', 'nan', 'nan', 'nan', 'nan', 'nan', 'nan', 'nan', 'nan', 'nan', 'nan', 'nan', 'nan', 'nan', 'nan', 'nan', 'nan', 'nan', 'nan', 'nan', 'nan', 'nan', 'nan', 'nan', 'nan', 'nan', 'nan', 'nan', 'nan', 'nan', 'nan', 'nan', 'nan', 'nan', 'nan', 'nan', 'nan', 'nan', 'nan', 'nan', 'nan', 'nan', 'nan', 'nan', 'nan', 'nan', 'nan', 'nan', 'nan', 'nan', 'nan', 'nan', 'nan', 'nan', 'nan', 'nan', 'nan', 'nan', 'nan', 'nan', 'nan', 'nan', 'nan', 'nan', 'nan', 'nan', 'nan', 'nan', 'nan', 'nan', 'nan', 'nan', 'nan', 'nan', 'nan', 'nan', 'nan', 'nan', 'nan', 'nan', 'nan', 'nan', 'nan', 'nan', 'nan', 'nan', 'nan', 'nan', 'nan', 'nan', 'nan', 'nan', 'nan', 'nan', 'nan', 'nan', 'nan', 'nan', 'nan', 'nan', 'nan', 'nan', 'nan', 'nan', 'nan', 'nan', 'nan', 'nan', 'nan', 'nan', 'nan', 'nan', 'nan', 'nan', 'nan', 'nan', 'nan', 'nan', 'nan', 'nan', 'nan', 'nan', 'nan', 'nan', 'nan', 'nan', 'nan', 'nan', 'nan', 'nan', 'nan', 'nan', 'nan', 'nan', 'nan', 'nan', 'nan', 'nan', 'nan', 'nan', 'nan', 'nan', 'nan', 'nan', 'nan', 'nan', 'nan', 'nan', 'nan', 'nan', 'nan', 'nan', 'nan', 'nan', 'nan', 'nan', 'nan', 'nan', 'nan', 'nan', 'nan', 'nan', 'nan', 'nan', 'nan', 'nan', 'nan', 'nan', 'nan', 'nan', 'nan', 'nan', 'nan', 'nan', 'nan', 'nan', 'nan', 'nan', 'nan', 'nan', 'nan', 'nan', 'nan', 'nan', 'nan', 'nan', 'nan', 'nan', 'nan', 'nan', 'nan', 'nan', 'nan', 'nan', 'nan', 'nan', 'nan', 'nan', 'nan', 'nan', 'nan', 'nan', 'nan', 'nan', 'nan', 'nan', 'nan', 'nan', 'nan', 'nan', 'nan', 'nan', 'nan', 'nan', 'nan', 'nan', 'nan', 'nan', 'nan', 'nan', 'nan', 'nan', 'nan', 'nan', 'nan', 'nan', 'nan', 'nan', 'nan', 'nan', 'nan', 'nan', 'nan', 'nan', 'nan', 'nan', 'nan', 'nan', 'nan', 'nan', 'nan', 'nan', 'nan', 'nan', 'nan', 'nan', 'nan', 'nan', 'nan', 'nan', 'nan', 'nan', 'nan', 'nan', 'nan', 'nan', 'nan', 'nan', 'nan', 'nan', 'nan', 'nan', 'nan', 'nan', 'nan', 'nan', 'nan', 'nan', 'nan', 'nan', 'nan', 'nan', 'nan', 'nan', 'nan', 'nan', 'nan', 'nan', 'nan', 'nan', 'nan', 'nan', 'nan', 'nan', 'nan', 'nan', 'nan', 'nan', 'nan', 'nan', 'nan', 'nan', 'nan', 'nan', 'nan', 'nan', 'nan', 'nan', 'nan', 'nan', 'nan', 'nan', 'nan', 'nan', 'nan', 'nan', 'nan', 'nan', 'nan', 'nan', 'nan', 'nan', 'nan', 'nan', 'nan', 'nan', 'nan', 'nan', 'nan', 'nan', 'nan', 'nan', 'nan', 'nan', 'nan', 'nan', 'nan', 'nan', 'nan', 'nan', 'nan', 'nan', 'nan', 'nan', 'nan', 'nan', 'nan', 'nan', 'nan', 'nan', 'nan', 'nan', 'nan', 'nan', 'nan', 'nan', 'nan', 'nan', 'nan', 'nan', 'nan', 'nan', 'nan', 'nan', 'nan', 'nan', 'nan', 'nan', 'nan', 'nan', 'nan', 'nan', 'nan', 'nan', 'nan', 'nan', 'nan', 'nan', 'nan', 'nan', 'nan', 'nan', 'nan', 'nan', 'nan', 'nan', 'nan', 'nan', 'nan', 'nan', 'nan', 'nan', 'nan', 'nan', 'nan', 'nan', 'nan', 'nan', 'nan', 'nan', 'nan', 'nan', 'nan', 'nan', 'nan', 'nan', 'nan', 'nan', 'nan', 'nan', 'nan', 'nan', 'nan', 'nan', 'nan', 'nan', 'nan', 'nan', 'nan', 'nan', 'nan', 'nan', 'nan', 'nan', 'nan', 'nan', 'nan', 'nan', 'nan', 'nan', 'nan', 'nan', 'nan', 'nan', 'nan', 'nan', 'nan', 'nan', 'nan', 'nan', 'nan', 'nan', 'nan', 'nan', 'nan', 'nan', 'nan', 'nan', 'nan', 'nan', 'nan', 'nan', 'nan', 'nan', 'nan', 'nan', 'nan', 'nan', 'nan', 'nan', 'nan', 'nan', 'nan', 'nan', 'nan', 'nan', 'nan', 'nan', 'nan', 'nan', 'nan', 'nan', 'nan', 'nan', 'nan', 'nan', 'nan', 'nan', 'nan', 'nan', 'nan', 'nan', 'nan', 'nan', 'nan', 'nan', 'nan', 'nan', 'nan', 'nan', 'nan', 'nan', 'nan', 'nan', 'nan', 'nan', 'nan', 'nan', 'nan', 'nan', 'nan', 'nan', 'nan', 'nan', 'nan', 'nan', 'nan', 'nan', 'nan', 'nan', 'nan', 'nan', 'nan', 'nan', 'nan', 'nan', 'nan', 'nan', 'nan', 'nan', 'nan', 'nan', 'nan', 'nan', 'nan', 'nan', 'nan', 'nan', 'nan', 'nan', 'nan', 'nan', 'nan', 'nan', 'nan', 'nan', 'nan', 'nan', 'nan', 'nan', 'nan', 'nan', 'nan', 'nan', 'nan', 'nan', 'nan', 'nan', 'nan', 'nan', 'nan', 'nan', 'nan', 'nan', 'nan', 'nan', 'nan', 'nan', 'nan', 'nan', 'nan', 'nan', 'nan', 'nan', 'nan', 'nan', 'nan', 'nan', 'nan', 'nan', 'nan', 'nan', 'nan', 'nan', 'nan', 'nan', 'nan', 'nan', 'nan', 'nan', 'nan', 'nan', 'nan', 'nan', 'nan', 'nan', 'nan', 'nan', 'nan', 'nan', 'nan', 'nan', 'nan', 'nan', 'nan', 'nan', 'nan', 'nan', 'nan', 'nan', 'nan', 'nan', 'nan', 'nan', 'nan', 'nan', 'nan', 'nan', 'nan', 'nan', 'nan', 'nan', 'nan', 'nan', 'nan', 'nan', 'nan', 'nan', 'nan', 'nan', 'nan', 'nan', 'nan', 'nan', 'nan', 'nan', 'nan', 'nan', 'nan', 'nan', 'nan', 'nan', 'nan', 'nan', 'nan', 'nan', 'nan', 'nan', 'nan', 'nan', 'nan', 'nan', 'nan', 'nan', 'nan', 'nan', 'nan', 'nan', 'nan', 'nan', 'nan', 'nan', 'nan', 'nan', 'nan', 'nan', 'nan', 'nan', 'nan', 'nan', 'nan', 'nan', 'nan', 'nan', 'nan', 'nan', 'nan', 'nan', 'nan', 'nan', 'nan', 'nan', 'nan', 'nan', 'nan', 'nan', 'nan', 'nan', 'nan', 'nan', 'nan', 'nan', 'nan', 'nan', 'nan', 'nan', 'nan', 'nan', 'nan', 'nan', 'nan', 'nan', 'nan', 'nan', 'nan', 'nan', 'nan', 'nan', 'nan', 'nan', 'nan', 'nan', 'nan', 'nan', 'nan', 'nan', 'nan', 'nan', 'nan', 'nan', 'nan', 'nan', 'nan', 'nan', 'nan', 'nan', 'nan', 'nan', 'nan', 'nan', 'nan', 'nan', 'nan', 'nan', 'nan', 'nan', 'nan', 'nan', 'nan', 'nan', 'nan', 'nan', 'nan', 'nan', 'nan', 'nan', 'nan', 'nan', 'nan', 'nan', 'nan', 'nan', 'nan', 'nan', 'nan', 'nan', 'nan', 'nan', 'nan', 'nan', 'nan', 'nan', 'nan', 'nan', 'nan', 'nan', 'nan', 'nan', 'nan', 'nan', 'nan', 'nan', 'nan', 'nan', 'nan', 'nan', 'nan', 'nan', 'nan', 'nan', 'nan', 'nan', 'nan', 'nan', 'nan', 'nan', 'nan', 'nan', 'nan', 'nan', 'nan', 'nan', 'nan', 'nan', 'nan', 'nan', 'nan', 'nan', 'nan', 'nan', 'nan', 'nan', 'nan', 'nan', 'nan', 'nan', 'nan', 'nan', 'nan', 'nan', 'nan', 'nan', 'nan', 'nan', 'nan', 'nan', 'nan', 'nan', 'nan', 'nan', 'nan', 'nan', 'nan', 'nan', 'nan', 'nan', 'nan', 'nan', 'nan', 'nan', 'nan', 'nan', 'nan', 'nan', 'nan', 'nan', 'nan', 'nan', 'nan', 'nan', 'nan', 'nan', 'nan', 'nan', 'nan', 'nan', 'nan', 'nan', 'nan', 'nan', 'nan', 'nan', 'nan', 'nan', 'nan', 'nan', 'nan', 'nan', 'nan', 'nan', 'nan', 'nan', 'nan', 'nan', 'nan', 'nan', 'nan', 'nan', 'nan', 'nan', 'nan', 'nan', 'nan', 'nan', 'nan', 'nan', 'nan', 'nan', 'nan', 'nan', 'nan', 'nan', 'nan', 'nan', 'nan', 'nan', 'nan', 'nan', 'nan', 'nan', 'nan', 'nan', 'nan', 'nan', 'nan', 'nan', 'nan', 'nan', 'nan', 'nan', 'nan', 'nan', 'nan', 'nan', 'nan', 'nan', 'nan', 'nan', 'nan', 'nan', 'nan', 'nan', 'nan', 'nan', 'nan', 'nan', 'nan', 'nan', 'nan', 'nan', 'nan', 'nan', 'nan', 'nan', 'nan', 'nan', 'nan', 'nan', 'nan', 'nan', 'nan', 'nan', 'nan', 'nan', 'nan', 'nan', 'nan', 'nan', 'nan', 'nan', 'nan', 'nan', 'nan', 'nan', 'nan', 'nan', 'nan', 'nan', 'nan', 'nan', 'nan', 'nan', 'nan', 'nan', 'nan', 'nan', 'nan', 'nan', 'nan', 'nan', 'nan', 'nan', 'nan', 'nan', 'nan', 'nan', 'nan', 'nan', 'nan', 'nan', 'nan', 'nan', 'nan', 'nan', 'nan', 'nan', 'nan', 'nan', 'nan', 'nan', 'nan', 'nan', 'nan', 'nan', 'nan', 'nan', 'nan', 'nan', 'nan', 'nan', 'nan', 'nan', 'nan', 'nan', 'nan', 'nan', 'nan', 'nan', 'nan', 'nan', 'nan', 'nan', 'nan', 'nan', 'nan', 'nan', 'nan', 'nan', 'nan', 'nan', 'nan', 'nan', 'nan', 'nan', 'nan', 'nan', 'nan', 'nan', 'nan', 'nan', 'nan', 'nan', 'nan', 'nan', 'nan', 'nan', 'nan', 'nan', 'nan', 'nan', 'nan', 'nan', 'nan', 'nan', 'nan', 'nan', 'nan', 'nan', 'nan', 'nan', 'nan', 'nan', 'nan', 'nan', 'nan', 'nan', 'nan', 'nan', 'nan', 'nan', 'nan', 'nan', 'nan', 'nan', 'nan', 'nan', 'nan', 'nan', 'nan', 'nan', 'nan', 'nan', 'nan', 'nan', 'nan', 'nan', 'nan', 'nan', 'nan', 'nan', 'nan', 'nan', 'nan', 'nan', 'nan', 'nan', 'nan', 'nan', 'nan', 'nan', 'nan', 'nan', 'nan', 'nan', 'nan', 'nan', 'nan', 'nan', 'nan', 'nan', 'nan', 'nan', 'nan', 'nan', 'nan', 'nan', 'nan', 'nan', 'nan', 'nan', 'nan', 'nan', 'nan', 'nan', 'nan', 'nan', 'nan', 'nan', 'nan', 'nan', 'nan', 'nan', 'nan', 'nan', 'nan', 'nan', 'nan', 'nan', 'nan', 'nan', 'nan', 'nan', 'nan', 'nan', 'nan', 'nan', 'nan', 'nan', 'nan', 'nan', 'nan', 'nan', 'nan', 'nan', 'nan', 'nan', 'nan', 'nan', 'nan', 'nan', 'nan', 'nan', 'nan', 'nan', 'nan', 'nan', 'nan', 'nan', 'nan', 'nan', 'nan', 'nan', 'nan', 'nan', 'nan', 'nan', 'nan', 'nan', 'nan', 'nan', 'nan', 'nan', 'nan', 'nan', 'nan', 'nan', 'nan', 'nan', 'nan', 'nan', 'nan', 'nan', 'nan', 'nan', 'nan', 'nan', 'nan', 'nan', 'nan', 'nan', 'nan', 'nan', 'nan', 'nan', 'nan', 'nan', 'nan', 'nan', 'nan', 'nan', 'nan', 'nan', 'nan', 'nan', 'nan', 'nan', 'nan', 'nan', 'nan', 'nan', 'nan', 'nan', 'nan', 'nan', 'nan', 'nan', 'nan', 'nan', 'nan', 'nan', 'nan', 'nan', 'nan', 'nan', 'nan', 'nan', 'nan', 'nan', 'nan', 'nan', 'nan', 'nan', 'nan', 'nan', 'nan', 'nan', 'nan', 'nan', 'nan', 'nan', 'nan', 'nan', 'nan', 'nan', 'nan', 'nan', 'nan', 'nan', 'nan', 'nan', 'nan', 'nan', 'nan', 'nan', 'nan', 'nan', 'nan', 'nan', 'nan', 'nan', 'nan', 'nan', 'nan', 'nan', 'nan', 'nan', 'nan', 'nan', 'nan', 'nan', 'nan', 'nan', 'nan', 'nan', 'nan', 'nan', 'nan', 'nan', 'nan', 'nan', 'nan', 'nan', 'nan', 'nan', 'nan', 'nan', 'nan', 'nan', 'nan', 'nan', 'nan', 'nan', 'nan', 'nan', 'nan', 'nan', 'nan', 'nan', 'nan', 'nan', 'nan', 'nan', 'nan', 'nan', 'nan', 'nan', 'nan', 'nan', 'nan', 'nan', 'nan', 'nan', 'nan', 'nan', 'nan', 'nan', 'nan', 'nan', 'nan', 'nan', 'nan', 'nan', 'nan', 'nan', 'nan', 'nan', 'nan', 'nan', 'nan', 'nan', 'nan', 'nan', 'nan', 'nan', 'nan', 'nan', 'nan', 'nan', 'nan', 'nan', 'nan', 'nan', 'nan', 'nan', 'nan', 'nan', 'nan', 'nan', 'nan', 'nan', 'nan', 'nan', 'nan', 'nan', 'nan', 'nan', 'nan', 'nan', 'nan', 'nan', 'nan', 'nan', 'nan', 'nan', 'nan', 'nan', 'nan', 'nan', 'nan', 'nan', 'nan', 'nan', 'nan', 'nan', 'nan', 'nan', 'nan', 'nan', 'nan', 'nan', 'nan', 'nan', 'nan', 'nan', 'nan', 'nan', 'nan', 'nan', 'nan', 'nan', 'nan', 'nan', 'nan', 'nan', 'nan', 'nan', 'nan', 'nan', 'nan', 'nan', 'nan', 'nan', 'nan', 'nan', 'nan', 'nan', 'nan', 'nan', 'nan', 'nan', 'nan', 'nan', 'nan', 'nan', 'nan', 'nan', 'nan', 'nan', 'nan', 'nan', 'nan', 'nan', 'nan', 'nan', 'nan', 'nan', 'nan', 'nan', 'nan', 'nan', 'nan', 'nan', 'nan', 'nan', 'nan', 'nan', 'nan', 'nan', 'nan', 'nan', 'nan', 'nan', 'nan', 'nan', 'nan', 'nan', 'nan', 'nan', 'nan', 'nan', 'nan', 'nan', 'nan', 'nan', 'nan', 'nan', 'nan', 'nan', 'nan', 'nan', 'nan', 'nan', 'nan', 'nan', 'nan', 'nan', 'nan', 'nan', 'nan', 'nan', 'nan', 'nan', 'nan', 'nan', 'nan', 'nan', 'nan', 'nan', 'nan', 'nan', 'nan', 'nan', 'nan', 'nan', 'nan', 'nan', 'nan', 'nan', 'nan', 'nan', 'nan', 'nan', 'nan', 'nan', 'nan', 'nan', 'nan', 'nan', 'nan', 'nan', 'nan', 'nan', 'nan', 'nan', 'nan', 'nan', 'nan', 'nan', 'nan', 'nan', 'nan', 'nan', 'nan', 'nan', 'nan', 'nan', 'nan', 'nan', 'nan', 'nan', 'nan', 'nan', 'nan', 'nan', 'nan', 'nan', 'nan', 'nan', 'nan', 'nan', 'nan', 'nan', 'nan', 'nan', 'nan', 'nan', 'nan', 'nan', 'nan', 'nan', 'nan', 'nan', 'nan', 'nan', 'nan', 'nan', 'nan', 'nan', 'nan', 'nan', 'nan', 'nan', 'nan', 'nan', 'nan', 'nan', 'nan', 'nan', 'nan', 'nan', 'nan', 'nan', 'nan', 'nan', 'nan', 'nan', 'nan', 'nan', 'nan', 'nan', 'nan', 'nan', 'nan', 'nan', 'nan', 'nan', 'nan', 'nan', 'nan', 'nan', 'nan', 'nan', 'nan', 'nan', 'nan', 'nan', 'nan', 'nan', 'nan', 'nan', 'nan', 'nan', 'nan', 'nan', 'nan', 'nan', 'nan', 'nan', 'nan', 'nan', 'nan', 'nan', 'nan', 'nan', 'nan', 'nan', 'nan', 'nan', 'nan', 'nan', 'nan', 'nan', 'nan', 'nan', 'nan', 'nan', 'nan', 'nan', 'nan', 'nan', 'nan', 'nan', 'nan', 'nan', 'nan', 'nan', 'nan', 'nan', 'nan', 'nan', 'nan', 'nan', 'nan', 'nan', 'nan', 'nan', 'nan', 'nan', 'nan', 'nan', 'nan', 'nan', 'nan', 'nan', 'nan', 'nan', 'nan', 'nan', 'nan', 'nan', 'nan', 'nan', 'nan', 'nan', 'nan', 'nan', 'nan', 'nan', 'nan', 'nan', 'nan', 'nan', 'nan', 'nan', 'nan', 'nan', 'nan', 'nan', 'nan', 'nan', 'nan', 'nan', 'nan', 'nan', 'nan', 'nan', 'nan', 'nan', 'nan', 'nan', 'nan', 'nan', 'nan', 'nan', 'nan', 'nan', 'nan', 'nan', 'nan', 'nan', 'nan', 'nan', 'nan', 'nan', 'nan', 'nan', 'nan', 'nan', 'nan', 'nan', 'nan', 'nan', 'nan', 'nan', 'nan', 'nan', 'nan', 'nan', 'nan', 'nan', 'nan', 'nan', 'nan', 'nan', 'nan', 'nan', 'nan', 'nan', 'nan', 'nan', 'nan', 'nan', 'nan', 'nan', 'nan', 'nan', 'nan', 'nan', 'nan', 'nan', 'nan', 'nan', 'nan', 'nan', 'nan', 'nan', 'nan', 'nan', 'nan', 'nan', 'nan', 'nan', 'nan', 'nan', 'nan', 'nan', 'nan', 'nan', 'nan', 'nan', 'nan', 'nan', 'nan', 'nan', 'nan', 'nan', 'nan', 'nan', 'nan', 'nan', 'nan', 'nan', 'nan', 'nan', 'nan', 'nan', 'nan', 'nan', 'nan', 'nan', 'nan', 'nan', 'nan', 'nan', 'nan', 'nan', 'nan', 'nan', 'nan', 'nan', 'nan', 'nan', 'nan', 'nan', 'nan', 'nan', 'nan', 'nan', 'nan', 'nan', 'nan', 'nan', 'nan', 'nan', 'nan', 'nan', 'nan', 'nan', 'nan', 'nan', 'nan', 'nan', 'nan', 'nan', 'nan', 'nan', 'nan', 'nan', 'nan', 'nan', 'nan', 'nan', 'nan', 'nan', 'nan', 'nan', 'nan', 'nan', 'nan', 'nan', 'nan', 'nan', 'nan', 'nan', 'nan', 'nan', 'nan', 'nan', 'nan', 'nan', 'nan', 'nan', 'nan', 'nan', 'nan', 'nan', 'nan', 'nan', 'nan', 'nan', 'nan', 'nan', 'nan', 'nan', 'nan', 'nan', 'nan', 'nan', 'nan', 'nan', 'nan', 'nan', 'nan', 'nan', 'nan', 'nan', 'nan', 'nan', 'nan', 'nan', 'nan', 'nan', 'nan', 'nan', 'nan', 'nan', 'nan', 'nan', 'nan', 'nan', 'nan', 'nan', 'nan', 'nan', 'nan', 'nan', 'nan', 'nan', 'nan', 'nan', 'nan', 'nan', 'nan', 'nan', 'nan', 'nan', 'nan', 'nan', 'nan', 'nan', 'nan', 'nan', 'nan', 'nan', 'nan', 'nan', 'nan', 'nan', 'nan', 'nan', 'nan', 'nan', 'nan', 'nan', 'nan', 'nan', 'nan', 'nan', 'nan', 'nan', 'nan', 'nan', 'nan', 'nan', 'nan', 'nan', 'nan', 'nan', 'nan', 'nan', 'nan', 'nan', 'nan', 'nan', 'nan', 'nan', 'nan', 'nan', 'nan', 'nan', 'nan', 'nan', 'nan', 'nan', 'nan', 'nan', 'nan', 'nan', 'nan', 'nan', 'nan', 'nan', 'nan', 'nan', 'nan', 'nan', 'nan', 'nan', 'nan', 'nan', 'nan', 'nan', 'nan', 'nan', 'nan', 'nan', 'nan', 'nan', 'nan', 'nan', 'nan', 'nan', 'nan', 'nan', 'nan', 'nan', 'nan', 'nan', 'nan', 'nan', 'nan', 'nan', 'nan', 'nan', 'nan', 'nan', 'nan', 'nan', 'nan', 'nan', 'nan', 'nan', 'nan', 'nan', 'nan', 'nan', 'nan', 'nan', 'nan', 'nan', 'nan', 'nan', 'nan', 'nan', 'nan', 'nan', 'nan', 'nan', 'nan', 'nan', 'nan', 'nan', 'nan', 'nan', 'nan', 'nan', 'nan', 'nan', 'nan', 'nan', 'nan', 'nan', 'nan', 'nan', 'nan', 'nan', 'nan', 'nan', 'nan', 'nan', 'nan', 'nan', 'nan', 'nan', 'nan', 'nan', 'nan', 'nan', 'nan', 'nan', 'nan', 'nan', 'nan', 'nan', 'nan', 'nan', 'nan', 'nan', 'nan', 'nan', 'nan', 'nan', 'nan', 'nan', 'nan', 'nan', 'nan', 'nan', 'nan', 'nan', 'nan', 'nan', 'nan', 'nan', 'nan', 'nan', 'nan', 'nan', 'nan', 'nan', 'nan', 'nan', 'nan', 'nan', 'nan', 'nan', 'nan', 'nan', 'nan', 'nan', 'nan', 'nan', 'nan', 'nan', 'nan', 'nan', 'nan', 'nan', 'nan', 'nan', 'nan', 'nan', 'nan', 'nan', 'nan', 'nan', 'nan', 'nan', 'nan', 'nan', 'nan', 'nan', 'nan', 'nan', 'nan', 'nan', 'nan', 'nan', 'nan', 'nan', 'nan', 'nan', 'nan', 'nan', 'nan', 'nan', 'nan', 'nan', 'nan', 'nan', 'nan', 'nan', 'nan', 'nan', 'nan', 'nan', 'nan', 'nan', 'nan', 'nan', 'nan', 'nan', 'nan', 'nan', 'nan', 'nan', 'nan', 'nan', 'nan', 'nan', 'nan', 'nan', 'nan', 'nan', 'nan', 'nan', 'nan', 'nan', 'nan', 'nan', 'nan', 'nan', 'nan', 'nan', 'nan', 'nan', 'nan', 'nan', 'nan', 'nan', 'nan', 'nan', 'nan', 'nan', 'nan', 'nan', 'nan', 'nan', 'nan', 'nan', 'nan', 'nan', 'nan', 'nan', 'nan', 'nan', 'nan', 'nan', 'nan', 'nan', 'nan', 'nan', 'nan', 'nan', 'nan', 'nan', 'nan', 'nan', 'nan', 'nan', 'nan', 'nan', 'nan', 'nan', 'nan', 'nan', 'nan', 'nan', 'nan', 'nan', 'nan', 'nan', 'nan', 'nan', 'nan', 'nan', 'nan', 'nan', 'nan', 'nan', 'nan', 'nan', 'nan', 'nan', 'nan', 'nan', 'nan', 'nan', 'nan', 'nan', 'nan', 'nan', 'nan', 'nan', 'nan', 'nan', 'nan', 'nan', 'nan', 'nan', 'nan', 'nan', 'nan', 'nan', 'nan', 'nan', 'nan', 'nan', 'nan', 'nan', 'nan', 'nan', 'nan', 'nan', 'nan', 'nan', 'nan', 'nan', 'nan', 'nan', 'nan', 'nan', 'nan', 'nan', 'nan', 'nan', 'nan', 'nan', 'nan', 'nan', 'nan', 'nan', 'nan', 'nan', 'nan', 'nan', 'nan', 'nan', 'nan', 'nan', 'nan', 'nan', 'nan', 'nan', 'nan', 'nan', 'nan', 'nan', 'nan', 'nan', 'nan', 'nan', 'nan', 'nan', 'nan', 'nan', 'nan', 'nan', 'nan', 'nan', 'nan', 'nan', 'nan', 'nan', 'nan', 'nan', 'nan', 'nan', 'nan', 'nan', 'nan', 'nan', 'nan', 'nan', 'nan', 'nan', 'nan', 'nan', 'nan', 'nan', 'nan', 'nan', 'nan', 'nan', 'nan', 'nan', 'nan', 'nan', 'nan', 'nan', 'nan', 'nan', 'nan', 'nan', 'nan', 'nan', 'nan', 'nan', 'nan', 'nan', 'nan', 'nan', 'nan', 'nan', 'nan', 'nan', 'nan', 'nan', 'nan', 'nan', 'nan', 'nan', 'nan', 'nan', 'nan', 'nan', 'nan', 'nan', 'nan', 'nan', 'nan', 'nan', 'nan', 'nan', 'nan', 'nan', 'nan', 'nan', 'nan', 'nan', 'nan', 'nan', 'nan', 'nan', 'nan', 'nan', 'nan', 'nan', 'nan', 'nan', 'nan', 'nan', 'nan', 'nan', 'nan', 'nan', 'nan', 'nan', 'nan', 'nan', 'nan', 'nan', 'nan', 'nan', 'nan', 'nan', 'nan', 'nan', 'nan', 'nan', 'nan', 'nan', 'nan', 'nan', 'nan', 'nan', 'nan', 'nan', 'nan', 'nan', 'nan', 'nan', 'nan', 'nan', 'nan', 'nan', 'nan', 'nan', 'nan', 'nan', 'nan', 'nan', 'nan', 'nan', 'nan', 'nan', 'nan', 'nan', 'nan', 'nan', 'nan', 'nan', 'nan', 'nan', 'nan', 'nan', 'nan', 'nan', 'nan', 'nan', 'nan', 'nan', 'nan', 'nan', 'nan', 'nan', 'nan', 'nan', 'nan', 'nan', 'nan', 'nan', 'nan', 'nan', 'nan', 'nan', 'nan', 'nan', 'nan', 'nan', 'nan', 'nan', 'nan', 'nan', 'nan', 'nan', 'nan', 'nan', 'nan', 'nan', 'nan', 'nan', 'nan', 'nan', 'nan', 'nan', 'nan', 'nan', 'nan', 'nan', 'nan', 'nan', 'nan', 'nan', 'nan', 'nan', 'nan', 'nan', 'nan', 'nan', 'nan', 'nan', 'nan', 'nan', 'nan', 'nan', 'nan', 'nan', 'nan', 'nan', 'nan', 'nan', 'nan', 'nan', 'nan', 'nan', 'nan', 'nan', 'nan', 'nan', 'nan', 'nan', 'nan', 'nan', 'nan', 'nan', 'nan', 'nan', 'nan', 'nan', 'nan', 'nan', 'nan', 'nan', 'nan', 'nan', 'nan', 'nan', 'nan', 'nan', 'nan', 'nan', 'nan', 'nan', 'nan', 'nan', 'nan', 'nan', 'nan', 'nan', 'nan', 'nan', 'nan', 'nan', 'nan', 'nan', 'nan', 'nan', 'nan', 'nan', 'nan', 'nan', 'nan', 'nan', 'nan', 'nan', 'nan', 'nan', 'nan', 'nan', 'nan', 'nan', 'nan', 'nan', 'nan', 'nan', 'nan', 'nan', 'nan', 'nan', 'nan', 'nan', 'nan', 'nan', 'nan', 'nan', 'nan', 'nan', 'nan', 'nan', 'nan', 'nan', 'nan', 'nan', 'nan', 'nan', 'nan', 'nan', 'nan', 'nan', 'nan', 'nan', 'nan', 'nan', 'nan', 'nan', 'nan', 'nan', 'nan', 'nan', 'nan', 'nan', 'nan', 'nan', 'nan', 'nan', 'nan', 'nan', 'nan', 'nan', 'nan', 'nan', 'nan', 'nan', 'nan', 'nan', 'nan', 'nan', 'nan', 'nan', 'nan', 'nan', 'nan', 'nan', 'nan', 'nan', 'nan', 'nan', 'nan', 'nan', 'nan', 'nan', 'nan', 'nan', 'nan', 'nan', 'nan', 'nan', 'nan', 'nan', 'nan', 'nan', 'nan', 'nan', 'nan', 'nan', 'nan', 'nan', 'nan', 'nan', 'nan', 'nan', 'nan', 'nan', 'nan', 'nan', 'nan', 'nan', 'nan', 'nan', 'nan', 'nan', 'nan', 'nan', 'nan', 'nan', 'nan', 'nan', 'nan', 'nan', 'nan', 'nan', 'nan', 'nan', 'nan', 'nan', 'nan', 'nan', 'nan', 'nan', 'nan', 'nan', 'nan', 'nan', 'nan', 'nan', 'nan', 'nan', 'nan', 'nan', 'nan', 'nan', 'nan', 'nan', 'nan', 'nan', 'nan', 'nan', 'nan', 'nan', 'nan', 'nan', 'nan', 'nan', 'nan', 'nan', 'nan', 'nan', 'nan', 'nan', 'nan', 'nan', 'nan', 'nan', 'nan', 'nan', 'nan', 'nan', 'nan', 'nan', 'nan', 'nan', 'nan', 'nan', 'nan', 'nan', 'nan', 'nan', 'nan', 'nan', 'nan', 'nan', 'nan', 'nan', 'nan', 'nan', 'nan', 'nan', 'nan', 'nan', 'nan', 'nan', 'nan', 'nan', 'nan', 'nan', 'nan', 'nan', 'nan', 'nan', 'nan', 'nan', 'nan', 'nan', 'nan', 'nan', 'nan', 'nan', 'nan', 'nan', 'nan', 'nan', 'nan', 'nan', 'nan', 'nan', 'nan', 'nan', 'nan', 'nan', 'nan', 'nan', 'nan', 'nan', 'nan', 'nan', 'nan', 'nan', 'nan', 'nan', 'nan', 'nan', 'nan', 'nan', 'nan', 'nan', 'nan', 'nan', 'nan', 'nan', 'nan', 'nan', 'nan', 'nan', 'nan', 'nan', 'nan', 'nan', 'nan', 'nan', 'nan', 'nan', 'nan', 'nan', 'nan', 'nan', 'nan', 'nan', 'nan', 'nan', 'nan', 'nan', 'nan', 'nan', 'nan', 'nan', 'nan', 'nan', 'nan', 'nan', 'nan', 'nan', 'nan', 'nan', 'nan', 'nan', 'nan', 'nan', 'nan', 'nan', 'nan', 'nan', 'nan', 'nan', 'nan', 'nan', 'nan', 'nan', 'nan', 'nan', 'nan', 'nan', 'nan', 'nan', 'nan', 'nan', 'nan', 'nan', 'nan', 'nan', 'nan', 'nan', 'nan', 'nan', 'nan', 'nan', 'nan', 'nan', 'nan', 'nan', 'nan', 'nan', 'nan', 'nan', 'nan', 'nan', 'nan', 'nan', 'nan', 'nan', 'nan', 'nan', 'nan', 'nan', 'nan', 'nan', 'nan', 'nan', 'nan', 'nan', 'nan', 'nan', 'nan', 'nan', 'nan', 'nan', 'nan', 'nan', 'nan', 'nan', 'nan', 'nan', 'nan', 'nan', 'nan', 'nan', 'nan', 'nan', 'nan', 'nan', 'nan', 'nan', 'nan', 'nan', 'nan', 'nan', 'nan', 'nan', 'nan', 'nan', 'nan', 'nan', 'nan', 'nan', 'nan', 'nan', 'nan', 'nan', 'nan', 'nan', 'nan', 'nan', 'nan', 'nan', 'nan', 'nan', 'nan', 'nan', 'nan', 'nan', 'nan', 'nan', 'nan', 'nan', 'nan', 'nan', 'nan', 'nan', 'nan', 'nan', 'nan', 'nan', 'nan', 'nan', 'nan', 'nan', 'nan', 'nan', 'nan', 'nan', 'nan', 'nan', 'nan', 'nan', 'nan', 'nan', 'nan', 'nan', 'nan', 'nan', 'nan', 'nan', 'nan', 'nan', 'nan', 'nan', 'nan', 'nan', 'nan', 'nan', 'nan', 'nan', 'nan', 'nan', 'nan', 'nan', 'nan', 'nan', 'nan', 'nan', 'nan', 'nan', 'nan', 'nan', 'nan', 'nan', 'nan', 'nan', 'nan', 'nan', 'nan', 'nan', 'nan', 'nan', 'nan', 'nan', 'nan', 'nan', 'nan', 'nan', 'nan', 'nan', 'nan', 'nan', 'nan', 'nan', 'nan', 'nan', 'nan', 'nan', 'nan', 'nan', 'nan', 'nan', 'nan', 'nan', 'nan', 'nan', 'nan', 'nan', 'nan', 'nan', 'nan', 'nan', 'nan', 'nan', 'nan', 'nan', 'nan', 'nan', 'nan', 'nan', 'nan', 'nan', 'nan', 'nan', 'nan', 'nan', 'nan', 'nan', 'nan', 'nan', 'nan', 'nan', 'nan', 'nan', 'nan', 'nan', 'nan', 'nan', 'nan', 'nan', 'nan', 'nan', 'nan', 'nan', 'nan', 'nan', 'nan', 'nan', 'nan', 'nan', 'nan', 'nan', 'nan', 'nan', 'nan', 'nan', 'nan', 'nan', 'nan', 'nan', 'nan', 'nan', 'nan', 'nan', 'nan', 'nan', 'nan', 'nan', 'nan', 'nan', 'nan', 'nan', 'nan', 'nan', 'nan', 'nan', 'nan', 'nan', 'nan', 'nan', 'nan', 'nan', 'nan', 'nan', 'nan', 'nan', 'nan', 'nan', 'nan', 'nan', 'nan', 'nan', 'nan', 'nan', 'nan', 'nan', 'nan', 'nan', 'nan', 'nan', 'nan', 'nan', 'nan', 'nan', 'nan', 'nan', 'nan', 'nan', 'nan', 'nan', 'nan', 'nan', 'nan', 'nan', 'nan', 'nan', 'nan', 'nan', 'nan', 'nan', 'nan', 'nan', 'nan', 'nan', 'nan', 'nan', 'nan', 'nan', 'nan', 'nan', 'nan', 'nan', 'nan', 'nan', 'nan', 'nan', 'nan', 'nan', 'nan', 'nan', 'nan', 'nan', 'nan', 'nan', 'nan', 'nan', 'nan', 'nan', 'nan', 'nan', 'nan', 'nan', 'nan', 'nan', 'nan', 'nan', 'nan', 'nan', 'nan', 'nan', 'nan', 'nan', 'nan', 'nan', 'nan', 'nan', 'nan', 'nan', 'nan', 'nan', 'nan', 'nan', 'nan', 'nan', 'nan', 'nan', 'nan', 'nan', 'nan', 'nan', 'nan', 'nan', 'nan', 'nan', 'nan', 'nan', 'nan', 'nan', 'nan', 'nan', 'nan', 'nan', 'nan', 'nan', 'nan', 'nan', 'nan', 'nan', 'nan', 'nan', 'nan', 'nan', 'nan', 'nan', 'nan', 'nan', 'nan', 'nan', 'nan', 'nan', 'nan', 'nan', 'nan', 'nan', 'nan', 'nan', 'nan', 'nan', 'nan', 'nan', 'nan', 'nan', 'nan', 'nan', 'nan', 'nan', 'nan', 'nan', 'nan', 'nan', 'nan', 'nan', 'nan', 'nan', 'nan', 'nan', 'nan', 'nan', 'nan', 'nan', 'nan', 'nan', 'nan', 'nan', 'nan', 'nan', 'nan', 'nan', 'nan', 'nan', 'nan', 'nan', 'nan', 'nan', 'nan', 'nan', 'nan', 'nan', 'nan', 'nan', 'nan', 'nan', 'nan', 'nan', 'nan', 'nan', 'nan', 'nan', 'nan', 'nan', 'nan', 'nan', 'nan', 'nan', 'nan', 'nan', 'nan', 'nan', 'nan', 'nan', 'nan', 'nan', 'nan', 'nan', 'nan', 'nan', 'nan', 'nan', 'nan', 'nan', 'nan', 'nan', 'nan', 'nan', 'nan', 'nan', 'nan', 'nan', 'nan', 'nan', 'nan', 'nan', 'nan', 'nan', 'nan', 'nan', 'nan', 'nan', 'nan', 'nan', 'nan', 'nan', 'nan', 'nan', 'nan', 'nan', 'nan', 'nan', 'nan', 'nan', 'nan', 'nan', 'nan', 'nan', 'nan', 'nan', 'nan', 'nan', 'nan', 'nan', 'nan', 'nan', 'nan', 'nan', 'nan', 'nan', 'nan', 'nan', 'nan', 'nan', 'nan', 'nan', 'nan', 'nan', 'nan', 'nan', 'nan', 'nan', 'nan', 'nan', 'nan', 'nan', 'nan', 'nan', 'nan', 'nan', 'nan', 'nan', 'nan', 'nan', 'nan', 'nan', 'nan', 'nan', 'nan', 'nan', 'nan', 'nan', 'nan', 'nan', 'nan', 'nan', 'nan', 'nan', 'nan', 'nan', 'nan', 'nan', 'nan', 'nan', 'nan', 'nan', 'nan', 'nan', 'nan', 'nan', 'nan', 'nan', 'nan', 'nan', 'nan', 'nan', 'nan', 'nan', 'nan', 'nan', 'nan', 'nan', 'nan', 'nan', 'nan', 'nan', 'nan', 'nan', 'nan', 'nan', 'nan', 'nan', 'nan', 'nan', 'nan', 'nan', 'nan', 'nan', 'nan', 'nan', 'nan', 'nan', 'nan', 'nan', 'nan', 'nan', 'nan', 'nan', 'nan', 'nan', 'nan', 'nan', 'nan', 'nan', 'nan', 'nan', 'nan', 'nan', 'nan', 'nan', 'nan', 'nan', 'nan', 'nan', 'nan', 'nan', 'nan', 'nan', 'nan', 'nan', 'nan', 'nan', 'nan', 'nan', 'nan', 'nan', 'nan', 'nan', 'nan', 'nan', 'nan', 'nan', 'nan', 'nan', 'nan', 'nan', 'nan', 'nan', 'nan', 'nan', 'nan', 'nan', 'nan', 'nan', 'nan', 'nan', 'nan', 'nan', 'nan', 'nan', 'nan', 'nan', 'nan', 'nan', 'nan', 'nan', 'nan', 'nan', 'nan', 'nan', 'nan', 'nan', 'nan', 'nan', 'nan', 'nan', 'nan', 'nan', 'nan', 'nan', 'nan', 'nan', 'nan', 'nan', 'nan', 'nan', 'nan', 'nan', 'nan', 'nan', 'nan', 'nan', 'nan', 'nan', 'nan', 'nan', 'nan', 'nan', 'nan', 'nan', 'nan', 'nan', 'nan', 'nan', 'nan', 'nan', 'nan', 'nan', 'nan', 'nan', 'nan', 'nan', 'nan', 'nan', 'nan', 'nan']\n",
      "\tDeleting IDs with unusual length ..... \n",
      "\n",
      "Unique IDs updated .....\n",
      "\n",
      "UNIQ_ID ANALYSIS\n",
      "\tTotal number of values :  6251\n",
      "\tTotal number of unique values :  6251\n",
      "\tUnique values :  ['eac7efa5dbd3d667f26eb3d3ab504464' 'b17540ef7e86e461d37f3ae58b7b72ac'\n",
      " '348f344247b0c1a935b1223072ef9d8a' 'e12b92dbb8eaee78b22965d2a9bbbd9f'\n",
      " 'e33a9adeed5f36840ccc227db4682a36']\n",
      "\tRange of length :  32  to  32\n",
      "\tMissing Values :  0\n"
     ]
    }
   ],
   "source": [
    "# Analyze and clean Unique IDS (primary key)\n",
    "ColSummary('uniq_id', 'str')\n",
    "# Some IDs have unusual length\n",
    "print('\\n\\tInspecting IDs with unusual length : ', list(df['uniq_id'][df['uniq_id'].apply(lambda x: len(str(x)))<=3]))\n",
    "print('\\tDeleting IDs with unusual length ..... ')\n",
    "df = df.drop(index = list(df['uniq_id'][df['uniq_id'].apply(lambda x: len(str(x))<=3)].index))\n",
    "print('\\nUnique IDs updated .....')\n",
    "ColSummary('uniq_id')"
   ]
  },
  {
   "cell_type": "code",
   "execution_count": 8,
   "metadata": {
    "execution": {
     "iopub.execute_input": "2022-03-13T13:26:49.308936Z",
     "iopub.status.busy": "2022-03-13T13:26:49.308596Z",
     "iopub.status.idle": "2022-03-13T13:26:49.344998Z",
     "shell.execute_reply": "2022-03-13T13:26:49.344406Z",
     "shell.execute_reply.started": "2022-03-13T13:26:49.308892Z"
    }
   },
   "outputs": [
    {
     "name": "stdout",
     "output_type": "stream",
     "text": [
      "\n",
      "PRODUCT_NAME ANALYSIS\n",
      "\tType changed to string\n",
      "\tTotal number of values :  6251\n",
      "\tTotal number of unique values :  6236\n",
      "\tUnique values :  <StringArray>\n",
      "[                                                                                                  'Hornby 2014 Catalogue',\n",
      " 'FunkyBuysÂ® Large Christmas Holiday Express Festive Train Set (SI-TY1017) Toy Light / Sounds / Battery Operated & Smoke',\n",
      "                                              'CLASSIC TOY TRAIN SET TRACK CARRIAGES LIGHT ENGINE BOXED BOYS KIDS BATTERY',\n",
      "                                                                          'HORNBY Coach R4410A BR Hawksworth Corridor 3rd',\n",
      "                                                         'Hornby 00 Gauge 0-4-0 Gildenlow Salt Co. Steam Locomotive Model']\n",
      "Length: 5, dtype: string\n",
      "\tRange of length :  4  to  536\n",
      "\tMissing Values :  0\n"
     ]
    }
   ],
   "source": [
    "# Analyze Product Name - No cleaning required\n",
    "ColSummary('product_name', 'string')"
   ]
  },
  {
   "cell_type": "code",
   "execution_count": 9,
   "metadata": {
    "execution": {
     "iopub.execute_input": "2022-03-13T13:26:49.34629Z",
     "iopub.status.busy": "2022-03-13T13:26:49.345982Z",
     "iopub.status.idle": "2022-03-13T13:26:49.372237Z",
     "shell.execute_reply": "2022-03-13T13:26:49.371657Z",
     "shell.execute_reply.started": "2022-03-13T13:26:49.346263Z"
    }
   },
   "outputs": [
    {
     "name": "stdout",
     "output_type": "stream",
     "text": [
      "\n",
      "MANUFACTURER ANALYSIS\n",
      "\tType changed to string\n",
      "\tTotal number of values :  6251\n",
      "\tTotal number of unique values :  1948\n",
      "\tUnique values :  <StringArray>\n",
      "['Hornby', 'FunkyBuys', 'ccf', 'Generic', 'Chuggington']\n",
      "Length: 5, dtype: string\n",
      "\tRange of length :  1  to  48\n",
      "\tMissing Values :  5\n"
     ]
    }
   ],
   "source": [
    "# Analyze Manufacturer - No cleaning required\n",
    "ColSummary('manufacturer', 'string') "
   ]
  },
  {
   "cell_type": "code",
   "execution_count": 10,
   "metadata": {
    "execution": {
     "iopub.execute_input": "2022-03-13T13:26:49.37443Z",
     "iopub.status.busy": "2022-03-13T13:26:49.373578Z",
     "iopub.status.idle": "2022-03-13T13:26:49.431527Z",
     "shell.execute_reply": "2022-03-13T13:26:49.430752Z",
     "shell.execute_reply.started": "2022-03-13T13:26:49.374385Z"
    }
   },
   "outputs": [
    {
     "name": "stdout",
     "output_type": "stream",
     "text": [
      "\n",
      "PRICE ANALYSIS\n",
      "\tTotal number of values :  6251\n",
      "\tTotal number of unique values :  1988\n",
      "\tUnique values :  ['Â£3.42' 'Â£16.99' 'Â£9.99' 'Â£39.99' 'Â£32.19']\n",
      "\tRange of length :  3  to  21\n",
      "\tMissing Values :  859\n",
      "\n",
      " Deleting rows which have price with greater than 5 length i.e. have ranges instead of values .....\n",
      "\n",
      "PRICE ANALYSIS\n",
      "\tType changed to float64\n",
      "\tTotal number of values :  859\n",
      "\tTotal number of unique values :  0\n",
      "\tUnique values :  [nan]\n",
      "\tRange of length :  3  to  3\n",
      "\tMissing Values :  859\n"
     ]
    }
   ],
   "source": [
    "# Analyze Price - Need to convert string to numeric\n",
    "ColSummary('price')\n",
    "\n",
    "# Some rows have range mentioned instead of a price - this is significantly changing the df size\n",
    "# another way to tackle this would be to add the middle point of the range as the price\n",
    "print(\"\\n Deleting rows which have price with greater than 5 length i.e. have ranges instead of values .....\")\n",
    "df = df.drop(index = list(df['price'][df['price'].apply(lambda x: len(str(x))>5)].index))\n",
    "\n",
    "# Remove the euro sign before numeric conversion\n",
    "df['price'] = df['price'][df['price'].isna()==False].str[1:]\n",
    "\n",
    "# Convert into float and analyze updated column\n",
    "ColSummary('price', 'float64')"
   ]
  },
  {
   "cell_type": "code",
   "execution_count": 11,
   "metadata": {
    "execution": {
     "iopub.execute_input": "2022-03-13T13:26:49.432846Z",
     "iopub.status.busy": "2022-03-13T13:26:49.432632Z",
     "iopub.status.idle": "2022-03-13T13:26:49.46928Z",
     "shell.execute_reply": "2022-03-13T13:26:49.465142Z",
     "shell.execute_reply.started": "2022-03-13T13:26:49.432819Z"
    }
   },
   "outputs": [
    {
     "name": "stdout",
     "output_type": "stream",
     "text": [
      "\n",
      "NUMBER_AVAILABLE_IN_STOCK ANALYSIS\n",
      "\tTotal number of values :  859\n",
      "\tTotal number of unique values :  38\n",
      "\tUnique values :  ['1Â\\xa0new' '18Â\\xa0new' '12Â\\xa0new' '2Â\\xa0new' '1Â\\xa0used']\n",
      "\tRange of length :  3  to  14\n",
      "\tMissing Values :  184\n",
      "\n",
      "NUMBER_AVAILABLE_IN_STOCK ANALYSIS\n",
      "\n",
      "*** Cannot work with this datatype.. Try Again.... ***\n"
     ]
    }
   ],
   "source": [
    "# Analyze Number available in stock - need to change to numeric \n",
    "ColSummary('number_available_in_stock')\n",
    "\n",
    "# split the stings into list and keep only the numeric part\n",
    "df['number_available_in_stock'] = df['number_available_in_stock'].apply(lambda x: str(x).split()[0])\n",
    "\n",
    "# change to float and analyze again\n",
    "ColSummary('number_available_in_stock','float64')"
   ]
  },
  {
   "cell_type": "code",
   "execution_count": 12,
   "metadata": {
    "execution": {
     "iopub.execute_input": "2022-03-13T13:26:49.472195Z",
     "iopub.status.busy": "2022-03-13T13:26:49.47187Z",
     "iopub.status.idle": "2022-03-13T13:26:49.516355Z",
     "shell.execute_reply": "2022-03-13T13:26:49.515395Z",
     "shell.execute_reply.started": "2022-03-13T13:26:49.472162Z"
    }
   },
   "outputs": [
    {
     "name": "stdout",
     "output_type": "stream",
     "text": [
      "\n",
      "NUMBER_OF_REVIEWS ANALYSIS\n",
      "\tTotal number of values :  859\n",
      "\tTotal number of unique values :  54\n",
      "\tUnique values :  ['8' '1' '2' '21' '4']\n",
      "\tRange of length :  1  to  3\n",
      "\tMissing Values :  2\n",
      "\n",
      " Removing commas from strings for float conversion .....\n",
      "\n",
      "NUMBER_OF_REVIEWS ANALYSIS\n",
      "\tType changed to float64\n",
      "\tTotal number of values :  859\n",
      "\tTotal number of unique values :  54\n",
      "\tUnique values :  [ 8.  1.  2. 21.  4.]\n",
      "\tRange of length :  3  to  5\n",
      "\tMissing Values :  2\n"
     ]
    }
   ],
   "source": [
    "# Analyze Number of Reviews - need to convert into numeric\n",
    "ColSummary('number_of_reviews')\n",
    "\n",
    "# some strings have commas which is preventing direct float conversion\n",
    "print(\"\\n Removing commas from strings for float conversion .....\")\n",
    "df['number_of_reviews'] = df['number_of_reviews'].apply(lambda x: str(x).replace(',',''))\n",
    "\n",
    "# convert to float and analyze updated columns\n",
    "ColSummary('number_of_reviews', 'float64')"
   ]
  },
  {
   "cell_type": "code",
   "execution_count": 13,
   "metadata": {
    "execution": {
     "iopub.execute_input": "2022-03-13T13:26:49.519737Z",
     "iopub.status.busy": "2022-03-13T13:26:49.519113Z",
     "iopub.status.idle": "2022-03-13T13:26:49.538039Z",
     "shell.execute_reply": "2022-03-13T13:26:49.537372Z",
     "shell.execute_reply.started": "2022-03-13T13:26:49.519703Z"
    }
   },
   "outputs": [
    {
     "name": "stdout",
     "output_type": "stream",
     "text": [
      "\n",
      "NUMBER_OF_ANSWERED_QUESTIONS ANALYSIS\n",
      "\tType changed to float64\n",
      "\tTotal number of values :  859\n",
      "\tTotal number of unique values :  15\n",
      "\tUnique values :  [ 1.  2.  6. nan  4.]\n",
      "\tRange of length :  3  to  4\n",
      "\tMissing Values :  55\n"
     ]
    }
   ],
   "source": [
    "# Analyze Number of Answered Questions - need to convert into numeric\n",
    "ColSummary('number_of_answered_questions','float64')"
   ]
  },
  {
   "cell_type": "code",
   "execution_count": 14,
   "metadata": {
    "execution": {
     "iopub.execute_input": "2022-03-13T13:26:49.539417Z",
     "iopub.status.busy": "2022-03-13T13:26:49.538908Z",
     "iopub.status.idle": "2022-03-13T13:26:49.578002Z",
     "shell.execute_reply": "2022-03-13T13:26:49.577117Z",
     "shell.execute_reply.started": "2022-03-13T13:26:49.539388Z"
    }
   },
   "outputs": [
    {
     "name": "stdout",
     "output_type": "stream",
     "text": [
      "\n",
      "AVERAGE_REVIEW_RATING ANALYSIS\n",
      "\tTotal number of values :  859\n",
      "\tTotal number of unique values :  14\n",
      "\tUnique values :  ['4.8 out of 5 stars' '5.0 out of 5 stars' '4.5 out of 5 stars'\n",
      " '4.0 out of 5 stars' '4.3 out of 5 stars']\n",
      "\tRange of length :  3  to  18\n",
      "\tMissing Values :  2\n",
      "\n",
      "AVERAGE_REVIEW_RATING ANALYSIS\n",
      "\tType changed to float64\n",
      "\tTotal number of values :  859\n",
      "\tTotal number of unique values :  14\n",
      "\tUnique values :  [4.8 5.  4.5 4.  4.3]\n",
      "\tRange of length :  3  to  3\n",
      "\tMissing Values :  2\n"
     ]
    }
   ],
   "source": [
    "# Analyze Avg Review Ratign - need to convert into numeric\n",
    "ColSummary('average_review_rating')\n",
    "\n",
    "# the values include the denominator of the rating which is consistent throughtout and hence, need not be mentioned\n",
    "df['average_review_rating'] = df['average_review_rating'].apply(lambda x: str(x).split()[0])\n",
    "\n",
    "# After retaining only ratings and removing additional text, convert into float\n",
    "ColSummary('average_review_rating', 'float64')"
   ]
  },
  {
   "cell_type": "code",
   "execution_count": 15,
   "metadata": {
    "execution": {
     "iopub.execute_input": "2022-03-13T13:26:49.579771Z",
     "iopub.status.busy": "2022-03-13T13:26:49.579195Z",
     "iopub.status.idle": "2022-03-13T13:26:49.612844Z",
     "shell.execute_reply": "2022-03-13T13:26:49.611969Z",
     "shell.execute_reply.started": "2022-03-13T13:26:49.579735Z"
    }
   },
   "outputs": [
    {
     "name": "stdout",
     "output_type": "stream",
     "text": [
      "\n",
      "AMAZON_CATEGORY_AND_SUB_CATEGORY ANALYSIS\n",
      "\tTotal number of values :  859\n",
      "\tTotal number of unique values :  95\n",
      "\tUnique values :  ['Hobbies > Model Trains & Railway Sets > Rail Vehicles > Trains'\n",
      " 'Hobbies > Model Trains & Railway Sets > Rail Vehicles > Locomotives'\n",
      " 'Hobbies > Model Trains & Railway Sets > Lighting & Signal Engineering > Lamps & Lighting'\n",
      " 'Hobbies > Model Trains & Railway Sets > Accessories > Recreational Activities'\n",
      " 'Characters & Brands > Thomas & Friends > Train Play > Wooden Thomas']\n",
      "\tRange of length :  3  to  90\n",
      "\tMissing Values :  123\n",
      "\n",
      "AMAZON_CATEGORY_AND_SUB_CATEGORY ANALYSIS\n",
      "\tTotal number of values :  859\n",
      "\n",
      "*** Cannot work with this datatype.. Try Again.... ***\n"
     ]
    }
   ],
   "source": [
    "# Analyze Categories - Each value has all the subcatogories mentioned in a string format - need to convert to list\n",
    "ColSummary('amazon_category_and_sub_category')\n",
    "\n",
    "# break using delimiter for list conversion\n",
    "df['amazon_category_and_sub_category'] = df['amazon_category_and_sub_category'].apply(lambda x: str(x).split(\" > \"))\n",
    "\n",
    "# each list has varied length, for easier analysis - make len consistent by adding None\n",
    "itr = max(df['amazon_category_and_sub_category'].apply(lambda x: len(x)))\n",
    "for i in range (1, itr+1):\n",
    "    df['amazon_category_and_sub_category'].apply(lambda x: x.append(\"None\") if (len(x) < i) else x)\n",
    "\n",
    "# Analyze updated column\n",
    "ColSummary('amazon_category_and_sub_category')"
   ]
  },
  {
   "cell_type": "code",
   "execution_count": 16,
   "metadata": {
    "execution": {
     "iopub.execute_input": "2022-03-13T13:26:49.614818Z",
     "iopub.status.busy": "2022-03-13T13:26:49.614359Z",
     "iopub.status.idle": "2022-03-13T13:26:49.639974Z",
     "shell.execute_reply": "2022-03-13T13:26:49.639403Z",
     "shell.execute_reply.started": "2022-03-13T13:26:49.614771Z"
    }
   },
   "outputs": [
    {
     "name": "stdout",
     "output_type": "stream",
     "text": [
      "\n",
      "DESCRIPTION ANALYSIS\n",
      "\tTotal number of values :  859\n",
      "\tTotal number of unique values :  767\n",
      "\tUnique values :  ['Product Description An amazingly Interactive Chuggington World! Chuggington Interactive Chatsworth instantly recognises and \"magically\" talks to any other engine, training stop and set accessories. This engine has over 60 sounds and phrases (when used with other Chuggington interactive products). Featuring the actual voice from the Chuggington show. Each Interactive talking engine features Smart Talk technology which enables them to instantly recognise any other engine, react to any train stop and respond to your play! Chuggington Interactive is a magical open ended play system featuring iconic destinations and characters from the BBC\\'s CBeebies top rated preschool show Chuggington. Chatsworth is a very proper engine who lives next door to Harrison in the upper level of the roundhouse. Chatsworth is honest, good mannered, polite and considerate of others, however he considers himself as the upper crust of Chuggington. On time, clean and in fine repair, Chatsworth always presents his best wheel forward, as first impressions are very important to him. Engines recognise and \"magically\" talk to each other, training stops and set accessories. Requires 2 x AA batteries (included). Box Contains 1 x Interactive Chatsworth engine'\n",
      " 'Suitable for the following scale(s): N Scale'\n",
      " 'From 8-year-old: AgeTarget Gender: BoysFrom 8-year-old: AgeThe main production country: JapanTarget Gender: Boys'\n",
      " 'Product Description 4 collectible cars that are perfect for any POWER TRAINS collection! Completely compatible, works on all track and with all engines! Box Contains 4 collectible carriages'\n",
      " \"Product Description The Chuggington Interactive Railway brings your favourite engines to life via SmartTalk(tm) technology! The Wash and Fuel Set features 33 total pieces, including an Interactive Brewster engine, a Chug Wash and Fuel Depot.As with all Chuggington Interactive engines, Brewster actually recognizes and reacts with other Chuggington Interactive engines and train stops! This set features over 175 sounds and phrases when used with other Chuggington Interactive products...the more pieces you add, the more interactive your world becomes! Chuggington Interactive is a magical open ended play system featuring iconic destinations and characters from the BBC's CBeebies top rated preschool show Chuggington. Box Contains 33 total piece Wash and Fuel Set\"]\n",
      "\tRange of length :  1  to  32759\n",
      "\tMissing Values :  67\n"
     ]
    }
   ],
   "source": [
    "# Analyze description - no change required\n",
    "ColSummary('description')"
   ]
  },
  {
   "cell_type": "code",
   "execution_count": 17,
   "metadata": {
    "execution": {
     "iopub.execute_input": "2022-03-13T13:26:49.641821Z",
     "iopub.status.busy": "2022-03-13T13:26:49.641056Z",
     "iopub.status.idle": "2022-03-13T13:26:49.664759Z",
     "shell.execute_reply": "2022-03-13T13:26:49.663938Z",
     "shell.execute_reply.started": "2022-03-13T13:26:49.64178Z"
    }
   },
   "outputs": [
    {
     "name": "stdout",
     "output_type": "stream",
     "text": [
      "\n",
      "PRODUCT_INFORMATION ANALYSIS\n",
      "\tTotal number of values :  859\n",
      "\tTotal number of unique values :  855\n",
      "\tUnique values :  [\"Technical Details Item Weight150 g Product Dimensions12.7 x 4.4 x 6.7 cm Batteries:2 AA batteries required. (included) Manufacturer recommended age:36 months - 10 years Item model numberLC55012 Manufacturer's Suggested Maximum Weight43.5 Kilograms Number of Puzzle Pieces1 Assembly RequiredNo Batteries Required?Yes Batteries Included?Yes Material Type(s)Plastic Material Composition100% plastic Material Care InstructionsInteraction performance may be reduced with use in an outdoor environment or in direct sunlight Remote Control Included?No Radio Control SuitabilityIndoor Colormulticoloured Â\\xa0Â\\xa0 Additional Information ASINB003M2XTK6 Best Sellers Rank 195,658 in Toys & Games (See top 100) #307 inÂ\\xa0Toys & Games > Model Trains & Railway Sets > Rail Vehicles > Trains Shipping Weight227 g Delivery Destinations:Visit the Delivery Destinations Help page to see where this item can be delivered. Date First Available3 Aug. 2010 Â\\xa0Â\\xa0 Feedback Â\\xa0Would you like to update product info or give feedback on images?\"\n",
      " 'Technical Details Item Weight150 g Product Dimensions19.2 x 4.4 x 2.9 cm Manufacturer recommended age:8 years and up Item model number3060-2 Scale1::160 Track Width/GaugeNo Â\\xa0Â\\xa0 Additional Information ASINB003O9YVKY Best Sellers Rank 636,640 in Toys & Games (See top 100) #474 inÂ\\xa0Toys & Games > Model Trains & Railway Sets > Rail Vehicles > Locomotives #1063 inÂ\\xa0Toys & Games > Model Trains & Railway Sets > Rail Vehicles > Trains Shipping Weight150 g Delivery Destinations:Visit the Delivery Destinations Help page to see where this item can be delivered. Date First Available8 Nov. 2011 Â\\xa0Â\\xa0 Feedback Â\\xa0Would you like to update product info or give feedback on images?'\n",
      " 'Technical Details Item Weight671 g Product Dimensions31.6 x 21.8 x 3.4 cm Manufacturer recommended age:8 years and up Item model number10-1219 Scale1:160 Track Width/GaugeNo Â\\xa0Â\\xa0 Additional Information ASINB00H4THCOW Customer Reviews amznJQ.onReady(\\'popover\\', function() { (function($) { if($.fn.acrPopover) return; var popoverConfig = { showOnHover:true, showCloseButton: \"ontouchstart\" in document.documentElement, width: null, location:\\'bottom\\', locationAlign:\\'left\\', locationOffset:[-20,0], group: \\'reviewsPopover\\', clone:false, hoverHideDelay:300 }; $.fn.acrPopover = function() { return this.each(function() { var $this = $(this); if(!$this.data(\\'init\\') && typeof $this.amazonPopoverTrigger === \\'function\\') { $this.data(\\'init\\', 1); var ajaxURL = \\'/gp/customer-reviews/common/du/displayHistoPopAjax.html?\\' + \\'&ASIN=\\' + $this.attr(\\'name\\') + \\'&link=1\\' + \\'&seeall=1\\' + \\'&ref=\\' + $this.attr(\\'ref\\'); var myConfig = $.extend(true, { destination: ajaxURL }, popoverConfig); $this.amazonPopoverTrigger(myConfig); } }); }; window.reviewHistPopoverConfig = popoverConfig; var jqInit = window.jQueryInitHistoPopovers = function(asin) { if (typeof $(\\'.acr-popover[name=\\' + asin + \\']\\').acrPopover === \\'function\\') { $(\\'.acr-popover[name=\\' + asin + \\']\\').acrPopover(); } }; window.doInit_average_customer_reviews = jqInit; window.onAjaxUpdate_average_customer_reviews = jqInit; window.onCacheUpdate_average_customer_reviews = jqInit; window.onCacheUpdateReselect_average_customer_reviews = jqInit; amznJQ.onCompletion(\\'amznJQ.criticalFeature\\', function() { setTimeout(function() { amznJQ.declareAvailable(\\'acrPopover\\'); }, 10); }); })(jQuery); }); amznJQ.onReady(\\'acrPopover\\', function() { jQuery(\\'.acr-popover\\').each(function() { if (typeof jQuery(this).acrPopover === \\'function\\') { jQuery(this).acrPopover(); } }); }); 5.0 out of 5 stars See all reviews 1 review 5.0 out of 5 stars Best Sellers Rank 448,012 in Toys & Games (See top 100) #302 inÂ\\xa0Toys & Games > Model Trains & Railway Sets > Rail Vehicles > Locomotives Shipping Weight671 g Delivery Destinations:Visit the Delivery Destinations Help page to see where this item can be delivered. Date First Available2 Aug. 2014 Â\\xa0Â\\xa0 Feedback Â\\xa0Would you like to update product info or give feedback on images?'\n",
      " 'Technical Details Item Weight458 g Product Dimensions15.2 x 3.4 x 30.5 cm Manufacturer recommended age:4 years and up Item model number54232 Main Language(s)English Number of Game Players1 Number of Puzzle Pieces4 Batteries Required?No Batteries Included?No Material Type(s)Plastic Material Composition95% plastic, 5% paper Remote Control Included?No Radio Control Suitabilityindoor Â\\xa0Â\\xa0 Additional Information ASINB007T4KOD8 Best Sellers Rank 280,899 in Toys & Games (See top 100) #477 inÂ\\xa0Toys & Games > Model Trains & Railway Sets > Rail Vehicles > Trains Shipping Weight458 g Delivery Destinations:Visit the Delivery Destinations Help page to see where this item can be delivered. Date First Available9 Jun. 2012 Â\\xa0Â\\xa0 Feedback Â\\xa0Would you like to update product info or give feedback on images?'\n",
      " 'Technical Details Item Weight998 g Product Dimensions86.6 x 74.1 x 13.9 cm Batteries:8 AA batteries required. Manufacturer recommended age:36 months - 10 years Item model numberLC55205UK Main Language(s)French manual Assembly RequiredYes Batteries Required?Yes Batteries Included?No Material Type(s)Plastic Material Composition100% Plastic Colormulticoloured Â\\xa0Â\\xa0 Additional Information ASINB004IU3DD4 Best Sellers Rank 272,255 in Toys & Games (See top 100) #455 inÂ\\xa0Toys & Games > Model Trains & Railway Sets > Rail Vehicles > Trains Shipping Weight1.7 Kg Delivery Destinations:Visit the Delivery Destinations Help page to see where this item can be delivered. Date First Available12 Jan. 2011 Â\\xa0Â\\xa0 Feedback Â\\xa0Would you like to update product info or give feedback on images?']\n",
      "\tRange of length :  3  to  2459\n",
      "\tMissing Values :  4\n"
     ]
    }
   ],
   "source": [
    "# Analyze Product Information - no change required\n",
    "ColSummary('product_information')"
   ]
  },
  {
   "cell_type": "code",
   "execution_count": 18,
   "metadata": {
    "execution": {
     "iopub.execute_input": "2022-03-13T13:26:49.666328Z",
     "iopub.status.busy": "2022-03-13T13:26:49.666054Z",
     "iopub.status.idle": "2022-03-13T13:26:49.690181Z",
     "shell.execute_reply": "2022-03-13T13:26:49.689342Z",
     "shell.execute_reply.started": "2022-03-13T13:26:49.666289Z"
    }
   },
   "outputs": [
    {
     "name": "stdout",
     "output_type": "stream",
     "text": [
      "\n",
      "PRODUCT_DESCRIPTION ANALYSIS\n",
      "\tTotal number of values :  859\n",
      "\tTotal number of unique values :  766\n",
      "\tUnique values :  ['Product Description An amazingly Interactive Chuggington World! Chuggington Interactive Chatsworth instantly recognises and \"magically\" talks to any other engine, training stop and set accessories. This engine has over 60 sounds and phrases (when used with other Chuggington interactive products). Featuring the actual voice from the Chuggington show. Each Interactive talking engine features Smart Talk technology which enables them to instantly recognise any other engine, react to any train stop and respond to your play! Chuggington Interactive is a magical open ended play system featuring iconic destinations and characters from the BBC\\'s CBeebies top rated preschool show Chuggington. Chatsworth is a very proper engine who lives next door to Harrison in the upper level of the roundhouse. Chatsworth is honest, good mannered, polite and considerate of others, however he considers himself as the upper crust of Chuggington. On time, clean and in fine repair, Chatsworth always presents his best wheel forward, as first impressions are very important to him. Engines recognise and \"magically\" talk to each other, training stops and set accessories. Requires 2 x AA batteries (included). Box Contains 1 x Interactive Chatsworth engine'\n",
      " 'Suitable for the following scale(s): N Scale'\n",
      " 'From 8-year-old: AgeTarget Gender: BoysFrom 8-year-old: AgeThe main production country: JapanTarget Gender: Boys'\n",
      " 'Product Description 4 collectible cars that are perfect for any POWER TRAINS collection! Completely compatible, works on all track and with all engines! Box Contains 4 collectible carriages'\n",
      " \"Product Description The Chuggington Interactive Railway brings your favourite engines to life via SmartTalk(tm) technology! The Wash and Fuel Set features 33 total pieces, including an Interactive Brewster engine, a Chug Wash and Fuel Depot.As with all Chuggington Interactive engines, Brewster actually recognizes and reacts with other Chuggington Interactive engines and train stops! This set features over 175 sounds and phrases when used with other Chuggington Interactive products...the more pieces you add, the more interactive your world becomes! Chuggington Interactive is a magical open ended play system featuring iconic destinations and characters from the BBC's CBeebies top rated preschool show Chuggington. Box Contains 33 total piece Wash and Fuel Set\"]\n",
      "\tRange of length :  1  to  4264\n",
      "\tMissing Values :  68\n"
     ]
    }
   ],
   "source": [
    "# Analyze Product Description - no change required\n",
    "\n",
    "# the values look similar to description column - this column might not add much value \n",
    "ColSummary('product_description')"
   ]
  },
  {
   "cell_type": "code",
   "execution_count": 19,
   "metadata": {
    "execution": {
     "iopub.execute_input": "2022-03-13T13:26:49.69162Z",
     "iopub.status.busy": "2022-03-13T13:26:49.691271Z",
     "iopub.status.idle": "2022-03-13T13:26:49.708907Z",
     "shell.execute_reply": "2022-03-13T13:26:49.708193Z",
     "shell.execute_reply.started": "2022-03-13T13:26:49.691582Z"
    }
   },
   "outputs": [
    {
     "name": "stdout",
     "output_type": "stream",
     "text": [
      "\n",
      "ITEMS_CUSTOMERS_BUY_AFTER_VIEWING_THIS_ITEM ANALYSIS\n",
      "\tTotal number of values :  859\n",
      "\tTotal number of unique values :  593\n",
      "\tUnique values :  ['http://www.amazon.co.uk/Chuggington | http://www.amazon.co.uk/Learning-Chuggington | http://www.amazon.co.uk/Chuggington | http://www.amazon.co.uk/Learning-Curve-Chuggington'\n",
      " nan\n",
      " 'http://www.amazon.co.uk/Glacier-Express-Basic-3-Car-Model/dp/B009M019XG | http://www.amazon.co.uk/Glacier-Express-Add-On-4-Car-Model/dp/B009M019R2 | http://www.amazon.co.uk/Peco-Gauge-Starter-Track-Set/dp/B000VKCCVY | http://www.amazon.co.uk/Peco-Shows-You-How-Booklet/dp/B002QVFD3A'\n",
      " 'http://www.amazon.co.uk/Power-Trains-Auto-Loader-City/dp/B007T4KQ40 | http://www.amazon.co.uk/Power-Trains-Action-Accessories | http://www.amazon.co.uk/Power-Trains-Oval-Track-Pack/dp/B007T4KP7S | http://www.amazon.co.uk/Power-City-Trains-Starter-Set/dp/B00L4PMC2O'\n",
      " 'http://www.amazon.co.uk/Chuggington | http://www.amazon.co.uk/Chuggington | http://www.amazon.co.uk/Chuggington | http://www.amazon.co.uk/Learning-Curve-Chuggington']\n",
      "\tRange of length :  3  to  334\n",
      "\tMissing Values :  250\n"
     ]
    }
   ],
   "source": [
    "# Analyze URLs of the next bought product \n",
    "\n",
    "ColSummary('items_customers_buy_after_viewing_this_item')"
   ]
  },
  {
   "cell_type": "code",
   "execution_count": 20,
   "metadata": {
    "execution": {
     "iopub.execute_input": "2022-03-13T13:26:49.710084Z",
     "iopub.status.busy": "2022-03-13T13:26:49.709859Z",
     "iopub.status.idle": "2022-03-13T13:26:49.73419Z",
     "shell.execute_reply": "2022-03-13T13:26:49.733508Z",
     "shell.execute_reply.started": "2022-03-13T13:26:49.710054Z"
    }
   },
   "outputs": [
    {
     "name": "stdout",
     "output_type": "stream",
     "text": [
      "\n",
      "CUSTOMER_QUESTIONS_AND_ANSWERS ANALYSIS\n",
      "\tTotal number of values :  859\n",
      "\tTotal number of unique values :  53\n",
      "\tUnique values :  [nan\n",
      " 'what is the difference between this model and the Green model for 14 plus age group // Hi,  Apart from some minor detailing I believe their is very little difference.                             Regards John,, Shop Amazon Ltd'\n",
      " 'is it DCC // It is not DCC i.e. it does not have a 6 pin DCC socket so a wired DCC decoder will need to be fitted.  http://sumidacrossing.org/Collection/ This link provides information on many JR locos'\n",
      " 'Hi just a query about the Super Boggle, is that a picture of the actual box it looks immaculate if it is as i want to give as present // I am not selling this, but when I ordered a used version of Boggle for a gift, the box was in very good condition with just a dent in one corner.'\n",
      " 'I have broken crosswords timer. How long is it? // I have no idea but will run mine and time it and let you know']\n",
      "\tRange of length :  3  to  2002\n",
      "\tMissing Values :  806\n"
     ]
    }
   ],
   "source": [
    "# Analyze customer Qs \n",
    "ColSummary('customer_questions_and_answers')\n",
    "\n",
    "# There are a lot of missing values in this column\n",
    "# This is not unusual as customers might not have questions about each product"
   ]
  },
  {
   "cell_type": "code",
   "execution_count": 21,
   "metadata": {
    "execution": {
     "iopub.execute_input": "2022-03-13T13:26:49.73531Z",
     "iopub.status.busy": "2022-03-13T13:26:49.735085Z",
     "iopub.status.idle": "2022-03-13T13:26:49.741136Z",
     "shell.execute_reply": "2022-03-13T13:26:49.740219Z",
     "shell.execute_reply.started": "2022-03-13T13:26:49.735282Z"
    }
   },
   "outputs": [
    {
     "data": {
      "text/plain": [
       "(859, 14)"
      ]
     },
     "execution_count": 21,
     "metadata": {},
     "output_type": "execute_result"
    }
   ],
   "source": [
    "# Final df shape after cleaning\n",
    "df.shape"
   ]
  },
  {
   "cell_type": "markdown",
   "metadata": {},
   "source": [
    "# Sec D: Evaluation\n"
   ]
  },
  {
   "cell_type": "markdown",
   "metadata": {},
   "source": [
    "<font color = 'blue'>\n",
    "<h2> Question 1. What are the most popular brands? </h2>\n",
    "\n",
    "There are multiple ways to define \"popular\". I'm going to explore 3 ways here:\n",
    "<ul>\n",
    "    <li>Number of products sold</li>\n",
    "<li>Total sales by price </li>\n",
    "<li>Highest rated products </li>\n",
    "    </ul>"
   ]
  },
  {
   "cell_type": "code",
   "execution_count": 22,
   "metadata": {
    "execution": {
     "iopub.execute_input": "2022-03-13T13:26:49.74264Z",
     "iopub.status.busy": "2022-03-13T13:26:49.742077Z",
     "iopub.status.idle": "2022-03-13T13:26:49.767503Z",
     "shell.execute_reply": "2022-03-13T13:26:49.766708Z",
     "shell.execute_reply.started": "2022-03-13T13:26:49.742601Z"
    }
   },
   "outputs": [
    {
     "data": {
      "text/html": [
       "<div>\n",
       "<style scoped>\n",
       "    .dataframe tbody tr th:only-of-type {\n",
       "        vertical-align: middle;\n",
       "    }\n",
       "\n",
       "    .dataframe tbody tr th {\n",
       "        vertical-align: top;\n",
       "    }\n",
       "\n",
       "    .dataframe thead th {\n",
       "        text-align: right;\n",
       "    }\n",
       "</style>\n",
       "<table border=\"1\" class=\"dataframe\">\n",
       "  <thead>\n",
       "    <tr style=\"text-align: right;\">\n",
       "      <th></th>\n",
       "      <th>product_name</th>\n",
       "    </tr>\n",
       "    <tr>\n",
       "      <th>manufacturer</th>\n",
       "      <th></th>\n",
       "    </tr>\n",
       "  </thead>\n",
       "  <tbody>\n",
       "    <tr>\n",
       "      <th>PokÃ©mon</th>\n",
       "      <td>28</td>\n",
       "    </tr>\n",
       "    <tr>\n",
       "      <th>LEGO</th>\n",
       "      <td>20</td>\n",
       "    </tr>\n",
       "    <tr>\n",
       "      <th>Scalextric</th>\n",
       "      <td>20</td>\n",
       "    </tr>\n",
       "    <tr>\n",
       "      <th>Mattel</th>\n",
       "      <td>19</td>\n",
       "    </tr>\n",
       "    <tr>\n",
       "      <th>Disney</th>\n",
       "      <td>18</td>\n",
       "    </tr>\n",
       "    <tr>\n",
       "      <th>...</th>\n",
       "      <td>...</td>\n",
       "    </tr>\n",
       "    <tr>\n",
       "      <th>Houdini Magic Boxes</th>\n",
       "      <td>1</td>\n",
       "    </tr>\n",
       "    <tr>\n",
       "      <th>Horizon Hobby</th>\n",
       "      <td>1</td>\n",
       "    </tr>\n",
       "    <tr>\n",
       "      <th>Hobby</th>\n",
       "      <td>1</td>\n",
       "    </tr>\n",
       "    <tr>\n",
       "      <th>Heart Art Collection</th>\n",
       "      <td>1</td>\n",
       "    </tr>\n",
       "    <tr>\n",
       "      <th>universal hobby</th>\n",
       "      <td>1</td>\n",
       "    </tr>\n",
       "  </tbody>\n",
       "</table>\n",
       "<p>445 rows × 1 columns</p>\n",
       "</div>"
      ],
      "text/plain": [
       "                      product_name\n",
       "manufacturer                      \n",
       "PokÃ©mon                        28\n",
       "LEGO                            20\n",
       "Scalextric                      20\n",
       "Mattel                          19\n",
       "Disney                          18\n",
       "...                            ...\n",
       "Houdini Magic Boxes              1\n",
       "Horizon Hobby                    1\n",
       "Hobby                            1\n",
       "Heart Art Collection             1\n",
       "universal hobby                  1\n",
       "\n",
       "[445 rows x 1 columns]"
      ]
     },
     "execution_count": 22,
     "metadata": {},
     "output_type": "execute_result"
    }
   ],
   "source": [
    "# number of products sold\n",
    "\n",
    "df[['product_name','manufacturer']].groupby('manufacturer').count().sort_values(by = \"product_name\", ascending = False)"
   ]
  },
  {
   "cell_type": "code",
   "execution_count": 23,
   "metadata": {
    "execution": {
     "iopub.execute_input": "2022-03-13T13:26:49.771652Z",
     "iopub.status.busy": "2022-03-13T13:26:49.768397Z",
     "iopub.status.idle": "2022-03-13T13:26:49.797329Z",
     "shell.execute_reply": "2022-03-13T13:26:49.79643Z",
     "shell.execute_reply.started": "2022-03-13T13:26:49.771594Z"
    }
   },
   "outputs": [
    {
     "data": {
      "text/html": [
       "<div>\n",
       "<style scoped>\n",
       "    .dataframe tbody tr th:only-of-type {\n",
       "        vertical-align: middle;\n",
       "    }\n",
       "\n",
       "    .dataframe tbody tr th {\n",
       "        vertical-align: top;\n",
       "    }\n",
       "\n",
       "    .dataframe thead th {\n",
       "        text-align: right;\n",
       "    }\n",
       "</style>\n",
       "<table border=\"1\" class=\"dataframe\">\n",
       "  <thead>\n",
       "    <tr style=\"text-align: right;\">\n",
       "      <th></th>\n",
       "      <th>price</th>\n",
       "    </tr>\n",
       "    <tr>\n",
       "      <th>manufacturer</th>\n",
       "      <th></th>\n",
       "    </tr>\n",
       "  </thead>\n",
       "  <tbody>\n",
       "    <tr>\n",
       "      <th>13</th>\n",
       "      <td>0.0</td>\n",
       "    </tr>\n",
       "    <tr>\n",
       "      <th>SAC</th>\n",
       "      <td>0.0</td>\n",
       "    </tr>\n",
       "    <tr>\n",
       "      <th>ShalinIndia</th>\n",
       "      <td>0.0</td>\n",
       "    </tr>\n",
       "    <tr>\n",
       "      <th>Sevi</th>\n",
       "      <td>0.0</td>\n",
       "    </tr>\n",
       "    <tr>\n",
       "      <th>Seasonal</th>\n",
       "      <td>0.0</td>\n",
       "    </tr>\n",
       "    <tr>\n",
       "      <th>...</th>\n",
       "      <td>...</td>\n",
       "    </tr>\n",
       "    <tr>\n",
       "      <th>Green</th>\n",
       "      <td>0.0</td>\n",
       "    </tr>\n",
       "    <tr>\n",
       "      <th>Great Gifts</th>\n",
       "      <td>0.0</td>\n",
       "    </tr>\n",
       "    <tr>\n",
       "      <th>Great Eastern Entertainment</th>\n",
       "      <td>0.0</td>\n",
       "    </tr>\n",
       "    <tr>\n",
       "      <th>GoolRC</th>\n",
       "      <td>0.0</td>\n",
       "    </tr>\n",
       "    <tr>\n",
       "      <th>universal hobby</th>\n",
       "      <td>0.0</td>\n",
       "    </tr>\n",
       "  </tbody>\n",
       "</table>\n",
       "<p>445 rows × 1 columns</p>\n",
       "</div>"
      ],
      "text/plain": [
       "                             price\n",
       "manufacturer                      \n",
       "13                             0.0\n",
       "SAC                            0.0\n",
       "ShalinIndia                    0.0\n",
       "Sevi                           0.0\n",
       "Seasonal                       0.0\n",
       "...                            ...\n",
       "Green                          0.0\n",
       "Great Gifts                    0.0\n",
       "Great Eastern Entertainment    0.0\n",
       "GoolRC                         0.0\n",
       "universal hobby                0.0\n",
       "\n",
       "[445 rows x 1 columns]"
      ]
     },
     "execution_count": 23,
     "metadata": {},
     "output_type": "execute_result"
    }
   ],
   "source": [
    "# Total sales by price\n",
    "\n",
    "df[['price','manufacturer']].groupby('manufacturer').sum().sort_values(by = \"price\", ascending = False)"
   ]
  },
  {
   "cell_type": "code",
   "execution_count": 24,
   "metadata": {
    "execution": {
     "iopub.execute_input": "2022-03-13T13:26:49.799156Z",
     "iopub.status.busy": "2022-03-13T13:26:49.798662Z",
     "iopub.status.idle": "2022-03-13T13:26:49.826688Z",
     "shell.execute_reply": "2022-03-13T13:26:49.825817Z",
     "shell.execute_reply.started": "2022-03-13T13:26:49.799115Z"
    }
   },
   "outputs": [
    {
     "data": {
      "text/html": [
       "<div>\n",
       "<style scoped>\n",
       "    .dataframe tbody tr th:only-of-type {\n",
       "        vertical-align: middle;\n",
       "    }\n",
       "\n",
       "    .dataframe tbody tr th {\n",
       "        vertical-align: top;\n",
       "    }\n",
       "\n",
       "    .dataframe thead th {\n",
       "        text-align: right;\n",
       "    }\n",
       "</style>\n",
       "<table border=\"1\" class=\"dataframe\">\n",
       "  <thead>\n",
       "    <tr style=\"text-align: right;\">\n",
       "      <th></th>\n",
       "      <th>average_review_rating</th>\n",
       "      <th>number_of_reviews</th>\n",
       "    </tr>\n",
       "    <tr>\n",
       "      <th>manufacturer</th>\n",
       "      <th></th>\n",
       "      <th></th>\n",
       "    </tr>\n",
       "  </thead>\n",
       "  <tbody>\n",
       "    <tr>\n",
       "      <th>Fisher-Price</th>\n",
       "      <td>5.0</td>\n",
       "      <td>20.0</td>\n",
       "    </tr>\n",
       "    <tr>\n",
       "      <th>Teddy Hermann</th>\n",
       "      <td>5.0</td>\n",
       "      <td>12.0</td>\n",
       "    </tr>\n",
       "    <tr>\n",
       "      <th>BSP</th>\n",
       "      <td>5.0</td>\n",
       "      <td>11.0</td>\n",
       "    </tr>\n",
       "    <tr>\n",
       "      <th>Cheatwell Games</th>\n",
       "      <td>5.0</td>\n",
       "      <td>8.0</td>\n",
       "    </tr>\n",
       "    <tr>\n",
       "      <th>Tamiya</th>\n",
       "      <td>5.0</td>\n",
       "      <td>8.0</td>\n",
       "    </tr>\n",
       "    <tr>\n",
       "      <th>...</th>\n",
       "      <td>...</td>\n",
       "      <td>...</td>\n",
       "    </tr>\n",
       "    <tr>\n",
       "      <th>Yu-gi-oh!</th>\n",
       "      <td>4.0</td>\n",
       "      <td>1.0</td>\n",
       "    </tr>\n",
       "    <tr>\n",
       "      <th>YuGIOH</th>\n",
       "      <td>4.0</td>\n",
       "      <td>1.0</td>\n",
       "    </tr>\n",
       "    <tr>\n",
       "      <th>basetoys</th>\n",
       "      <td>4.0</td>\n",
       "      <td>1.0</td>\n",
       "    </tr>\n",
       "    <tr>\n",
       "      <th>Drumond Park</th>\n",
       "      <td>3.7</td>\n",
       "      <td>25.0</td>\n",
       "    </tr>\n",
       "    <tr>\n",
       "      <th>Teenage Mutant Ninja Turtles</th>\n",
       "      <td>NaN</td>\n",
       "      <td>0.0</td>\n",
       "    </tr>\n",
       "  </tbody>\n",
       "</table>\n",
       "<p>445 rows × 2 columns</p>\n",
       "</div>"
      ],
      "text/plain": [
       "                              average_review_rating  number_of_reviews\n",
       "manufacturer                                                          \n",
       "Fisher-Price                                    5.0               20.0\n",
       "Teddy Hermann                                   5.0               12.0\n",
       "BSP                                             5.0               11.0\n",
       "Cheatwell Games                                 5.0                8.0\n",
       "Tamiya                                          5.0                8.0\n",
       "...                                             ...                ...\n",
       "Yu-gi-oh!                                       4.0                1.0\n",
       "YuGIOH                                          4.0                1.0\n",
       "basetoys                                        4.0                1.0\n",
       "Drumond Park                                    3.7               25.0\n",
       "Teenage Mutant Ninja Turtles                    NaN                0.0\n",
       "\n",
       "[445 rows x 2 columns]"
      ]
     },
     "execution_count": 24,
     "metadata": {},
     "output_type": "execute_result"
    }
   ],
   "source": [
    "# highest rated\n",
    "\n",
    "ratings_df = df[['average_review_rating', 'number_of_reviews','manufacturer']].groupby('manufacturer').agg({'average_review_rating':'mean', 'number_of_reviews': \"sum\"\n",
    "                                                                                      }).sort_values(by = [\"average_review_rating\",\"number_of_reviews\"], ascending = False)\n",
    "ratings_df"
   ]
  },
  {
   "cell_type": "code",
   "execution_count": 25,
   "metadata": {
    "execution": {
     "iopub.execute_input": "2022-03-13T13:26:49.828574Z",
     "iopub.status.busy": "2022-03-13T13:26:49.828113Z",
     "iopub.status.idle": "2022-03-13T13:26:49.839788Z",
     "shell.execute_reply": "2022-03-13T13:26:49.838984Z",
     "shell.execute_reply.started": "2022-03-13T13:26:49.828532Z"
    }
   },
   "outputs": [
    {
     "name": "stdout",
     "output_type": "stream",
     "text": [
      "\n",
      " Brands with perfect 5 rating: 198\n",
      "\n",
      " Brands with perfect 5 rating and substantial number of reviews: 12 \n",
      "\n",
      "\n"
     ]
    }
   ],
   "source": [
    "# checking number of manufacturers with 5 rating\n",
    "print(\"\\n Brands with perfect 5 rating:\", len(ratings_df[ratings_df[\"average_review_rating\"]==5.0]))\n",
    "\n",
    "# checking number of 5-rated manufactureres which have > 5 number of reviews      \n",
    "print(\"\\n Brands with perfect 5 rating and substantial number of reviews:\",\n",
    "      len(ratings_df[ratings_df[\"average_review_rating\"]==5.0][ratings_df[ratings_df[\"average_review_rating\"]==5.0]\n",
    "                                                               [\"number_of_reviews\"]>5]),\"\\n\\n\")"
   ]
  },
  {
   "cell_type": "markdown",
   "metadata": {},
   "source": [
    "<font color = 'blue'>\n",
    "    <h3> Based on the above visualizations: </h3>\n",
    "\n",
    "- Oxford Diecast, Disney and MyTinyWorld have sold the most products\n",
    "- Oxfort Diecast has had the highest sales by far almost double the second highest\n",
    "- 669 manufacturers have perfect 5 rating but only 22 have been rated 5 on average by 5 or more customers"
   ]
  },
  {
   "cell_type": "markdown",
   "metadata": {},
   "source": [
    "***"
   ]
  },
  {
   "cell_type": "code",
   "execution_count": null,
   "metadata": {},
   "outputs": [],
   "source": [
    "Question 2\n",
    "        Analyse\n",
    "        Visualise\n",
    "        Brief explanation for visualisation"
   ]
  },
  {
   "cell_type": "markdown",
   "metadata": {},
   "source": [
    "\n",
    "<font color = 'blue'>\n",
    "<h2> Question 2. What are some keywords that are repeatedly used by brands in descriptions? </h2> \n",
    "\n",
    "    To evaluate the words marketing / product teams are using to attract customers, we can do a word frequency analysis. A simple way to do this is to create a word-cloud which can be done using an existing library. We can input the following functionalities in the in-build function:\n",
    "- stopwords: words like \"a\", \"the\", are repeated a lot in a sentence but won't be able to give any meaningful insights. Hence, we can eliminate such stopwords from our analysis\n",
    "- mask: be default, the word cloud is in a circular shape, but we can change that using mask\n",
    "- max_words: maximum words to be shown in a word-cloud\n",
    "- max_font_size: maximum font size of the most used word"
   ]
  },
  {
   "cell_type": "code",
   "execution_count": 28,
   "metadata": {
    "execution": {
     "iopub.execute_input": "2022-03-13T13:26:49.841806Z",
     "iopub.status.busy": "2022-03-13T13:26:49.841069Z",
     "iopub.status.idle": "2022-03-13T13:26:49.848428Z",
     "shell.execute_reply": "2022-03-13T13:26:49.847873Z",
     "shell.execute_reply.started": "2022-03-13T13:26:49.841761Z"
    }
   },
   "outputs": [],
   "source": [
    "def show_wordcloud(data, title = None):\n",
    "    stopwords = set(STOPWORDS)\n",
    "    mask = np.array(Image.open(\"./amazon.png\"))\n",
    "    wordcloud = WordCloud(\n",
    "        background_color='white',\n",
    "        stopwords = stopwords,\n",
    "        mask = mask,\n",
    "        max_words=200,\n",
    "        max_font_size=40, \n",
    "        scale=1,\n",
    "        random_state=1\n",
    ").generate(\" \".join(data))\n",
    "\n",
    "    fig = plt.figure(1, figsize=(25, 15))\n",
    "    plt.axis('off')\n",
    "    if title: \n",
    "        fig.suptitle(title, fontsize=20)\n",
    "        fig.subplots_adjust(top=2.3)\n",
    "\n",
    "    plt.imshow(wordcloud)\n",
    "    plt.show()"
   ]
  },
  {
   "cell_type": "code",
   "execution_count": 29,
   "metadata": {
    "execution": {
     "iopub.execute_input": "2022-03-13T13:26:49.849915Z",
     "iopub.status.busy": "2022-03-13T13:26:49.84925Z",
     "iopub.status.idle": "2022-03-13T13:26:54.147197Z",
     "shell.execute_reply": "2022-03-13T13:26:54.146309Z",
     "shell.execute_reply.started": "2022-03-13T13:26:49.849887Z"
    }
   },
   "outputs": [
    {
     "data": {
      "image/png": "[encoded data removed]",
      "text/plain": [
       "<Figure size 1800x1080 with 1 Axes>"
      ]
     },
     "metadata": {
      "needs_background": "light"
     },
     "output_type": "display_data"
    }
   ],
   "source": [
    "col = 'description'\n",
    "wordcloud_df = df[df[col].notna()]\n",
    "show_wordcloud(wordcloud_df[col].values)"
   ]
  },
  {
   "cell_type": "markdown",
   "metadata": {},
   "source": [
    "<font color = 'blue'>\n",
    "    <h3> Based on the above visualization </h3>\n",
    "\n",
    "Some interesting words repeated across descriptions are: Suitable, high quality, classic, great, feature, card"
   ]
  },
  {
   "cell_type": "markdown",
   "metadata": {},
   "source": [
    "***"
   ]
  },
  {
   "cell_type": "markdown",
   "metadata": {},
   "source": [
    "<font color = 'blue'>\n",
    "<h2> Question 3. Can we predict the amazon categories just using the description? </h2>\n",
    "    \n",
    "    I wanted to see how related the description is with the main amazon category, so I built a model to do just that. There are 3 description columns available in the dataset - description, product description and product information. The first 2 columns are pretty similar so I just used one of them; and I created another model with product information so that I can compare these 2 models."
   ]
  },
  {
   "cell_type": "code",
   "execution_count": 30,
   "metadata": {
    "execution": {
     "iopub.execute_input": "2022-03-13T13:26:54.149055Z",
     "iopub.status.busy": "2022-03-13T13:26:54.148466Z",
     "iopub.status.idle": "2022-03-13T13:26:54.154088Z",
     "shell.execute_reply": "2022-03-13T13:26:54.153243Z",
     "shell.execute_reply.started": "2022-03-13T13:26:54.149023Z"
    }
   },
   "outputs": [],
   "source": [
    "def TextClassifier(text_data,label):\n",
    "    \"function to create text classifier for a set of data and labels\"\n",
    "    text_clf = Pipeline([ ('vect', CountVectorizer()), ('tfidf', TfidfTransformer()),('clf', MultinomialNB())])\n",
    "    text_clf = text_clf.fit(text_data, label)\n",
    "    return text_clf"
   ]
  },
  {
   "cell_type": "code",
   "execution_count": 31,
   "metadata": {
    "execution": {
     "iopub.execute_input": "2022-03-13T13:26:54.155529Z",
     "iopub.status.busy": "2022-03-13T13:26:54.155317Z",
     "iopub.status.idle": "2022-03-13T13:26:54.182569Z",
     "shell.execute_reply": "2022-03-13T13:26:54.181631Z",
     "shell.execute_reply.started": "2022-03-13T13:26:54.155504Z"
    }
   },
   "outputs": [],
   "source": [
    "# defining the target variable\n",
    "\n",
    "df['category'] = df['amazon_category_and_sub_category'].apply(lambda x: x[0])\n",
    "\n",
    "categorytolabel = {}\n",
    "i = 1\n",
    "for item in df['category'].unique():\n",
    "    categorytolabel[item] = i\n",
    "    i = i+1\n",
    "\n",
    "df['category_labels'] = df['category'].map(categorytolabel)\n",
    "\n",
    "df = df.groupby('category').filter(lambda x : len(x)>30)\n",
    "df = df.drop(index = list(df[df['category']=='nan'].index))"
   ]
  },
  {
   "cell_type": "code",
   "execution_count": 32,
   "metadata": {
    "execution": {
     "iopub.execute_input": "2022-03-13T13:26:54.185722Z",
     "iopub.status.busy": "2022-03-13T13:26:54.185475Z",
     "iopub.status.idle": "2022-03-13T13:26:55.937565Z",
     "shell.execute_reply": "2022-03-13T13:26:55.936626Z",
     "shell.execute_reply.started": "2022-03-13T13:26:54.185693Z"
    }
   },
   "outputs": [
    {
     "name": "stdout",
     "output_type": "stream",
     "text": [
      "\n",
      "\n",
      " ********* CLASSIFICATION ACCURACY BASED ON PRODUCT INFORMATION *********\n",
      "\n",
      "                          precision    recall  f1-score   support\n",
      "\n",
      "          Arts & Crafts       0.00      0.00      0.00        36\n",
      "    Characters & Brands       0.00      0.00      0.00        79\n",
      "Die-Cast & Toy Vehicles       0.00      0.00      0.00        95\n",
      "            Fancy Dress       0.00      0.00      0.00        41\n",
      "     Figures & Playsets       1.00      0.01      0.02        82\n",
      "                  Games       0.00      0.00      0.00        73\n",
      "                Hobbies       0.37      1.00      0.54       238\n",
      "\n",
      "               accuracy                           0.37       644\n",
      "              macro avg       0.20      0.14      0.08       644\n",
      "           weighted avg       0.26      0.37      0.20       644\n",
      "\n",
      "\n",
      "\n",
      " ********* CLASSIFICATION ACCURACY BASED ON PRODUCT DESCRIPTION *********\n",
      "\n",
      "                          precision    recall  f1-score   support\n",
      "\n",
      "          Arts & Crafts       1.00      0.06      0.11        36\n",
      "    Characters & Brands       1.00      0.09      0.16        79\n",
      "Die-Cast & Toy Vehicles       0.96      0.25      0.40        95\n",
      "            Fancy Dress       1.00      0.22      0.36        41\n",
      "     Figures & Playsets       1.00      0.28      0.44        82\n",
      "                  Games       1.00      0.26      0.41        73\n",
      "                Hobbies       0.43      1.00      0.60       238\n",
      "\n",
      "               accuracy                           0.50       644\n",
      "              macro avg       0.91      0.31      0.35       644\n",
      "           weighted avg       0.78      0.50      0.43       644\n",
      "\n"
     ]
    }
   ],
   "source": [
    "# running the model and comparing the predictions\n",
    "text_df = df[['product_information','product_description']]\n",
    "\n",
    "for col in text_df.columns:\n",
    "    text_df[col] = text_df[col].fillna(value='None')\n",
    "    model = TextClassifier(text_df[col],df['category_labels'])\n",
    "    text_df[col+'_classification'] = model.predict(text_df[col])\n",
    "\n",
    "text_df['product_information_classification'] = text_df['product_information_classification'].map({value : key for (key, value) in categorytolabel.items()})\n",
    "text_df['product_description_classification'] = text_df['product_description_classification'].map({value : key for (key, value) in categorytolabel.items()})\n",
    "df = df.merge(text_df[['product_information_classification','product_description_classification']], how = 'left', left_index = True, right_index = True)\n",
    "\n",
    "\n",
    "from sklearn.metrics import classification_report\n",
    "print(\"\\n\\n ********* CLASSIFICATION ACCURACY BASED ON PRODUCT INFORMATION *********\")\n",
    "print(\"\\n\", classification_report(df['category'], df['product_information_classification'] ))\n",
    "print(\"\\n\\n ********* CLASSIFICATION ACCURACY BASED ON PRODUCT DESCRIPTION *********\")\n",
    "print(\"\\n\", classification_report(df['category'], df['product_description_classification'] ))"
   ]
  },
  {
   "cell_type": "markdown",
   "metadata": {},
   "source": [
    "<font color = \"blue\">\n",
    "<h3>Based on the above results:</h3>\n",
    "Product Description is a better predictor of amazon category compared to product information"
   ]
  },
  {
   "cell_type": "markdown",
   "metadata": {},
   "source": [
    "***"
   ]
  }
 ],
 "metadata": {
  "kernelspec": {
   "display_name": "Python 3 (ipykernel)",
   "language": "python",
   "name": "python3"
  },
  "language_info": {
   "codemirror_mode": {
    "name": "ipython",
    "version": 3
   },
   "file_extension": ".py",
   "mimetype": "text/x-python",
   "name": "python",
   "nbconvert_exporter": "python",
   "pygments_lexer": "ipython3",
   "version": "3.8.5"
  }
 },
 "nbformat": 4,
 "nbformat_minor": 4
}
